{
 "cells": [
  {
   "cell_type": "markdown",
   "metadata": {
    "slideshow": {
     "slide_type": "slide"
    }
   },
   "source": [
    "# Programming in Python, 1TD327, 5hp\n",
    "\n",
    "Lecture 5: Advanced Topics in Python\n",
    "\n",
    "- Cheng Gong\n",
    "- Email: cheng.gong@it.uu.se\n",
    "- Office: ITC 2448\n",
    "\n",
    "<br>\n",
    "\n",
    "\n",
    "Source available: [github.com/enigne/ProgramminginPython](https://github.com/enigne/ProgramminginPython)"
   ]
  },
  {
   "cell_type": "markdown",
   "metadata": {
    "slideshow": {
     "slide_type": "subslide"
    }
   },
   "source": [
    "## Last week\n",
    "\n",
    "1. Dictionary\n",
    "2. File I/O\n",
    "3. matplotlib"
   ]
  },
  {
   "cell_type": "markdown",
   "metadata": {
    "slideshow": {
     "slide_type": "subslide"
    }
   },
   "source": [
    "### About MINI project 1\n",
    "\n",
    "- Don't spend too much time on the smooth functions, you should have done them in lesson 6. If not, they are still in the lowest priority of this MINI project.\n",
    "- Be careful, 'geo' appears in two different places: at the first row and as a country code for Georgia. This is made on purpose. Such a situation is very common in real applications. You should be able to treat the first row of the `csv` file differently than the others. \n",
    "- In order to pass this assignment, you should be able to modify you code and present the data differently. One example might be to change the year of population vs. CO2 emission to the year when you were born. So, when you write your code, try to make it flexible with all the possible parameters."
   ]
  },
  {
   "cell_type": "markdown",
   "metadata": {
    "slideshow": {
     "slide_type": "subslide"
    }
   },
   "source": [
    "### About MINI project 2\n",
    "\n",
    "- It is now available [here](http://www.it.uu.se/edu/course/homepage/prog1/english/lessons/le10/MINI2.html)\n",
    "- Put all the functions in the `epidemic` module and you should be able to use the code in Task B and C to reproduce the same results.\n",
    "- The examination will also require you to modify the module or add additional features into the module, so make sure your simulation can be run efficiently(say, it should finish within 10 seconds). "
   ]
  },
  {
   "cell_type": "markdown",
   "metadata": {
    "slideshow": {
     "slide_type": "slide"
    }
   },
   "source": [
    "## Today -- Advanced Topics in Python\n",
    "\n",
    "1. `enumerate()`\n",
    "2. More about classes\n",
    "3. Iterators\n",
    "4. Useful libraries\n",
    "\n",
    "**Next lecture (Dec, 9) -- Review of the course and examples of the exam**"
   ]
  },
  {
   "cell_type": "markdown",
   "metadata": {
    "slideshow": {
     "slide_type": "slide"
    }
   },
   "source": [
    "### `enumerate()`\n",
    "\n",
    "The `enumerate()` method adds counter to an iterable object to make an enumerate object, and returns it.\n",
    "\n",
    "#### Example 1"
   ]
  },
  {
   "cell_type": "code",
   "execution_count": 1,
   "metadata": {
    "slideshow": {
     "slide_type": "fragment"
    }
   },
   "outputs": [
    {
     "name": "stdout",
     "output_type": "stream",
     "text": [
      "<enumerate object at 0x7f6c1c199ee8>\n"
     ]
    }
   ],
   "source": [
    "country = ['dnk', 'fin', 'isl', 'nor', 'swe']\n",
    "enumCountry = enumerate(country)\n",
    "print(enumCountry)"
   ]
  },
  {
   "cell_type": "code",
   "execution_count": 2,
   "metadata": {
    "slideshow": {
     "slide_type": "fragment"
    }
   },
   "outputs": [
    {
     "name": "stdout",
     "output_type": "stream",
     "text": [
      "[(0, 'dnk'), (1, 'fin'), (2, 'isl'), (3, 'nor'), (4, 'swe')]\n"
     ]
    }
   ],
   "source": [
    "print(list(enumCountry))"
   ]
  },
  {
   "cell_type": "code",
   "execution_count": 3,
   "metadata": {
    "slideshow": {
     "slide_type": "fragment"
    }
   },
   "outputs": [
    {
     "name": "stdout",
     "output_type": "stream",
     "text": [
      "[(100, 'dnk'), (101, 'fin'), (102, 'isl'), (103, 'nor'), (104, 'swe')]\n"
     ]
    }
   ],
   "source": [
    "enumCountry = enumerate(country, 100)\n",
    "print(list(enumCountry))"
   ]
  },
  {
   "cell_type": "markdown",
   "metadata": {
    "slideshow": {
     "slide_type": "subslide"
    }
   },
   "source": [
    "#### Example 2\n",
    "Use in the loop"
   ]
  },
  {
   "cell_type": "code",
   "execution_count": 4,
   "metadata": {
    "slideshow": {
     "slide_type": "fragment"
    }
   },
   "outputs": [
    {
     "name": "stdout",
     "output_type": "stream",
     "text": [
      "(0, 'dnk') | (1, 'fin') | (2, 'isl') | (3, 'nor') | (4, 'swe') | "
     ]
    }
   ],
   "source": [
    "country = ['dnk', 'fin', 'isl', 'nor', 'swe']\n",
    "\n",
    "for item in enumerate(country):\n",
    "    print(item, end=' | ')"
   ]
  },
  {
   "cell_type": "code",
   "execution_count": 5,
   "metadata": {
    "slideshow": {
     "slide_type": "fragment"
    }
   },
   "outputs": [
    {
     "name": "stdout",
     "output_type": "stream",
     "text": [
      "0 dnk | 1 fin | 2 isl | 3 nor | 4 swe | "
     ]
    }
   ],
   "source": [
    "for count, item in enumerate(country):\n",
    "    print(count, item, end=' | ')"
   ]
  },
  {
   "cell_type": "code",
   "execution_count": 6,
   "metadata": {
    "slideshow": {
     "slide_type": "fragment"
    }
   },
   "outputs": [
    {
     "name": "stdout",
     "output_type": "stream",
     "text": [
      "100 dnk | 101 fin | 102 isl | 103 nor | 104 swe | "
     ]
    }
   ],
   "source": [
    "for count, item in enumerate(country, 100):\n",
    "    print(count, item, end=' | ')"
   ]
  },
  {
   "cell_type": "markdown",
   "metadata": {
    "slideshow": {
     "slide_type": "slide"
    }
   },
   "source": [
    "### Class\n",
    "\n",
    "Why use class?\n",
    "\n",
    "#### Example 1"
   ]
  },
  {
   "cell_type": "code",
   "execution_count": 7,
   "metadata": {},
   "outputs": [],
   "source": [
    "class Cat:\n",
    "    def speak(self):\n",
    "        print('Meow!')\n",
    "\n",
    "class Dog:\n",
    "    def speak(self):\n",
    "        print('Woof!')\n",
    "        \n",
    "class Cow:\n",
    "    def speak(self):\n",
    "        print('Moo!')"
   ]
  },
  {
   "cell_type": "code",
   "execution_count": 8,
   "metadata": {
    "slideshow": {
     "slide_type": "fragment"
    }
   },
   "outputs": [
    {
     "name": "stdout",
     "output_type": "stream",
     "text": [
      "Meow!\n",
      "Woof!\n",
      "Moo!\n"
     ]
    }
   ],
   "source": [
    "zoo = [Cat(), Dog(), Cow()]\n",
    "for animal in zoo:\n",
    "    animal.speak()"
   ]
  },
  {
   "cell_type": "markdown",
   "metadata": {
    "slideshow": {
     "slide_type": "subslide"
    }
   },
   "source": [
    "#### Example 2"
   ]
  },
  {
   "cell_type": "code",
   "execution_count": 9,
   "metadata": {},
   "outputs": [],
   "source": [
    "class Point:\n",
    "    def __init__(self, x = 0, y = 0):\n",
    "        self.x = x\n",
    "        self.y = y"
   ]
  },
  {
   "cell_type": "markdown",
   "metadata": {
    "slideshow": {
     "slide_type": "fragment"
    }
   },
   "source": [
    "``` python\n",
    ">>> p1 = Point(1, 2)\n",
    ">>> p2 = Point(2, 3)\n",
    ">>> p1 + p2\n",
    "```"
   ]
  },
  {
   "cell_type": "markdown",
   "metadata": {
    "slideshow": {
     "slide_type": "fragment"
    }
   },
   "source": [
    "``` python\n",
    "---------------------------------------------------------------------------\n",
    "TypeError                                 Traceback (most recent call last)\n",
    "<ipython-input-10-961237203524> in <module>\n",
    "      1 p1 = Point(1, 2)\n",
    "      2 p2 = Point(2, 3)\n",
    "----> 3 p1 + p2\n",
    "\n",
    "TypeError: unsupported operand type(s) for +: 'Point' and 'Point'\n",
    "```"
   ]
  },
  {
   "cell_type": "markdown",
   "metadata": {
    "slideshow": {
     "slide_type": "subslide"
    }
   },
   "source": [
    "The `+` operator is defined for `int`, `float`, `str`, even for `list`, but not for user defined classes."
   ]
  },
  {
   "cell_type": "code",
   "execution_count": 10,
   "metadata": {
    "slideshow": {
     "slide_type": "fragment"
    }
   },
   "outputs": [
    {
     "name": "stdout",
     "output_type": "stream",
     "text": [
      "3\n",
      "ab\n",
      "[1, 3, 5, 'a', 'b', 'd']\n"
     ]
    }
   ],
   "source": [
    "print(1 + 2)\n",
    "print('a' + 'b')\n",
    "print([1, 3, 5] + ['a', 'b', 'd'])"
   ]
  },
  {
   "cell_type": "markdown",
   "metadata": {
    "slideshow": {
     "slide_type": "subslide"
    }
   },
   "source": [
    "#### Overload\n",
    "We need to **overload** the `+` sign for `class Point` with `__add__()` function."
   ]
  },
  {
   "cell_type": "code",
   "execution_count": 11,
   "metadata": {
    "slideshow": {
     "slide_type": "fragment"
    }
   },
   "outputs": [],
   "source": [
    "class Point:\n",
    "    def __init__(self, x = 0, y = 0):\n",
    "        self.x = x\n",
    "        self.y = y\n",
    "    def __add__(self, other):\n",
    "        x = self.x + other.x\n",
    "        y = self.y + other.y\n",
    "        return Point(x, y)"
   ]
  },
  {
   "cell_type": "code",
   "execution_count": 12,
   "metadata": {
    "slideshow": {
     "slide_type": "fragment"
    }
   },
   "outputs": [
    {
     "name": "stdout",
     "output_type": "stream",
     "text": [
      "<__main__.Point object at 0x7f6c1c1b1e48>\n"
     ]
    }
   ],
   "source": [
    "p1 = Point(1, 2)\n",
    "p2 = Point(2, 3)\n",
    "print(p1 + p2)"
   ]
  },
  {
   "cell_type": "markdown",
   "metadata": {
    "slideshow": {
     "slide_type": "subslide"
    }
   },
   "source": [
    "We also need to **overload** the `__str__()` functio in `class Point`, to control how it gets printed."
   ]
  },
  {
   "cell_type": "code",
   "execution_count": 13,
   "metadata": {
    "slideshow": {
     "slide_type": "fragment"
    }
   },
   "outputs": [],
   "source": [
    "class Point:\n",
    "    def __init__(self, x = 0, y = 0):\n",
    "        self.x = x\n",
    "        self.y = y\n",
    "    def __add__(self, other):\n",
    "        x = self.x + other.x\n",
    "        y = self.y + other.y\n",
    "        return Point(x, y)\n",
    "    def __str__(self):\n",
    "        return f\"({self.x}, {self.y})\""
   ]
  },
  {
   "cell_type": "code",
   "execution_count": 14,
   "metadata": {
    "slideshow": {
     "slide_type": "fragment"
    }
   },
   "outputs": [
    {
     "name": "stdout",
     "output_type": "stream",
     "text": [
      "(3, 5)\n"
     ]
    }
   ],
   "source": [
    "p1 = Point(1, 2)\n",
    "p2 = Point(2, 3)\n",
    "print(p1 + p2)"
   ]
  },
  {
   "cell_type": "markdown",
   "metadata": {
    "slideshow": {
     "slide_type": "subslide"
    }
   },
   "source": [
    "#### Some remarks\n",
    "- Indeead \n",
    "`p1+p2` is equivalent to `p1.__add__(p2)`.\n",
    "\n",
    "- Other methods such as subtraction, multiplication, division, `<`, `>`, etc, can be found [here](https://docs.python.org/3/reference/datamodel.html#emulating-numeric-types).\n",
    "``` python\n",
    "__sub__()\n",
    "__mul__()\n",
    "__truediv__()\n",
    "__lt__()\n",
    "```\n",
    "\n",
    "- These operations may not be valid for all the data types. "
   ]
  },
  {
   "cell_type": "markdown",
   "metadata": {
    "slideshow": {
     "slide_type": "fragment"
    }
   },
   "source": [
    "``` python \n",
    ">>> [1, 2, 3] - [2]\n",
    "```"
   ]
  },
  {
   "cell_type": "markdown",
   "metadata": {
    "slideshow": {
     "slide_type": "fragment"
    }
   },
   "source": [
    "``` python\n",
    "---------------------------------------------------------------------------\n",
    "TypeError                                 Traceback (most recent call last)\n",
    "<ipython-input-15-ba8591ba67bb> in <module>\n",
    "----> 1 [1, 2, 3] - [2]\n",
    "\n",
    "TypeError: unsupported operand type(s) for -: 'list' and 'list'\n",
    "```"
   ]
  },
  {
   "cell_type": "markdown",
   "metadata": {
    "slideshow": {
     "slide_type": "slide"
    }
   },
   "source": [
    "### Recall the example for reading CSV file"
   ]
  },
  {
   "cell_type": "code",
   "execution_count": 15,
   "metadata": {},
   "outputs": [
    {
     "name": "stdout",
     "output_type": "stream",
     "text": [
      "['No', ' Name', ' country']\n",
      "['1', ' Alex', ' USA']\n",
      "['2', ' Erik', ' Sweden']\n",
      "['3', ' Cheng', ' China']\n"
     ]
    }
   ],
   "source": [
    "import csv\n",
    "with open('people.csv', 'r') as csvFile:\n",
    "    reader = csv.reader(csvFile)\n",
    "    for row in reader:\n",
    "        print(row)"
   ]
  },
  {
   "cell_type": "markdown",
   "metadata": {
    "slideshow": {
     "slide_type": "fragment"
    }
   },
   "source": [
    "Quiz: What will happen if you loop for `reader` twice?\n",
    "``` python\n",
    "import csv\n",
    "with open('people.csv', 'r') as csvFile:\n",
    "    reader = csv.reader(csvFile)\n",
    "    for row in reader:\n",
    "        print('First loop:', row)\n",
    "    for row in reader:\n",
    "        print('Second loop:', row)\n",
    "```"
   ]
  },
  {
   "cell_type": "code",
   "execution_count": 16,
   "metadata": {
    "slideshow": {
     "slide_type": "subslide"
    }
   },
   "outputs": [
    {
     "name": "stdout",
     "output_type": "stream",
     "text": [
      "First loop: ['No', ' Name', ' country']\n",
      "First loop: ['1', ' Alex', ' USA']\n",
      "First loop: ['2', ' Erik', ' Sweden']\n",
      "First loop: ['3', ' Cheng', ' China']\n"
     ]
    }
   ],
   "source": [
    "import csv\n",
    "\n",
    "with open('people.csv', 'r') as csvFile:\n",
    "    reader = csv.reader(csvFile)\n",
    "    for row in reader:\n",
    "        print('First loop:', row)\n",
    "    for row in reader:\n",
    "        print('Second loop:', row)"
   ]
  },
  {
   "cell_type": "markdown",
   "metadata": {
    "slideshow": {
     "slide_type": "subslide"
    }
   },
   "source": [
    "### Iterators\n",
    "\n",
    "- Iterators are objects that can be iterated upon. It will return one element at a time.\n",
    "- In python, an iterator object must have the __iterator protocol__: `__iter__` and `__next__` methods.\n",
    "- An object is called __iterable__ if we can get an iterator from it. Most of built-in containers in Python like: `list`, `dict`, `string` etc. are iterable. One can use `iter()` function to return an iterator from these objects."
   ]
  },
  {
   "cell_type": "markdown",
   "metadata": {
    "slideshow": {
     "slide_type": "subslide"
    }
   },
   "source": [
    "#### Example 1\n",
    "\n",
    "``` python \n",
    "my_list = [1, 8, 3]\n",
    "my_iter = iter(my_list)\n",
    "```\n",
    "What will happen if we call the following functions?\n",
    "``` python \n",
    "print(next(my_iter))\n",
    "print(next(my_iter))\n",
    "print(my_iter.__next__())\n",
    "print(my_iter.__next__())\n",
    "```"
   ]
  },
  {
   "cell_type": "code",
   "execution_count": 17,
   "metadata": {
    "slideshow": {
     "slide_type": "subslide"
    }
   },
   "outputs": [
    {
     "name": "stdout",
     "output_type": "stream",
     "text": [
      "1\n"
     ]
    }
   ],
   "source": [
    "my_list = [1, 8, 3]\n",
    "my_iter = iter(my_list)\n",
    "print(next(my_iter))"
   ]
  },
  {
   "cell_type": "code",
   "execution_count": 18,
   "metadata": {
    "slideshow": {
     "slide_type": "fragment"
    }
   },
   "outputs": [
    {
     "name": "stdout",
     "output_type": "stream",
     "text": [
      "8\n"
     ]
    }
   ],
   "source": [
    "print(next(my_iter))"
   ]
  },
  {
   "cell_type": "code",
   "execution_count": 19,
   "metadata": {
    "slideshow": {
     "slide_type": "fragment"
    }
   },
   "outputs": [
    {
     "name": "stdout",
     "output_type": "stream",
     "text": [
      "3\n"
     ]
    }
   ],
   "source": [
    "print(my_iter.__next__())"
   ]
  },
  {
   "cell_type": "markdown",
   "metadata": {
    "slideshow": {
     "slide_type": "fragment"
    }
   },
   "source": [
    "``` python\n",
    "print(my_iter.__next__())\n",
    "```"
   ]
  },
  {
   "cell_type": "markdown",
   "metadata": {
    "slideshow": {
     "slide_type": "fragment"
    }
   },
   "source": [
    "``` python\n",
    "---------------------------------------------------------------------------\n",
    "StopIteration                             Traceback (most recent call last)\n",
    "<ipython-input-58-4091dee71d9f> in <module>\n",
    "----> 1 print(my_iter.__next__())\n",
    "\n",
    "StopIteration: \n",
    "```"
   ]
  },
  {
   "cell_type": "markdown",
   "metadata": {
    "slideshow": {
     "slide_type": "subslide"
    }
   },
   "source": [
    "#### Example 2 -- Use for loop"
   ]
  },
  {
   "cell_type": "code",
   "execution_count": 20,
   "metadata": {},
   "outputs": [
    {
     "name": "stdout",
     "output_type": "stream",
     "text": [
      "1\n",
      "8\n",
      "3\n"
     ]
    }
   ],
   "source": [
    "for item in my_list:\n",
    "    print(item)"
   ]
  },
  {
   "cell_type": "markdown",
   "metadata": {
    "slideshow": {
     "slide_type": "fragment"
    }
   },
   "source": [
    "How does the `for` loop work in this case?"
   ]
  },
  {
   "cell_type": "code",
   "execution_count": 21,
   "metadata": {},
   "outputs": [
    {
     "name": "stdout",
     "output_type": "stream",
     "text": [
      "1\n",
      "8\n",
      "3\n"
     ]
    }
   ],
   "source": [
    "# create an iterator object from that iterable\n",
    "iter_obj = iter(my_list)\n",
    "# infinite loop\n",
    "while True:\n",
    "    try:\n",
    "        # get the next item\n",
    "        item = next(iter_obj)\n",
    "        # do the tasks in the for loop\n",
    "        print(item)\n",
    "    except StopIteration:\n",
    "        # if StopIteration is raised, break from loop\n",
    "        break"
   ]
  },
  {
   "cell_type": "markdown",
   "metadata": {
    "slideshow": {
     "slide_type": "subslide"
    }
   },
   "source": [
    "#### Build an iterator"
   ]
  },
  {
   "cell_type": "code",
   "execution_count": 22,
   "metadata": {},
   "outputs": [],
   "source": [
    "class even:\n",
    "    def __init__(self, max = 0):\n",
    "        self.max = max\n",
    "\n",
    "    def __iter__(self):\n",
    "        self.n = 0\n",
    "        return self\n",
    "\n",
    "    def __next__(self):\n",
    "        if self.n <= self.max:\n",
    "            result = 2 * self.n\n",
    "            self.n += 1\n",
    "            return result\n",
    "        else:\n",
    "            raise StopIteration"
   ]
  },
  {
   "cell_type": "markdown",
   "metadata": {},
   "source": [
    "- To build an iterator, we just need to implement the __iterator protocol__: `__iter__()` and `__next__()` methods.\n",
    "- The `__iter__()` method returns the iterator object itself. If required, some initialization can be performed.\n",
    "- The `__next__()` method returns the next item in the sequence. When reaching the end, and in subsequent calls, it must raise `StopIteration`."
   ]
  },
  {
   "cell_type": "code",
   "execution_count": 23,
   "metadata": {
    "slideshow": {
     "slide_type": "fragment"
    }
   },
   "outputs": [
    {
     "name": "stdout",
     "output_type": "stream",
     "text": [
      "0 2 4 6 8 10 12 14 16 18 20 22 24 26 28 30 "
     ]
    }
   ],
   "source": [
    "for i in even(15):\n",
    "    print(i, end=' ')"
   ]
  },
  {
   "cell_type": "markdown",
   "metadata": {
    "slideshow": {
     "slide_type": "subslide"
    }
   },
   "source": [
    "#### Recall the generator we mentioned in Lecture 2"
   ]
  },
  {
   "cell_type": "code",
   "execution_count": 24,
   "metadata": {},
   "outputs": [],
   "source": [
    "def even_generator_infinite():\n",
    "    x = 0\n",
    "    while True:\n",
    "        if x % 2 == 0:\n",
    "            yield x\n",
    "        x += 1"
   ]
  },
  {
   "cell_type": "code",
   "execution_count": 25,
   "metadata": {
    "slideshow": {
     "slide_type": "fragment"
    }
   },
   "outputs": [
    {
     "name": "stdout",
     "output_type": "stream",
     "text": [
      "0 2 4 6 8 10 12 14 16 18 20 22 24 26 28 "
     ]
    }
   ],
   "source": [
    "even_gen = even_generator_infinite()\n",
    "for i in range(15):\n",
    "    print(next(even_gen), end=\" \")"
   ]
  },
  {
   "cell_type": "markdown",
   "metadata": {
    "slideshow": {
     "slide_type": "fragment"
    }
   },
   "source": [
    "####  Generator vs. Iterator\n",
    "\n",
    "- `generator` function contains one or more yield statement, `iterator` is a class with `__iter__()` and `__next__()` methods.\n",
    "- When `generator` is called, it returns an object (iterator).\n",
    "- Methods like `__iter__()` and `__next__()` are implemented automatically in `generator`. But, you have to implement them in `iterator`.\n",
    "- we can iterate through the items using `next()` for both of them.\n",
    "- In `generator`, when the function terminates, `StopIteration` is raised automatically on further calls."
   ]
  },
  {
   "cell_type": "markdown",
   "metadata": {
    "slideshow": {
     "slide_type": "subslide"
    }
   },
   "source": [
    "#### How to get the first row separately?\n",
    "``` python\n",
    "import csv\n",
    "with open('people.csv', 'r') as csvFile:\n",
    "    reader = csv.reader(csvFile)\n",
    "    for row in reader:\n",
    "        print(row)\n",
    "```"
   ]
  },
  {
   "cell_type": "code",
   "execution_count": 26,
   "metadata": {
    "slideshow": {
     "slide_type": "fragment"
    }
   },
   "outputs": [
    {
     "name": "stdout",
     "output_type": "stream",
     "text": [
      "First row: ['No', ' Name', ' country']\n",
      "Other row: ['1', ' Alex', ' USA']\n",
      "Other row: ['2', ' Erik', ' Sweden']\n",
      "Other row: ['3', ' Cheng', ' China']\n"
     ]
    }
   ],
   "source": [
    "import csv\n",
    "\n",
    "with open('people.csv', 'r') as csvFile:\n",
    "    reader = csv.reader(csvFile)\n",
    "    firstRow = next(reader)\n",
    "    print('First row:', firstRow)\n",
    "    for row in reader:\n",
    "        print('Other row:', row)"
   ]
  },
  {
   "cell_type": "markdown",
   "metadata": {
    "slideshow": {
     "slide_type": "slide"
    }
   },
   "source": [
    "### Some useful libraries\n",
    "\n",
    "* [**NumPy**](https://numpy.org/) is a Python library for multi-dimensional arrays and matrices, along with a large collection of high-level mathematical functions to operate on these arrays.\n",
    "* [**SciPy**](https://www.scipy.org/) is a Python library for scientific computing. It contains modules for optimization, linear algebra, integration, interpolation, special functions, FFT, signal and image processing, ODE solvers and other tasks common in science and engineering.\n",
    "* [**Pandas**](https://pandas.pydata.org/) is a Python library for data manipulation and analysis. It offers data structures and operations for manipulating numerical tables and time series. \n",
    "\n",
    "Recommand reading: [Elegant SciPy](https://github.com/elegant-scipy/elegant-scipy)"
   ]
  },
  {
   "cell_type": "markdown",
   "metadata": {
    "slideshow": {
     "slide_type": "subslide"
    }
   },
   "source": [
    "### Array\n",
    "\n",
    "Arrays are similar to lists, but can only contain data of the same type. However, arrays are much more suitable for mathematics because they support operations, such as `+` and `-`, on all elements in an array at the same time. To use arrays we need the **NumPy** library."
   ]
  },
  {
   "cell_type": "code",
   "execution_count": 27,
   "metadata": {
    "slideshow": {
     "slide_type": "fragment"
    }
   },
   "outputs": [],
   "source": [
    "import numpy as np"
   ]
  },
  {
   "cell_type": "code",
   "execution_count": 28,
   "metadata": {
    "slideshow": {
     "slide_type": "fragment"
    }
   },
   "outputs": [
    {
     "name": "stdout",
     "output_type": "stream",
     "text": [
      "[1 2 3 4]\n"
     ]
    }
   ],
   "source": [
    "a = np.array([1, 2, 3, 4])\n",
    "print(a)"
   ]
  },
  {
   "cell_type": "markdown",
   "metadata": {
    "slideshow": {
     "slide_type": "subslide"
    }
   },
   "source": [
    "#### Array vs. list"
   ]
  },
  {
   "cell_type": "markdown",
   "metadata": {
    "slideshow": {
     "slide_type": "fragment"
    }
   },
   "source": [
    "* Access an element by index"
   ]
  },
  {
   "cell_type": "code",
   "execution_count": 29,
   "metadata": {
    "slideshow": {
     "slide_type": "fragment"
    }
   },
   "outputs": [
    {
     "name": "stdout",
     "output_type": "stream",
     "text": [
      "1\n"
     ]
    }
   ],
   "source": [
    "print(a[0])"
   ]
  },
  {
   "cell_type": "markdown",
   "metadata": {
    "slideshow": {
     "slide_type": "fragment"
    }
   },
   "source": [
    "* Check the length"
   ]
  },
  {
   "cell_type": "code",
   "execution_count": 30,
   "metadata": {
    "slideshow": {
     "slide_type": "fragment"
    }
   },
   "outputs": [
    {
     "name": "stdout",
     "output_type": "stream",
     "text": [
      "4\n"
     ]
    }
   ],
   "source": [
    "print(len(a))"
   ]
  },
  {
   "cell_type": "markdown",
   "metadata": {
    "slideshow": {
     "slide_type": "fragment"
    }
   },
   "source": [
    "* `numpy.array` is also mutable like `list`"
   ]
  },
  {
   "cell_type": "code",
   "execution_count": 31,
   "metadata": {
    "slideshow": {
     "slide_type": "fragment"
    }
   },
   "outputs": [
    {
     "name": "stdout",
     "output_type": "stream",
     "text": [
      "[10  2  3  4]\n"
     ]
    }
   ],
   "source": [
    "b = a\n",
    "b[0] = 10\n",
    "print(a)"
   ]
  },
  {
   "cell_type": "markdown",
   "metadata": {
    "slideshow": {
     "slide_type": "subslide"
    }
   },
   "source": [
    "* Slicing"
   ]
  },
  {
   "cell_type": "code",
   "execution_count": 32,
   "metadata": {
    "slideshow": {
     "slide_type": "fragment"
    }
   },
   "outputs": [
    {
     "name": "stdout",
     "output_type": "stream",
     "text": [
      "[2 3]\n"
     ]
    }
   ],
   "source": [
    "print(a[1:-1])"
   ]
  },
  {
   "cell_type": "markdown",
   "metadata": {
    "slideshow": {
     "slide_type": "fragment"
    }
   },
   "source": [
    "**NOTE**: a very important difference between slicing arrays and lists. Slicing a `list` returns a copy of that part, but slicing an `array` returns a **view** to that part. **Any changes on the view will modify the original array**."
   ]
  },
  {
   "cell_type": "code",
   "execution_count": 33,
   "metadata": {
    "slideshow": {
     "slide_type": "fragment"
    }
   },
   "outputs": [
    {
     "name": "stdout",
     "output_type": "stream",
     "text": [
      "a before change: [1 2 3 4 5 6]\n",
      "b before change: [1 2 3]\n",
      "a after change: [ 1 10  3  4  5  6]\n",
      "b after change: [ 1 10  3]\n"
     ]
    }
   ],
   "source": [
    "a = np.array([1, 2, 3, 4, 5, 6])\n",
    "b = a[0:3]\n",
    "print(\"a before change:\", a)\n",
    "print(\"b before change:\", b)\n",
    "b[1] = 10\n",
    "print(\"a after change:\", a)\n",
    "print(\"b after change:\", b)"
   ]
  },
  {
   "cell_type": "markdown",
   "metadata": {
    "slideshow": {
     "slide_type": "fragment"
    }
   },
   "source": [
    "To avoid modification, you also need to use `copy()`\n",
    "```python\n",
    "b = a[0:3].copy()\n",
    "```"
   ]
  },
  {
   "cell_type": "markdown",
   "metadata": {
    "slideshow": {
     "slide_type": "subslide"
    }
   },
   "source": [
    "#### Create an array\n",
    "\n",
    "The most straightforward way is to use `numpy.array()`, but there are other ways:`"
   ]
  },
  {
   "cell_type": "code",
   "execution_count": 34,
   "metadata": {
    "slideshow": {
     "slide_type": "fragment"
    }
   },
   "outputs": [
    {
     "name": "stdout",
     "output_type": "stream",
     "text": [
      "[0. 0. 0. 0. 0. 0. 0.]\n"
     ]
    }
   ],
   "source": [
    "print(np.zeros(7))"
   ]
  },
  {
   "cell_type": "code",
   "execution_count": 35,
   "metadata": {
    "slideshow": {
     "slide_type": "fragment"
    }
   },
   "outputs": [
    {
     "name": "stdout",
     "output_type": "stream",
     "text": [
      "[9. 9. 9. 9. 9. 9. 9.]\n"
     ]
    }
   ],
   "source": [
    "print(np.zeros(7) + 9)"
   ]
  },
  {
   "cell_type": "code",
   "execution_count": 36,
   "metadata": {
    "slideshow": {
     "slide_type": "fragment"
    }
   },
   "outputs": [
    {
     "name": "stdout",
     "output_type": "stream",
     "text": [
      "[1. 1. 1. 1. 1. 1. 1.]\n"
     ]
    }
   ],
   "source": [
    "print(np.ones(7))"
   ]
  },
  {
   "cell_type": "code",
   "execution_count": 37,
   "metadata": {
    "slideshow": {
     "slide_type": "fragment"
    }
   },
   "outputs": [
    {
     "name": "stdout",
     "output_type": "stream",
     "text": [
      "[9. 9. 9. 9. 9. 9. 9.]\n"
     ]
    }
   ],
   "source": [
    "print(np.ones(7)*9)"
   ]
  },
  {
   "cell_type": "code",
   "execution_count": 38,
   "metadata": {
    "slideshow": {
     "slide_type": "fragment"
    }
   },
   "outputs": [
    {
     "name": "stdout",
     "output_type": "stream",
     "text": [
      "[0 1 2 3 4 5]\n"
     ]
    }
   ],
   "source": [
    "print(np.arange(0, 6, 1))"
   ]
  },
  {
   "cell_type": "code",
   "execution_count": 39,
   "metadata": {
    "slideshow": {
     "slide_type": "fragment"
    }
   },
   "outputs": [
    {
     "name": "stdout",
     "output_type": "stream",
     "text": [
      "[0.         0.66666667 1.33333333 2.         2.66666667 3.33333333\n",
      " 4.         4.66666667 5.33333333 6.        ]\n"
     ]
    }
   ],
   "source": [
    "print(np.linspace(0, 6, 10))"
   ]
  },
  {
   "cell_type": "markdown",
   "metadata": {
    "slideshow": {
     "slide_type": "subslide"
    }
   },
   "source": [
    "#### Size of the array\n",
    "\n",
    "The `array` has a variable `shape`"
   ]
  },
  {
   "cell_type": "code",
   "execution_count": 40,
   "metadata": {
    "slideshow": {
     "slide_type": "fragment"
    }
   },
   "outputs": [
    {
     "name": "stdout",
     "output_type": "stream",
     "text": [
      "[1 2 3 4 5]\n",
      "(5,)\n",
      "5\n"
     ]
    }
   ],
   "source": [
    "a = np.arange(1, 6, 1)\n",
    "print(a)\n",
    "print(a.shape)\n",
    "print(a.shape[0])"
   ]
  },
  {
   "cell_type": "markdown",
   "metadata": {
    "slideshow": {
     "slide_type": "fragment"
    }
   },
   "source": [
    "We can reshape (transpose) the array."
   ]
  },
  {
   "cell_type": "code",
   "execution_count": 41,
   "metadata": {},
   "outputs": [
    {
     "name": "stdout",
     "output_type": "stream",
     "text": [
      "[1 2 3 4 5]\n",
      "[[1]\n",
      " [2]\n",
      " [3]\n",
      " [4]\n",
      " [5]]\n",
      "(5, 1)\n"
     ]
    }
   ],
   "source": [
    "aT = np.reshape(a, (len(a), 1))\n",
    "print(a)\n",
    "print(aT)\n",
    "print(aT.shape)"
   ]
  },
  {
   "cell_type": "markdown",
   "metadata": {
    "slideshow": {
     "slide_type": "subslide"
    }
   },
   "source": [
    "#### Broadcasting\n",
    "\n",
    "Perform operations on arrays of compatible shapes."
   ]
  },
  {
   "cell_type": "code",
   "execution_count": 42,
   "metadata": {
    "slideshow": {
     "slide_type": "fragment"
    }
   },
   "outputs": [
    {
     "name": "stdout",
     "output_type": "stream",
     "text": [
      "[[ 1  2  3  4  5]\n",
      " [ 2  4  6  8 10]\n",
      " [ 3  6  9 12 15]\n",
      " [ 4  8 12 16 20]\n",
      " [ 5 10 15 20 25]]\n"
     ]
    }
   ],
   "source": [
    "print(a*aT)"
   ]
  },
  {
   "cell_type": "markdown",
   "metadata": {
    "slideshow": {
     "slide_type": "subslide"
    }
   },
   "source": [
    "#### Mathematical operation\n",
    "\n",
    "We can add, subtract, multiply, and divide `array` of **equal length**. The operation is performed on each element of each `array`."
   ]
  },
  {
   "cell_type": "code",
   "execution_count": 43,
   "metadata": {
    "slideshow": {
     "slide_type": "fragment"
    }
   },
   "outputs": [
    {
     "name": "stdout",
     "output_type": "stream",
     "text": [
      "[4 4 4]\n"
     ]
    }
   ],
   "source": [
    "a = np.array([1, 2, 3])\n",
    "b = np.array([3, 2, 1])\n",
    "print(a + b)"
   ]
  },
  {
   "cell_type": "code",
   "execution_count": 44,
   "metadata": {
    "slideshow": {
     "slide_type": "fragment"
    }
   },
   "outputs": [
    {
     "name": "stdout",
     "output_type": "stream",
     "text": [
      "[-2  0  2]\n"
     ]
    }
   ],
   "source": [
    "print(a - b)"
   ]
  },
  {
   "cell_type": "code",
   "execution_count": 45,
   "metadata": {
    "slideshow": {
     "slide_type": "fragment"
    }
   },
   "outputs": [
    {
     "name": "stdout",
     "output_type": "stream",
     "text": [
      "[3 4 3] [0.33333333 1.         3.        ] [1 4 3]\n"
     ]
    }
   ],
   "source": [
    "print(a * b, a / b, a**b)"
   ]
  },
  {
   "cell_type": "code",
   "execution_count": 46,
   "metadata": {
    "slideshow": {
     "slide_type": "fragment"
    }
   },
   "outputs": [
    {
     "name": "stdout",
     "output_type": "stream",
     "text": [
      "[False False  True]\n"
     ]
    }
   ],
   "source": [
    "print(a > b)"
   ]
  },
  {
   "cell_type": "markdown",
   "metadata": {
    "slideshow": {
     "slide_type": "subslide"
    }
   },
   "source": [
    "#### Mathematical operation 2\n",
    "\n",
    "We can add, subtract, multiply, and divide `array` by a single number:"
   ]
  },
  {
   "cell_type": "code",
   "execution_count": 47,
   "metadata": {
    "slideshow": {
     "slide_type": "fragment"
    }
   },
   "outputs": [
    {
     "name": "stdout",
     "output_type": "stream",
     "text": [
      "[2 3 4]\n"
     ]
    }
   ],
   "source": [
    "a = np.array([1, 2, 3])\n",
    "print(a + 1)"
   ]
  },
  {
   "cell_type": "code",
   "execution_count": 48,
   "metadata": {
    "slideshow": {
     "slide_type": "fragment"
    }
   },
   "outputs": [
    {
     "name": "stdout",
     "output_type": "stream",
     "text": [
      "[-1  0  1] [2 4 6] [1 4 9]\n"
     ]
    }
   ],
   "source": [
    "print(a - 2, a * 2, a ** 2)"
   ]
  },
  {
   "cell_type": "markdown",
   "metadata": {
    "slideshow": {
     "slide_type": "fragment"
    }
   },
   "source": [
    "**Remark**: This utilizes the **broadcasting** feature of numpy array."
   ]
  },
  {
   "cell_type": "markdown",
   "metadata": {
    "slideshow": {
     "slide_type": "subslide"
    }
   },
   "source": [
    "#### Example: optimization in NumPy"
   ]
  },
  {
   "cell_type": "code",
   "execution_count": 58,
   "metadata": {},
   "outputs": [
    {
     "data": {
      "image/png": "[encoded data removed]",
      "text/plain": [
       "<Figure size 432x288 with 1 Axes>"
      ]
     },
     "metadata": {
      "needs_background": "light"
     },
     "output_type": "display_data"
    }
   ],
   "source": [
    "import numpy as np\n",
    "import matplotlib.pyplot as plt\n",
    "\n",
    "def f(x):\n",
    "    return np.square(x) - x + 3.0 + 10.0 * np.sin(x)\n",
    "\n",
    "xs1 = np.arange(-10.0, 10.0, 0.1)\n",
    "ys1 = f(xs1)\n",
    "plt.plot(xs1, ys1)\n",
    "plt.xlabel('x')\n",
    "plt.ylabel('y')\n",
    "plt.legend('f')\n",
    "plt.show()"
   ]
  },
  {
   "cell_type": "code",
   "execution_count": 50,
   "metadata": {
    "slideshow": {
     "slide_type": "subslide"
    }
   },
   "outputs": [
    {
     "data": {
      "image/png": "[encoded data removed]",
      "text/plain": [
       "<Figure size 864x288 with 2 Axes>"
      ]
     },
     "metadata": {
      "needs_background": "light"
     },
     "output_type": "display_data"
    }
   ],
   "source": [
    "%run testOpt.py"
   ]
  },
  {
   "cell_type": "markdown",
   "metadata": {
    "slideshow": {
     "slide_type": "subslide"
    }
   },
   "source": [
    "#### The code for optimization:\n",
    "``` python\n",
    "import numpy as np\n",
    "import matplotlib.pyplot as plt\n",
    "\n",
    "def f(x):\n",
    "    return np.square(x) - x + 3.0 + 10.0 * np.sin(x)\n",
    "\n",
    "def f_prime(x):\n",
    "    return 2.0 * x - 1.0 + 10.0 * np.cos(x)\n",
    "\n",
    "def optimize(x_init, fun, derivative, step_length, iterations=100):\n",
    "    xs = np.zeros((iterations+1,))\n",
    "    xs[0] = x_init\n",
    "    for i in range(iterations):\n",
    "        x = xs[i]\n",
    "        xs[i+1] = x - derivative(x) * step_length\n",
    "    return (xs, fun(xs))\n",
    "\n",
    "if __name__ == '__main__':\n",
    "    x0 = [7, -7]\n",
    "    x_exact = np.arange(-10.0, 10.0, 0.1)\n",
    "\n",
    "    fig, axs = plt.subplots(1, 2, figsize=(12,4))\n",
    "    for (i, ax) in enumerate(axs):\n",
    "        (xs, ys) = optimize(x0[i], f, f_prime, 0.01)\n",
    "        y_exact = f(x_exact)\n",
    "        ax.plot(x_exact, y_exact)\n",
    "        ax.scatter(xs, ys, c=-ys)\n",
    "        ax.set_xlabel('x')\n",
    "        ax.set_ylabel('y')\n",
    "        ax.legend(['f(x)','xs'])\n",
    "        ax.set_title(f'Start from x0={x0[i]}' )\n",
    "```"
   ]
  },
  {
   "cell_type": "markdown",
   "metadata": {
    "slideshow": {
     "slide_type": "slide"
    }
   },
   "source": [
    "### SciPy\n",
    "\n",
    "Recommand reading: [Elegant SciPy](https://github.com/elegant-scipy/elegant-scipy)"
   ]
  },
  {
   "cell_type": "markdown",
   "metadata": {
    "slideshow": {
     "slide_type": "subslide"
    }
   },
   "source": [
    "#### Example1 -- Let's try to use Scipy for the optimization"
   ]
  },
  {
   "cell_type": "code",
   "execution_count": 51,
   "metadata": {
    "slideshow": {
     "slide_type": "fragment"
    }
   },
   "outputs": [
    {
     "name": "stdout",
     "output_type": "stream",
     "text": [
      "      fun: array([-3.68259411])\n",
      " hess_inv: <1x1 LbfgsInvHessProduct with dtype=float64>\n",
      "      jac: array([-3.92453056e-07])\n",
      "  message: b'CONVERGENCE: NORM_OF_PROJECTED_GRADIENT_<=_PGTOL'\n",
      "     nfev: 11\n",
      "      nit: 5\n",
      "   status: 0\n",
      "  success: True\n",
      "        x: array([-1.21968903])\n"
     ]
    }
   ],
   "source": [
    "import scipy.optimize\n",
    "from testOpt import f, f_prime\n",
    "\n",
    "x = scipy.optimize.minimize(f, -7.0, method='L-BFGS-B', jac=f_prime)\n",
    "print(x)"
   ]
  },
  {
   "cell_type": "markdown",
   "metadata": {
    "slideshow": {
     "slide_type": "subslide"
    }
   },
   "source": [
    "#### Example 2 -- The smooth function\n",
    "\n",
    "Use a  uniform filter from *Multi-dimensional image processing* package of SciPy."
   ]
  },
  {
   "cell_type": "code",
   "execution_count": 52,
   "metadata": {},
   "outputs": [
    {
     "name": "stdout",
     "output_type": "stream",
     "text": [
      "smooth_sp(x, 1):  [1.3333333333333333, 3.0, 4.0, 5.0, 3.0, 2.0, 1.0, 1.6666666666666667]\n",
      "smooth_sp(x, 2):  [2.2, 2.8, 3.6, 3.4, 3.2, 2.4, 2.0, 1.4]\n"
     ]
    }
   ],
   "source": [
    "import scipy as sp\n",
    "import scipy.ndimage\n",
    "\n",
    "def smooth_sp(Im, n):\n",
    "    return sp.ndimage.uniform_filter(Im, size=2*n+1, mode='nearest', output='float')\n",
    "\n",
    "x = [1, 2, 6, 4, 5, 0, 1, 2]\n",
    "print('smooth_sp(x, 1): ', list(smooth_sp(x, 1))) \n",
    "print('smooth_sp(x, 2): ', list(smooth_sp(x, 2)))"
   ]
  },
  {
   "cell_type": "markdown",
   "metadata": {
    "slideshow": {
     "slide_type": "subslide"
    }
   },
   "source": [
    "#### Other features and packages in Scipy\n",
    "There are a variety of packages and sub-packages for efficient and accurate scientific computing:\n",
    "- Linear algebra (solving system of equations, eigenvalues, ...)\n",
    "- Geometry\n",
    "- Image Processing\n",
    "- Statistics and probability theory\n",
    "- differential Equations"
   ]
  },
  {
   "cell_type": "markdown",
   "metadata": {
    "slideshow": {
     "slide_type": "slide"
    }
   },
   "source": [
    "### Pandas -- Data importing\n",
    "\n",
    "__Python Data Analysis Library__(`pandas`) is an open source, high-performance, easy-to-use data processing tool for Python.\n",
    "The official website is (http://pandas.pydata.org/)[http://pandas.pydata.org/], the source code is available on Github: http://github.com/pandas-dev/pandas and the official documentation is at http://pandas.pydata.org/pandas-docs/stable/index.html\n",
    "\n",
    "The main features of `pandas` are \n",
    "  - Robust IO tools for loading data from [**flat files**][flat-files](CSV and delimited), [**Excel files**][excel], [**databases**][db], and saving/loading data from the ultrafast [**HDF5 format**][hdfstore]\n",
    "  - Automatic and explicit [**data alignment**][alignment]: objects can be explicitly aligned to a set of labels, or the user can simply ignore the labels and let `Series`, `DataFrame`, etc. automatically align the data for you in computations.\n",
    "  - Easy handling of [**missing data**][missing-data] (represented as `NaN`) in floating point as well as non-floating point data\n",
    "  - Make it [**easy to convert**][conversion] ragged,\n",
    "    differently-indexed data in other Python and NumPy data structures\n",
    "    into DataFrame objects\n",
    "  - Intelligent label-based [**slicing**][slicing], [**fancy\n",
    "    indexing**][fancy-indexing], and [**subsetting**][subsetting] of\n",
    "    large data sets\n",
    "  - Intuitive [**merging**][merging] and [**joining**][joining] data\n",
    "    sets\n",
    "  - Flexible [**reshaping**][reshape] and [**pivoting**][pivot-table] of\n",
    "    data sets\n",
    "  - [**Hierarchical**][mi] labeling of axes (possible to have multiple\n",
    "    labels per tick)\n",
    "  - [**Time series**][timeseries]-specific functionality: date range\n",
    "    generation and frequency conversion, moving window statistics,\n",
    "    moving window linear regressions, date shifting and lagging, etc.\n",
    "\n",
    "\n",
    "   [missing-data]: https://pandas.pydata.org/pandas-docs/stable/missing_data.html#working-with-missing-data\n",
    "   [insertion-deletion]: https://pandas.pydata.org/pandas-docs/stable/dsintro.html#column-selection-addition-deletion\n",
    "   [alignment]: https://pandas.pydata.org/pandas-docs/stable/dsintro.html?highlight=alignment#intro-to-data-structures\n",
    "   [groupby]: https://pandas.pydata.org/pandas-docs/stable/groupby.html#group-by-split-apply-combine\n",
    "   [conversion]: https://pandas.pydata.org/pandas-docs/stable/dsintro.html#dataframe\n",
    "   [slicing]: https://pandas.pydata.org/pandas-docs/stable/indexing.html#slicing-ranges\n",
    "   [fancy-indexing]: https://pandas.pydata.org/pandas-docs/stable/indexing.html#advanced-indexing-with-ix\n",
    "   [subsetting]: https://pandas.pydata.org/pandas-docs/stable/indexing.html#boolean-indexing\n",
    "   [merging]: https://pandas.pydata.org/pandas-docs/stable/merging.html#database-style-dataframe-joining-merging\n",
    "   [joining]: https://pandas.pydata.org/pandas-docs/stable/merging.html#joining-on-index\n",
    "   [reshape]: https://pandas.pydata.org/pandas-docs/stable/reshaping.html#reshaping-and-pivot-tables\n",
    "   [pivot-table]: https://pandas.pydata.org/pandas-docs/stable/reshaping.html#pivot-tables-and-cross-tabulations\n",
    "   [mi]: https://pandas.pydata.org/pandas-docs/stable/indexing.html#hierarchical-indexing-multiindex\n",
    "   [flat-files]: https://pandas.pydata.org/pandas-docs/stable/io.html#csv-text-files\n",
    "   [excel]: https://pandas.pydata.org/pandas-docs/stable/io.html#excel-files\n",
    "   [db]: https://pandas.pydata.org/pandas-docs/stable/io.html#sql-queries\n",
    "   [hdfstore]: https://pandas.pydata.org/pandas-docs/stable/io.html#hdf5-pytables\n",
    "   [timeseries]: https://pandas.pydata.org/pandas-docs/stable/timeseries.html#time-series-date-functionality"
   ]
  },
  {
   "cell_type": "markdown",
   "metadata": {
    "slideshow": {
     "slide_type": "subslide"
    }
   },
   "source": [
    "### Example 1 -- load csv file"
   ]
  },
  {
   "cell_type": "code",
   "execution_count": 53,
   "metadata": {
    "slideshow": {
     "slide_type": "fragment"
    }
   },
   "outputs": [
    {
     "data": {
      "text/html": [
       "<div>\n",
       "<style scoped>\n",
       "    .dataframe tbody tr th:only-of-type {\n",
       "        vertical-align: middle;\n",
       "    }\n",
       "\n",
       "    .dataframe tbody tr th {\n",
       "        vertical-align: top;\n",
       "    }\n",
       "\n",
       "    .dataframe thead th {\n",
       "        text-align: right;\n",
       "    }\n",
       "</style>\n",
       "<table border=\"1\" class=\"dataframe\">\n",
       "  <thead>\n",
       "    <tr style=\"text-align: right;\">\n",
       "      <th></th>\n",
       "      <th>name</th>\n",
       "      <th>code</th>\n",
       "      <th>indicator</th>\n",
       "      <th>1800</th>\n",
       "      <th>1801</th>\n",
       "      <th>1802</th>\n",
       "      <th>1803</th>\n",
       "      <th>...</th>\n",
       "      <th>2012</th>\n",
       "      <th>2013</th>\n",
       "      <th>2014</th>\n",
       "      <th>2015</th>\n",
       "      <th>2016</th>\n",
       "      <th>2017</th>\n",
       "      <th>2018</th>\n",
       "    </tr>\n",
       "  </thead>\n",
       "  <tbody>\n",
       "    <tr>\n",
       "      <th>0</th>\n",
       "      <td>Afghanistan</td>\n",
       "      <td>afg</td>\n",
       "      <td>pop</td>\n",
       "      <td>3280000</td>\n",
       "      <td>3280000</td>\n",
       "      <td>3280000</td>\n",
       "      <td>3280000</td>\n",
       "      <td>...</td>\n",
       "      <td>30696958</td>\n",
       "      <td>31731688</td>\n",
       "      <td>32758020</td>\n",
       "      <td>33736494</td>\n",
       "      <td>34656032</td>\n",
       "      <td>35530081</td>\n",
       "      <td>36373176</td>\n",
       "    </tr>\n",
       "    <tr>\n",
       "      <th>1</th>\n",
       "      <td>Albania</td>\n",
       "      <td>alb</td>\n",
       "      <td>pop</td>\n",
       "      <td>410445</td>\n",
       "      <td>411734</td>\n",
       "      <td>413026</td>\n",
       "      <td>414323</td>\n",
       "      <td>...</td>\n",
       "      <td>2920039</td>\n",
       "      <td>2918978</td>\n",
       "      <td>2920775</td>\n",
       "      <td>2923352</td>\n",
       "      <td>2926348</td>\n",
       "      <td>2930187</td>\n",
       "      <td>2934363</td>\n",
       "    </tr>\n",
       "    <tr>\n",
       "      <th>2</th>\n",
       "      <td>Algeria</td>\n",
       "      <td>dza</td>\n",
       "      <td>pop</td>\n",
       "      <td>2503218</td>\n",
       "      <td>2512195</td>\n",
       "      <td>2521203</td>\n",
       "      <td>2530245</td>\n",
       "      <td>...</td>\n",
       "      <td>37565847</td>\n",
       "      <td>38338562</td>\n",
       "      <td>39113313</td>\n",
       "      <td>39871528</td>\n",
       "      <td>40606052</td>\n",
       "      <td>41318142</td>\n",
       "      <td>42008054</td>\n",
       "    </tr>\n",
       "    <tr>\n",
       "      <th>3</th>\n",
       "      <td>Andorra</td>\n",
       "      <td>and</td>\n",
       "      <td>pop</td>\n",
       "      <td>2654</td>\n",
       "      <td>2654</td>\n",
       "      <td>2654</td>\n",
       "      <td>2654</td>\n",
       "      <td>...</td>\n",
       "      <td>82431</td>\n",
       "      <td>80788</td>\n",
       "      <td>79223</td>\n",
       "      <td>78014</td>\n",
       "      <td>77281</td>\n",
       "      <td>76965</td>\n",
       "      <td>76953</td>\n",
       "    </tr>\n",
       "    <tr>\n",
       "      <th>4</th>\n",
       "      <td>Angola</td>\n",
       "      <td>ago</td>\n",
       "      <td>pop</td>\n",
       "      <td>1567028</td>\n",
       "      <td>1567028</td>\n",
       "      <td>1567028</td>\n",
       "      <td>1567028</td>\n",
       "      <td>...</td>\n",
       "      <td>25096150</td>\n",
       "      <td>25998340</td>\n",
       "      <td>26920466</td>\n",
       "      <td>27859305</td>\n",
       "      <td>28813463</td>\n",
       "      <td>29784193</td>\n",
       "      <td>30774205</td>\n",
       "    </tr>\n",
       "    <tr>\n",
       "      <th>...</th>\n",
       "      <td>...</td>\n",
       "      <td>...</td>\n",
       "      <td>...</td>\n",
       "      <td>...</td>\n",
       "      <td>...</td>\n",
       "      <td>...</td>\n",
       "      <td>...</td>\n",
       "      <td>...</td>\n",
       "      <td>...</td>\n",
       "      <td>...</td>\n",
       "      <td>...</td>\n",
       "      <td>...</td>\n",
       "      <td>...</td>\n",
       "      <td>...</td>\n",
       "      <td>...</td>\n",
       "    </tr>\n",
       "    <tr>\n",
       "      <th>192</th>\n",
       "      <td>Vietnam</td>\n",
       "      <td>vnm</td>\n",
       "      <td>pop</td>\n",
       "      <td>6551000</td>\n",
       "      <td>6551000</td>\n",
       "      <td>6551000</td>\n",
       "      <td>6551000</td>\n",
       "      <td>...</td>\n",
       "      <td>90451881</td>\n",
       "      <td>91497725</td>\n",
       "      <td>92544915</td>\n",
       "      <td>93571567</td>\n",
       "      <td>94569072</td>\n",
       "      <td>95540800</td>\n",
       "      <td>96491146</td>\n",
       "    </tr>\n",
       "    <tr>\n",
       "      <th>193</th>\n",
       "      <td>Yemen</td>\n",
       "      <td>yem</td>\n",
       "      <td>pop</td>\n",
       "      <td>2593000</td>\n",
       "      <td>2593000</td>\n",
       "      <td>2593000</td>\n",
       "      <td>2593000</td>\n",
       "      <td>...</td>\n",
       "      <td>24909969</td>\n",
       "      <td>25576322</td>\n",
       "      <td>26246327</td>\n",
       "      <td>26916207</td>\n",
       "      <td>27584213</td>\n",
       "      <td>28250420</td>\n",
       "      <td>28915284</td>\n",
       "    </tr>\n",
       "    <tr>\n",
       "      <th>194</th>\n",
       "      <td>Zambia</td>\n",
       "      <td>zmb</td>\n",
       "      <td>pop</td>\n",
       "      <td>747000</td>\n",
       "      <td>747000</td>\n",
       "      <td>747000</td>\n",
       "      <td>747000</td>\n",
       "      <td>...</td>\n",
       "      <td>14699937</td>\n",
       "      <td>15153210</td>\n",
       "      <td>15620974</td>\n",
       "      <td>16100587</td>\n",
       "      <td>16591390</td>\n",
       "      <td>17094130</td>\n",
       "      <td>17609178</td>\n",
       "    </tr>\n",
       "    <tr>\n",
       "      <th>195</th>\n",
       "      <td>Zimbabwe</td>\n",
       "      <td>zwe</td>\n",
       "      <td>pop</td>\n",
       "      <td>1085814</td>\n",
       "      <td>1085814</td>\n",
       "      <td>1085814</td>\n",
       "      <td>1085814</td>\n",
       "      <td>...</td>\n",
       "      <td>14710826</td>\n",
       "      <td>15054506</td>\n",
       "      <td>15411675</td>\n",
       "      <td>15777451</td>\n",
       "      <td>16150362</td>\n",
       "      <td>16529904</td>\n",
       "      <td>16913261</td>\n",
       "    </tr>\n",
       "    <tr>\n",
       "      <th>196</th>\n",
       "      <td>South Sudan</td>\n",
       "      <td>ssd</td>\n",
       "      <td>pop</td>\n",
       "      <td>1027378</td>\n",
       "      <td>1028736</td>\n",
       "      <td>1030097</td>\n",
       "      <td>1031459</td>\n",
       "      <td>...</td>\n",
       "      <td>10818258</td>\n",
       "      <td>11177490</td>\n",
       "      <td>11530971</td>\n",
       "      <td>11882136</td>\n",
       "      <td>12230730</td>\n",
       "      <td>12575714</td>\n",
       "      <td>12919053</td>\n",
       "    </tr>\n",
       "  </tbody>\n",
       "</table>\n",
       "<p>197 rows × 222 columns</p>\n",
       "</div>"
      ],
      "text/plain": [
       "            name code indicator     1800     1801     1802     1803    ...     \\\n",
       "0    Afghanistan  afg       pop  3280000  3280000  3280000  3280000    ...      \n",
       "1        Albania  alb       pop   410445   411734   413026   414323    ...      \n",
       "2        Algeria  dza       pop  2503218  2512195  2521203  2530245    ...      \n",
       "3        Andorra  and       pop     2654     2654     2654     2654    ...      \n",
       "4         Angola  ago       pop  1567028  1567028  1567028  1567028    ...      \n",
       "..           ...  ...       ...      ...      ...      ...      ...    ...      \n",
       "192      Vietnam  vnm       pop  6551000  6551000  6551000  6551000    ...      \n",
       "193        Yemen  yem       pop  2593000  2593000  2593000  2593000    ...      \n",
       "194       Zambia  zmb       pop   747000   747000   747000   747000    ...      \n",
       "195     Zimbabwe  zwe       pop  1085814  1085814  1085814  1085814    ...      \n",
       "196  South Sudan  ssd       pop  1027378  1028736  1030097  1031459    ...      \n",
       "\n",
       "         2012      2013      2014      2015      2016      2017      2018  \n",
       "0    30696958  31731688  32758020  33736494  34656032  35530081  36373176  \n",
       "1     2920039   2918978   2920775   2923352   2926348   2930187   2934363  \n",
       "2    37565847  38338562  39113313  39871528  40606052  41318142  42008054  \n",
       "3       82431     80788     79223     78014     77281     76965     76953  \n",
       "4    25096150  25998340  26920466  27859305  28813463  29784193  30774205  \n",
       "..        ...       ...       ...       ...       ...       ...       ...  \n",
       "192  90451881  91497725  92544915  93571567  94569072  95540800  96491146  \n",
       "193  24909969  25576322  26246327  26916207  27584213  28250420  28915284  \n",
       "194  14699937  15153210  15620974  16100587  16591390  17094130  17609178  \n",
       "195  14710826  15054506  15411675  15777451  16150362  16529904  16913261  \n",
       "196  10818258  11177490  11530971  11882136  12230730  12575714  12919053  \n",
       "\n",
       "[197 rows x 222 columns]"
      ]
     },
     "metadata": {},
     "output_type": "display_data"
    }
   ],
   "source": [
    "import pandas as pd\n",
    "\n",
    "df_pop = pd.read_csv('population.csv')\n",
    "pd.set_option('display.max_rows', 10)\n",
    "pd.set_option('display.max_columns', 15)\n",
    "df_pop.rename(columns={\"geo\":\"code\"}, inplace=True)\n",
    "display(df_pop)"
   ]
  },
  {
   "cell_type": "code",
   "execution_count": 54,
   "metadata": {
    "slideshow": {
     "slide_type": "subslide"
    }
   },
   "outputs": [
    {
     "data": {
      "text/html": [
       "<div>\n",
       "<style scoped>\n",
       "    .dataframe tbody tr th:only-of-type {\n",
       "        vertical-align: middle;\n",
       "    }\n",
       "\n",
       "    .dataframe tbody tr th {\n",
       "        vertical-align: top;\n",
       "    }\n",
       "\n",
       "    .dataframe thead th {\n",
       "        text-align: right;\n",
       "    }\n",
       "</style>\n",
       "<table border=\"1\" class=\"dataframe\">\n",
       "  <thead>\n",
       "    <tr style=\"text-align: right;\">\n",
       "      <th></th>\n",
       "      <th>code</th>\n",
       "      <th>Continent_Name</th>\n",
       "      <th>Continent_Code</th>\n",
       "    </tr>\n",
       "  </thead>\n",
       "  <tbody>\n",
       "    <tr>\n",
       "      <th>0</th>\n",
       "      <td>afg</td>\n",
       "      <td>Asia</td>\n",
       "      <td>AS</td>\n",
       "    </tr>\n",
       "    <tr>\n",
       "      <th>1</th>\n",
       "      <td>alb</td>\n",
       "      <td>Europe</td>\n",
       "      <td>EU</td>\n",
       "    </tr>\n",
       "    <tr>\n",
       "      <th>2</th>\n",
       "      <td>dza</td>\n",
       "      <td>Africa</td>\n",
       "      <td>AF</td>\n",
       "    </tr>\n",
       "    <tr>\n",
       "      <th>3</th>\n",
       "      <td>asm</td>\n",
       "      <td>Oceania</td>\n",
       "      <td>OC</td>\n",
       "    </tr>\n",
       "    <tr>\n",
       "      <th>4</th>\n",
       "      <td>and</td>\n",
       "      <td>Europe</td>\n",
       "      <td>EU</td>\n",
       "    </tr>\n",
       "    <tr>\n",
       "      <th>...</th>\n",
       "      <td>...</td>\n",
       "      <td>...</td>\n",
       "      <td>...</td>\n",
       "    </tr>\n",
       "    <tr>\n",
       "      <th>252</th>\n",
       "      <td>zmb</td>\n",
       "      <td>Africa</td>\n",
       "      <td>AF</td>\n",
       "    </tr>\n",
       "    <tr>\n",
       "      <th>253</th>\n",
       "      <td>NaN</td>\n",
       "      <td>Oceania</td>\n",
       "      <td>OC</td>\n",
       "    </tr>\n",
       "    <tr>\n",
       "      <th>254</th>\n",
       "      <td>NaN</td>\n",
       "      <td>Asia</td>\n",
       "      <td>AS</td>\n",
       "    </tr>\n",
       "    <tr>\n",
       "      <th>255</th>\n",
       "      <td>NaN</td>\n",
       "      <td>Asia</td>\n",
       "      <td>AS</td>\n",
       "    </tr>\n",
       "    <tr>\n",
       "      <th>256</th>\n",
       "      <td>NaN</td>\n",
       "      <td>Asia</td>\n",
       "      <td>AS</td>\n",
       "    </tr>\n",
       "  </tbody>\n",
       "</table>\n",
       "<p>257 rows × 3 columns</p>\n",
       "</div>"
      ],
      "text/plain": [
       "    code Continent_Name Continent_Code\n",
       "0    afg           Asia             AS\n",
       "1    alb         Europe             EU\n",
       "2    dza         Africa             AF\n",
       "3    asm        Oceania             OC\n",
       "4    and         Europe             EU\n",
       "..   ...            ...            ...\n",
       "252  zmb         Africa             AF\n",
       "253  NaN        Oceania             OC\n",
       "254  NaN           Asia             AS\n",
       "255  NaN           Asia             AS\n",
       "256  NaN           Asia             AS\n",
       "\n",
       "[257 rows x 3 columns]"
      ]
     },
     "metadata": {},
     "output_type": "display_data"
    }
   ],
   "source": [
    "df_conti = pd.read_csv('country_continent.csv')\n",
    "df_conti.rename(columns={\"Three_Letter_Country_Code\":'code'}, inplace=True)\n",
    "df_conti['code'] = df_conti['code'].str.lower()\n",
    "display(df_conti)"
   ]
  },
  {
   "cell_type": "code",
   "execution_count": 55,
   "metadata": {
    "slideshow": {
     "slide_type": "subslide"
    }
   },
   "outputs": [
    {
     "data": {
      "text/html": [
       "<div>\n",
       "<style scoped>\n",
       "    .dataframe tbody tr th:only-of-type {\n",
       "        vertical-align: middle;\n",
       "    }\n",
       "\n",
       "    .dataframe tbody tr th {\n",
       "        vertical-align: top;\n",
       "    }\n",
       "\n",
       "    .dataframe thead th {\n",
       "        text-align: right;\n",
       "    }\n",
       "</style>\n",
       "<table border=\"1\" class=\"dataframe\">\n",
       "  <thead>\n",
       "    <tr style=\"text-align: right;\">\n",
       "      <th></th>\n",
       "      <th>Country Name_CO2</th>\n",
       "      <th>code</th>\n",
       "      <th>Indicator Name_CO2</th>\n",
       "      <th>1960_CO2</th>\n",
       "      <th>1961_CO2</th>\n",
       "      <th>1962_CO2</th>\n",
       "      <th>1963_CO2</th>\n",
       "      <th>...</th>\n",
       "      <th>2008_CO2</th>\n",
       "      <th>2009_CO2</th>\n",
       "      <th>2010_CO2</th>\n",
       "      <th>2011_CO2</th>\n",
       "      <th>2012_CO2</th>\n",
       "      <th>2013_CO2</th>\n",
       "      <th>2014_CO2</th>\n",
       "    </tr>\n",
       "  </thead>\n",
       "  <tbody>\n",
       "    <tr>\n",
       "      <th>0</th>\n",
       "      <td>Afghanistan</td>\n",
       "      <td>afg</td>\n",
       "      <td>CO2 emissions (kt)</td>\n",
       "      <td>414.371</td>\n",
       "      <td>491.378</td>\n",
       "      <td>689.396</td>\n",
       "      <td>707.731</td>\n",
       "      <td>...</td>\n",
       "      <td>4206.049</td>\n",
       "      <td>6769.282</td>\n",
       "      <td>8463.436</td>\n",
       "      <td>12240.446</td>\n",
       "      <td>10755.311</td>\n",
       "      <td>10014.577</td>\n",
       "      <td>9809.225</td>\n",
       "    </tr>\n",
       "    <tr>\n",
       "      <th>1</th>\n",
       "      <td>Angola</td>\n",
       "      <td>ago</td>\n",
       "      <td>CO2 emissions (kt)</td>\n",
       "      <td>550.050</td>\n",
       "      <td>454.708</td>\n",
       "      <td>1180.774</td>\n",
       "      <td>1151.438</td>\n",
       "      <td>...</td>\n",
       "      <td>25709.337</td>\n",
       "      <td>27792.193</td>\n",
       "      <td>29057.308</td>\n",
       "      <td>30340.758</td>\n",
       "      <td>33399.036</td>\n",
       "      <td>32617.965</td>\n",
       "      <td>34763.160</td>\n",
       "    </tr>\n",
       "    <tr>\n",
       "      <th>2</th>\n",
       "      <td>Albania</td>\n",
       "      <td>alb</td>\n",
       "      <td>CO2 emissions (kt)</td>\n",
       "      <td>2024.184</td>\n",
       "      <td>2280.874</td>\n",
       "      <td>2464.224</td>\n",
       "      <td>2082.856</td>\n",
       "      <td>...</td>\n",
       "      <td>4374.731</td>\n",
       "      <td>4378.398</td>\n",
       "      <td>4598.418</td>\n",
       "      <td>5240.143</td>\n",
       "      <td>4910.113</td>\n",
       "      <td>5064.127</td>\n",
       "      <td>5716.853</td>\n",
       "    </tr>\n",
       "    <tr>\n",
       "      <th>3</th>\n",
       "      <td>United Arab Emirates</td>\n",
       "      <td>are</td>\n",
       "      <td>CO2 emissions (kt)</td>\n",
       "      <td>11.001</td>\n",
       "      <td>11.001</td>\n",
       "      <td>18.335</td>\n",
       "      <td>22.002</td>\n",
       "      <td>...</td>\n",
       "      <td>157354.637</td>\n",
       "      <td>167959.601</td>\n",
       "      <td>160812.618</td>\n",
       "      <td>165440.372</td>\n",
       "      <td>176386.367</td>\n",
       "      <td>170706.184</td>\n",
       "      <td>211369.547</td>\n",
       "    </tr>\n",
       "    <tr>\n",
       "      <th>4</th>\n",
       "      <td>Argentina</td>\n",
       "      <td>arg</td>\n",
       "      <td>CO2 emissions (kt)</td>\n",
       "      <td>48815.104</td>\n",
       "      <td>51180.319</td>\n",
       "      <td>53695.881</td>\n",
       "      <td>50083.886</td>\n",
       "      <td>...</td>\n",
       "      <td>189107.190</td>\n",
       "      <td>179961.692</td>\n",
       "      <td>187919.082</td>\n",
       "      <td>191633.753</td>\n",
       "      <td>192356.152</td>\n",
       "      <td>189851.591</td>\n",
       "      <td>204024.546</td>\n",
       "    </tr>\n",
       "    <tr>\n",
       "      <th>...</th>\n",
       "      <td>...</td>\n",
       "      <td>...</td>\n",
       "      <td>...</td>\n",
       "      <td>...</td>\n",
       "      <td>...</td>\n",
       "      <td>...</td>\n",
       "      <td>...</td>\n",
       "      <td>...</td>\n",
       "      <td>...</td>\n",
       "      <td>...</td>\n",
       "      <td>...</td>\n",
       "      <td>...</td>\n",
       "      <td>...</td>\n",
       "      <td>...</td>\n",
       "      <td>...</td>\n",
       "    </tr>\n",
       "    <tr>\n",
       "      <th>145</th>\n",
       "      <td>Venezuela, RB</td>\n",
       "      <td>ven</td>\n",
       "      <td>CO2 emissions (kt)</td>\n",
       "      <td>57069.521</td>\n",
       "      <td>51928.387</td>\n",
       "      <td>54106.585</td>\n",
       "      <td>56204.109</td>\n",
       "      <td>...</td>\n",
       "      <td>179114.615</td>\n",
       "      <td>179789.343</td>\n",
       "      <td>189070.520</td>\n",
       "      <td>176822.740</td>\n",
       "      <td>198766.068</td>\n",
       "      <td>183922.052</td>\n",
       "      <td>185220.170</td>\n",
       "    </tr>\n",
       "    <tr>\n",
       "      <th>146</th>\n",
       "      <td>Vietnam</td>\n",
       "      <td>vnm</td>\n",
       "      <td>CO2 emissions (kt)</td>\n",
       "      <td>7491.681</td>\n",
       "      <td>7986.726</td>\n",
       "      <td>9347.183</td>\n",
       "      <td>9119.829</td>\n",
       "      <td>...</td>\n",
       "      <td>117993.059</td>\n",
       "      <td>128634.693</td>\n",
       "      <td>142737.975</td>\n",
       "      <td>152169.499</td>\n",
       "      <td>142220.928</td>\n",
       "      <td>147230.050</td>\n",
       "      <td>166910.839</td>\n",
       "    </tr>\n",
       "    <tr>\n",
       "      <th>147</th>\n",
       "      <td>Samoa</td>\n",
       "      <td>wsm</td>\n",
       "      <td>CO2 emissions (kt)</td>\n",
       "      <td>14.668</td>\n",
       "      <td>18.335</td>\n",
       "      <td>18.335</td>\n",
       "      <td>22.002</td>\n",
       "      <td>...</td>\n",
       "      <td>179.683</td>\n",
       "      <td>187.017</td>\n",
       "      <td>187.017</td>\n",
       "      <td>201.685</td>\n",
       "      <td>198.018</td>\n",
       "      <td>198.018</td>\n",
       "      <td>198.018</td>\n",
       "    </tr>\n",
       "    <tr>\n",
       "      <th>148</th>\n",
       "      <td>Yemen, Rep.</td>\n",
       "      <td>yem</td>\n",
       "      <td>CO2 emissions (kt)</td>\n",
       "      <td>3633.997</td>\n",
       "      <td>2665.909</td>\n",
       "      <td>3887.020</td>\n",
       "      <td>2918.932</td>\n",
       "      <td>...</td>\n",
       "      <td>22339.364</td>\n",
       "      <td>24561.566</td>\n",
       "      <td>23432.130</td>\n",
       "      <td>19666.121</td>\n",
       "      <td>18668.697</td>\n",
       "      <td>25496.651</td>\n",
       "      <td>22698.730</td>\n",
       "    </tr>\n",
       "    <tr>\n",
       "      <th>149</th>\n",
       "      <td>South Africa</td>\n",
       "      <td>zaf</td>\n",
       "      <td>CO2 emissions (kt)</td>\n",
       "      <td>97934.569</td>\n",
       "      <td>102213.958</td>\n",
       "      <td>105767.281</td>\n",
       "      <td>109826.650</td>\n",
       "      <td>...</td>\n",
       "      <td>496772.157</td>\n",
       "      <td>503112.400</td>\n",
       "      <td>474099.096</td>\n",
       "      <td>470582.443</td>\n",
       "      <td>468770.945</td>\n",
       "      <td>466376.394</td>\n",
       "      <td>489771.854</td>\n",
       "    </tr>\n",
       "  </tbody>\n",
       "</table>\n",
       "<p>150 rows × 58 columns</p>\n",
       "</div>"
      ],
      "text/plain": [
       "         Country Name_CO2 code  Indicator Name_CO2   1960_CO2    1961_CO2  \\\n",
       "0             Afghanistan  afg  CO2 emissions (kt)    414.371     491.378   \n",
       "1                  Angola  ago  CO2 emissions (kt)    550.050     454.708   \n",
       "2                 Albania  alb  CO2 emissions (kt)   2024.184    2280.874   \n",
       "3    United Arab Emirates  are  CO2 emissions (kt)     11.001      11.001   \n",
       "4               Argentina  arg  CO2 emissions (kt)  48815.104   51180.319   \n",
       "..                    ...  ...                 ...        ...         ...   \n",
       "145         Venezuela, RB  ven  CO2 emissions (kt)  57069.521   51928.387   \n",
       "146               Vietnam  vnm  CO2 emissions (kt)   7491.681    7986.726   \n",
       "147                 Samoa  wsm  CO2 emissions (kt)     14.668      18.335   \n",
       "148           Yemen, Rep.  yem  CO2 emissions (kt)   3633.997    2665.909   \n",
       "149          South Africa  zaf  CO2 emissions (kt)  97934.569  102213.958   \n",
       "\n",
       "       1962_CO2    1963_CO2     ...        2008_CO2    2009_CO2    2010_CO2  \\\n",
       "0       689.396     707.731     ...        4206.049    6769.282    8463.436   \n",
       "1      1180.774    1151.438     ...       25709.337   27792.193   29057.308   \n",
       "2      2464.224    2082.856     ...        4374.731    4378.398    4598.418   \n",
       "3        18.335      22.002     ...      157354.637  167959.601  160812.618   \n",
       "4     53695.881   50083.886     ...      189107.190  179961.692  187919.082   \n",
       "..          ...         ...     ...             ...         ...         ...   \n",
       "145   54106.585   56204.109     ...      179114.615  179789.343  189070.520   \n",
       "146    9347.183    9119.829     ...      117993.059  128634.693  142737.975   \n",
       "147      18.335      22.002     ...         179.683     187.017     187.017   \n",
       "148    3887.020    2918.932     ...       22339.364   24561.566   23432.130   \n",
       "149  105767.281  109826.650     ...      496772.157  503112.400  474099.096   \n",
       "\n",
       "       2011_CO2    2012_CO2    2013_CO2    2014_CO2  \n",
       "0     12240.446   10755.311   10014.577    9809.225  \n",
       "1     30340.758   33399.036   32617.965   34763.160  \n",
       "2      5240.143    4910.113    5064.127    5716.853  \n",
       "3    165440.372  176386.367  170706.184  211369.547  \n",
       "4    191633.753  192356.152  189851.591  204024.546  \n",
       "..          ...         ...         ...         ...  \n",
       "145  176822.740  198766.068  183922.052  185220.170  \n",
       "146  152169.499  142220.928  147230.050  166910.839  \n",
       "147     201.685     198.018     198.018     198.018  \n",
       "148   19666.121   18668.697   25496.651   22698.730  \n",
       "149  470582.443  468770.945  466376.394  489771.854  \n",
       "\n",
       "[150 rows x 58 columns]"
      ]
     },
     "metadata": {},
     "output_type": "display_data"
    }
   ],
   "source": [
    "df_co2 = pd.read_csv('CO2Emissions_filtered.csv')\n",
    "rndict = {n:n+'_CO2' for n in df_co2.columns}\n",
    "df_co2.rename(columns=rndict, inplace=True)\n",
    "df_co2.rename(columns={\"Country Code_CO2\":\"code\"}, inplace=True)\n",
    "df_co2['code'] = df_co2['code'].str.lower()\n",
    "display(df_co2)"
   ]
  },
  {
   "cell_type": "code",
   "execution_count": 56,
   "metadata": {
    "slideshow": {
     "slide_type": "subslide"
    }
   },
   "outputs": [
    {
     "data": {
      "text/html": [
       "<div>\n",
       "<style scoped>\n",
       "    .dataframe tbody tr th:only-of-type {\n",
       "        vertical-align: middle;\n",
       "    }\n",
       "\n",
       "    .dataframe tbody tr th {\n",
       "        vertical-align: top;\n",
       "    }\n",
       "\n",
       "    .dataframe thead th {\n",
       "        text-align: right;\n",
       "    }\n",
       "</style>\n",
       "<table border=\"1\" class=\"dataframe\">\n",
       "  <thead>\n",
       "    <tr style=\"text-align: right;\">\n",
       "      <th></th>\n",
       "      <th>Country Name_CO2</th>\n",
       "      <th>code</th>\n",
       "      <th>Indicator Name_CO2</th>\n",
       "      <th>1960_CO2</th>\n",
       "      <th>1961_CO2</th>\n",
       "      <th>1962_CO2</th>\n",
       "      <th>1963_CO2</th>\n",
       "      <th>...</th>\n",
       "      <th>2012</th>\n",
       "      <th>2013</th>\n",
       "      <th>2014</th>\n",
       "      <th>2015</th>\n",
       "      <th>2016</th>\n",
       "      <th>2017</th>\n",
       "      <th>2018</th>\n",
       "    </tr>\n",
       "  </thead>\n",
       "  <tbody>\n",
       "    <tr>\n",
       "      <th>0</th>\n",
       "      <td>Afghanistan</td>\n",
       "      <td>afg</td>\n",
       "      <td>CO2 emissions (kt)</td>\n",
       "      <td>414.371</td>\n",
       "      <td>491.378</td>\n",
       "      <td>689.396</td>\n",
       "      <td>707.731</td>\n",
       "      <td>...</td>\n",
       "      <td>30696958</td>\n",
       "      <td>31731688</td>\n",
       "      <td>32758020</td>\n",
       "      <td>33736494</td>\n",
       "      <td>34656032</td>\n",
       "      <td>35530081</td>\n",
       "      <td>36373176</td>\n",
       "    </tr>\n",
       "    <tr>\n",
       "      <th>1</th>\n",
       "      <td>Angola</td>\n",
       "      <td>ago</td>\n",
       "      <td>CO2 emissions (kt)</td>\n",
       "      <td>550.050</td>\n",
       "      <td>454.708</td>\n",
       "      <td>1180.774</td>\n",
       "      <td>1151.438</td>\n",
       "      <td>...</td>\n",
       "      <td>25096150</td>\n",
       "      <td>25998340</td>\n",
       "      <td>26920466</td>\n",
       "      <td>27859305</td>\n",
       "      <td>28813463</td>\n",
       "      <td>29784193</td>\n",
       "      <td>30774205</td>\n",
       "    </tr>\n",
       "    <tr>\n",
       "      <th>2</th>\n",
       "      <td>Albania</td>\n",
       "      <td>alb</td>\n",
       "      <td>CO2 emissions (kt)</td>\n",
       "      <td>2024.184</td>\n",
       "      <td>2280.874</td>\n",
       "      <td>2464.224</td>\n",
       "      <td>2082.856</td>\n",
       "      <td>...</td>\n",
       "      <td>2920039</td>\n",
       "      <td>2918978</td>\n",
       "      <td>2920775</td>\n",
       "      <td>2923352</td>\n",
       "      <td>2926348</td>\n",
       "      <td>2930187</td>\n",
       "      <td>2934363</td>\n",
       "    </tr>\n",
       "    <tr>\n",
       "      <th>3</th>\n",
       "      <td>United Arab Emirates</td>\n",
       "      <td>are</td>\n",
       "      <td>CO2 emissions (kt)</td>\n",
       "      <td>11.001</td>\n",
       "      <td>11.001</td>\n",
       "      <td>18.335</td>\n",
       "      <td>22.002</td>\n",
       "      <td>...</td>\n",
       "      <td>8900453</td>\n",
       "      <td>9006263</td>\n",
       "      <td>9070867</td>\n",
       "      <td>9154302</td>\n",
       "      <td>9269612</td>\n",
       "      <td>9400145</td>\n",
       "      <td>9541615</td>\n",
       "    </tr>\n",
       "    <tr>\n",
       "      <th>4</th>\n",
       "      <td>Argentina</td>\n",
       "      <td>arg</td>\n",
       "      <td>CO2 emissions (kt)</td>\n",
       "      <td>48815.104</td>\n",
       "      <td>51180.319</td>\n",
       "      <td>53695.881</td>\n",
       "      <td>50083.886</td>\n",
       "      <td>...</td>\n",
       "      <td>42096739</td>\n",
       "      <td>42539925</td>\n",
       "      <td>42981515</td>\n",
       "      <td>43417765</td>\n",
       "      <td>43847430</td>\n",
       "      <td>44271041</td>\n",
       "      <td>44688864</td>\n",
       "    </tr>\n",
       "    <tr>\n",
       "      <th>...</th>\n",
       "      <td>...</td>\n",
       "      <td>...</td>\n",
       "      <td>...</td>\n",
       "      <td>...</td>\n",
       "      <td>...</td>\n",
       "      <td>...</td>\n",
       "      <td>...</td>\n",
       "      <td>...</td>\n",
       "      <td>...</td>\n",
       "      <td>...</td>\n",
       "      <td>...</td>\n",
       "      <td>...</td>\n",
       "      <td>...</td>\n",
       "      <td>...</td>\n",
       "      <td>...</td>\n",
       "    </tr>\n",
       "    <tr>\n",
       "      <th>136</th>\n",
       "      <td>Venezuela, RB</td>\n",
       "      <td>ven</td>\n",
       "      <td>CO2 emissions (kt)</td>\n",
       "      <td>57069.521</td>\n",
       "      <td>51928.387</td>\n",
       "      <td>54106.585</td>\n",
       "      <td>56204.109</td>\n",
       "      <td>...</td>\n",
       "      <td>29893080</td>\n",
       "      <td>30317848</td>\n",
       "      <td>30738378</td>\n",
       "      <td>31155134</td>\n",
       "      <td>31568179</td>\n",
       "      <td>31977065</td>\n",
       "      <td>32381221</td>\n",
       "    </tr>\n",
       "    <tr>\n",
       "      <th>137</th>\n",
       "      <td>Vietnam</td>\n",
       "      <td>vnm</td>\n",
       "      <td>CO2 emissions (kt)</td>\n",
       "      <td>7491.681</td>\n",
       "      <td>7986.726</td>\n",
       "      <td>9347.183</td>\n",
       "      <td>9119.829</td>\n",
       "      <td>...</td>\n",
       "      <td>90451881</td>\n",
       "      <td>91497725</td>\n",
       "      <td>92544915</td>\n",
       "      <td>93571567</td>\n",
       "      <td>94569072</td>\n",
       "      <td>95540800</td>\n",
       "      <td>96491146</td>\n",
       "    </tr>\n",
       "    <tr>\n",
       "      <th>138</th>\n",
       "      <td>Samoa</td>\n",
       "      <td>wsm</td>\n",
       "      <td>CO2 emissions (kt)</td>\n",
       "      <td>14.668</td>\n",
       "      <td>18.335</td>\n",
       "      <td>18.335</td>\n",
       "      <td>22.002</td>\n",
       "      <td>...</td>\n",
       "      <td>189194</td>\n",
       "      <td>190757</td>\n",
       "      <td>192290</td>\n",
       "      <td>193759</td>\n",
       "      <td>195125</td>\n",
       "      <td>196440</td>\n",
       "      <td>197695</td>\n",
       "    </tr>\n",
       "    <tr>\n",
       "      <th>139</th>\n",
       "      <td>Yemen, Rep.</td>\n",
       "      <td>yem</td>\n",
       "      <td>CO2 emissions (kt)</td>\n",
       "      <td>3633.997</td>\n",
       "      <td>2665.909</td>\n",
       "      <td>3887.020</td>\n",
       "      <td>2918.932</td>\n",
       "      <td>...</td>\n",
       "      <td>24909969</td>\n",
       "      <td>25576322</td>\n",
       "      <td>26246327</td>\n",
       "      <td>26916207</td>\n",
       "      <td>27584213</td>\n",
       "      <td>28250420</td>\n",
       "      <td>28915284</td>\n",
       "    </tr>\n",
       "    <tr>\n",
       "      <th>140</th>\n",
       "      <td>South Africa</td>\n",
       "      <td>zaf</td>\n",
       "      <td>CO2 emissions (kt)</td>\n",
       "      <td>97934.569</td>\n",
       "      <td>102213.958</td>\n",
       "      <td>105767.281</td>\n",
       "      <td>109826.650</td>\n",
       "      <td>...</td>\n",
       "      <td>52998213</td>\n",
       "      <td>53767396</td>\n",
       "      <td>54539571</td>\n",
       "      <td>55291225</td>\n",
       "      <td>56015473</td>\n",
       "      <td>56717156</td>\n",
       "      <td>57398421</td>\n",
       "    </tr>\n",
       "  </tbody>\n",
       "</table>\n",
       "<p>141 rows × 279 columns</p>\n",
       "</div>"
      ],
      "text/plain": [
       "         Country Name_CO2 code  Indicator Name_CO2   1960_CO2    1961_CO2  \\\n",
       "0             Afghanistan  afg  CO2 emissions (kt)    414.371     491.378   \n",
       "1                  Angola  ago  CO2 emissions (kt)    550.050     454.708   \n",
       "2                 Albania  alb  CO2 emissions (kt)   2024.184    2280.874   \n",
       "3    United Arab Emirates  are  CO2 emissions (kt)     11.001      11.001   \n",
       "4               Argentina  arg  CO2 emissions (kt)  48815.104   51180.319   \n",
       "..                    ...  ...                 ...        ...         ...   \n",
       "136         Venezuela, RB  ven  CO2 emissions (kt)  57069.521   51928.387   \n",
       "137               Vietnam  vnm  CO2 emissions (kt)   7491.681    7986.726   \n",
       "138                 Samoa  wsm  CO2 emissions (kt)     14.668      18.335   \n",
       "139           Yemen, Rep.  yem  CO2 emissions (kt)   3633.997    2665.909   \n",
       "140          South Africa  zaf  CO2 emissions (kt)  97934.569  102213.958   \n",
       "\n",
       "       1962_CO2    1963_CO2    ...         2012      2013      2014      2015  \\\n",
       "0       689.396     707.731    ...     30696958  31731688  32758020  33736494   \n",
       "1      1180.774    1151.438    ...     25096150  25998340  26920466  27859305   \n",
       "2      2464.224    2082.856    ...      2920039   2918978   2920775   2923352   \n",
       "3        18.335      22.002    ...      8900453   9006263   9070867   9154302   \n",
       "4     53695.881   50083.886    ...     42096739  42539925  42981515  43417765   \n",
       "..          ...         ...    ...          ...       ...       ...       ...   \n",
       "136   54106.585   56204.109    ...     29893080  30317848  30738378  31155134   \n",
       "137    9347.183    9119.829    ...     90451881  91497725  92544915  93571567   \n",
       "138      18.335      22.002    ...       189194    190757    192290    193759   \n",
       "139    3887.020    2918.932    ...     24909969  25576322  26246327  26916207   \n",
       "140  105767.281  109826.650    ...     52998213  53767396  54539571  55291225   \n",
       "\n",
       "         2016      2017      2018  \n",
       "0    34656032  35530081  36373176  \n",
       "1    28813463  29784193  30774205  \n",
       "2     2926348   2930187   2934363  \n",
       "3     9269612   9400145   9541615  \n",
       "4    43847430  44271041  44688864  \n",
       "..        ...       ...       ...  \n",
       "136  31568179  31977065  32381221  \n",
       "137  94569072  95540800  96491146  \n",
       "138    195125    196440    197695  \n",
       "139  27584213  28250420  28915284  \n",
       "140  56015473  56717156  57398421  \n",
       "\n",
       "[141 rows x 279 columns]"
      ]
     },
     "metadata": {},
     "output_type": "display_data"
    }
   ],
   "source": [
    "df_all = pd.merge(df_co2, df_pop, on='code')\n",
    "df_all.join(df_conti.set_index('code'), on='code')\n",
    "display(df_all)"
   ]
  },
  {
   "cell_type": "code",
   "execution_count": 57,
   "metadata": {
    "slideshow": {
     "slide_type": "subslide"
    }
   },
   "outputs": [
    {
     "data": {
      "text/plain": [
       "<matplotlib.axes._subplots.AxesSubplot at 0x7f6bedace8d0>"
      ]
     },
     "execution_count": 57,
     "metadata": {},
     "output_type": "execute_result"
    },
    {
     "data": {
      "image/png": "[encoded data removed]",
      "text/plain": [
       "<Figure size 432x288 with 1 Axes>"
      ]
     },
     "metadata": {
      "needs_background": "light"
     },
     "output_type": "display_data"
    }
   ],
   "source": [
    "fig, ax = plt.subplots(figsize=(6, 4))\n",
    "df_all.plot(x='2014', y='2014_CO2', ax=ax, kind='scatter',logx=True,\n",
    "            logy=True, xlim=[5e3,1e9], ylim=[5e1,1e7])"
   ]
  }
 ],
 "metadata": {
  "kernelspec": {
   "display_name": "Python 3",
   "language": "python",
   "name": "python3"
  },
  "language_info": {
   "codemirror_mode": {
    "name": "ipython",
    "version": 3
   },
   "file_extension": ".py",
   "mimetype": "text/x-python",
   "name": "python",
   "nbconvert_exporter": "python",
   "pygments_lexer": "ipython3",
   "version": "3.6.9"
  }
 },
 "nbformat": 4,
 "nbformat_minor": 4
}

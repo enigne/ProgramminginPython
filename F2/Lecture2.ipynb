{
 "cells": [
  {
   "cell_type": "markdown",
   "metadata": {
    "slideshow": {
     "slide_type": "slide"
    }
   },
   "source": [
    "# Programming in Python, 1TD327, 5hp\n",
    "\n",
    "Lecture 2: Functions and modules\n",
    "\n",
    "- Cheng Gong\n",
    "- Email: cheng.gong@it.uu.se\n",
    "- Office: ITC 2448\n",
    "\n",
    "<br>\n",
    "\n",
    "\n",
    "Source available: [github.com/enigne/ProgramminginPython](https://github.com/enigne/ProgramminginPython)"
   ]
  },
  {
   "cell_type": "markdown",
   "metadata": {
    "slideshow": {
     "slide_type": "slide"
    }
   },
   "source": [
    "## Last week\n",
    "\n",
    "1. Data type\n",
    "    - int\n",
    "    - float\n",
    "    - str\n",
    "    - list\n",
    "    \n",
    "2. Operations\n",
    "    - logic\n",
    "    - arithmetic\n",
    "    \n",
    "3. Control statements\n",
    "    - Conditional statements (if--else)\n",
    "    - Loops (while and for)     "
   ]
  },
  {
   "cell_type": "markdown",
   "metadata": {
    "slideshow": {
     "slide_type": "slide"
    }
   },
   "source": [
    "## Today\n",
    "\n",
    "1. Functions and procedures\n",
    "2. Modules\n",
    "3. Generators    "
   ]
  },
  {
   "cell_type": "markdown",
   "metadata": {
    "slideshow": {
     "slide_type": "slide"
    }
   },
   "source": [
    "## Functions\n",
    "Function: a block of code which performs a specific task\n",
    "\n",
    "### Syntax\n",
    "```python\n",
    "def function_name(arguments):\n",
    "    \"\"\"doc_string\"\"\"\n",
    "    statement\n",
    "```"
   ]
  },
  {
   "cell_type": "markdown",
   "metadata": {
    "slideshow": {
     "slide_type": "fragment"
    }
   },
   "source": [
    "1. `def` indicates the start of function header.\n",
    "2. `function_name` is to uniquely identify it. Function naming follows the same rules of [writing identifiers in Python](https://www.google.com/search?q=Python+Identifiers).\n",
    "3. `arguments` (or parameters) take the values passing to the function. They are optional.\n",
    "4. `:` to mark the end of the function header.\n",
    "5. `doc_string` is optional documentation string to describe what the function does.\n",
    "6. One or more valid python statements in the function body. Statements must have same indentation level.\n",
    "7. An optional `return` statement to return a value from the function."
   ]
  },
  {
   "cell_type": "markdown",
   "metadata": {
    "slideshow": {
     "slide_type": "subslide"
    }
   },
   "source": [
    "### Function with one argument"
   ]
  },
  {
   "cell_type": "code",
   "execution_count": 1,
   "metadata": {},
   "outputs": [],
   "source": [
    "def square(x):\n",
    "    return x*x"
   ]
  },
  {
   "cell_type": "code",
   "execution_count": 2,
   "metadata": {
    "slideshow": {
     "slide_type": "fragment"
    }
   },
   "outputs": [
    {
     "name": "stdout",
     "output_type": "stream",
     "text": [
      "4\n"
     ]
    }
   ],
   "source": [
    "y = square(2)\n",
    "print(y)"
   ]
  },
  {
   "cell_type": "code",
   "execution_count": 3,
   "metadata": {
    "slideshow": {
     "slide_type": "fragment"
    }
   },
   "outputs": [
    {
     "name": "stdout",
     "output_type": "stream",
     "text": [
      "6.25\n"
     ]
    }
   ],
   "source": [
    "y = square(2.5)\n",
    "print(y)"
   ]
  },
  {
   "cell_type": "markdown",
   "metadata": {
    "slideshow": {
     "slide_type": "fragment"
    }
   },
   "source": [
    "``` python\n",
    "y = square('a')\n",
    "print(y)\n",
    "```"
   ]
  },
  {
   "cell_type": "markdown",
   "metadata": {
    "slideshow": {
     "slide_type": "fragment"
    }
   },
   "source": [
    "``` python\n",
    "---------------------------------------------------------------------------\n",
    "TypeError                                 Traceback (most recent call last)\n",
    "<ipython-input-4-9628460e9d27> in <module>\n",
    "----> 1 y = square('a')\n",
    "      2 print(y)\n",
    "<ipython-input-1-aaa5847b1481> in square(x)\n",
    "      1 def square(x):\n",
    "----> 2     return x*x\n",
    "TypeError: cannot multiply sequence by non-int of type 'str'\n",
    "```"
   ]
  },
  {
   "cell_type": "markdown",
   "metadata": {
    "slideshow": {
     "slide_type": "subslide"
    }
   },
   "source": [
    "#### Another example"
   ]
  },
  {
   "cell_type": "code",
   "execution_count": 4,
   "metadata": {},
   "outputs": [],
   "source": [
    "def factorial(n):\n",
    "    assert (type(n) is int), \"n has to be interger\"\n",
    "    res = 1\n",
    "    for i in range(1, n+1):\n",
    "        res = res * i\n",
    "    return res"
   ]
  },
  {
   "cell_type": "code",
   "execution_count": 5,
   "metadata": {
    "slideshow": {
     "slide_type": "fragment"
    }
   },
   "outputs": [
    {
     "name": "stdout",
     "output_type": "stream",
     "text": [
      "120\n"
     ]
    }
   ],
   "source": [
    "y = factorial(5)\n",
    "print(y)"
   ]
  },
  {
   "cell_type": "markdown",
   "metadata": {
    "slideshow": {
     "slide_type": "fragment"
    }
   },
   "source": [
    "``` python\n",
    "y = factorial(5.0)\n",
    "print(y)\n",
    "```"
   ]
  },
  {
   "cell_type": "markdown",
   "metadata": {
    "slideshow": {
     "slide_type": "fragment"
    }
   },
   "source": [
    "``` python\n",
    "---------------------------------------------------------------------------\n",
    "AssertionError                            Traceback (most recent call last)\n",
    "<ipython-input-7-3bb7d9dceda5> in <module>\n",
    "----> 1 y = factorial(5.0)\n",
    "      2 print(y)\n",
    "<ipython-input-5-96a5c3edc2a8> in factorial(n)\n",
    "      1 def factorial(n):\n",
    "----> 2     assert (type(n) is int), \"n has to be interger\"\n",
    "      3     res = 1\n",
    "      4     for i in range(1, n+1):\n",
    "      5         res = res * i\n",
    "AssertionError: n has to be interger\n",
    "```"
   ]
  },
  {
   "cell_type": "markdown",
   "metadata": {
    "slideshow": {
     "slide_type": "subslide"
    }
   },
   "source": [
    "### Function with multiple arguments(positional arguments)\n",
    "\n",
    "``` python\n",
    "a = 2.0\n",
    "b = 3.0\n",
    "def mystery(a, b):\n",
    "    if b < a:\n",
    "        return b\n",
    "    else:\n",
    "        return a\n",
    "print(mystery(b, a))\n",
    ">> ???\n",
    "```\n",
    "**A**. '3.0',    **B**. '2.0',   **C**. 'None',    **D**. None of them"
   ]
  },
  {
   "cell_type": "code",
   "execution_count": 6,
   "metadata": {
    "slideshow": {
     "slide_type": "fragment"
    }
   },
   "outputs": [
    {
     "name": "stdout",
     "output_type": "stream",
     "text": [
      "2.0\n"
     ]
    }
   ],
   "source": [
    "a = 2.0\n",
    "b = 3.0\n",
    "def minimum(a, b):\n",
    "    if b < a:\n",
    "        return b\n",
    "    else:\n",
    "        return a\n",
    "print(minimum(b, a))"
   ]
  },
  {
   "cell_type": "code",
   "execution_count": 7,
   "metadata": {
    "slideshow": {
     "slide_type": "fragment"
    }
   },
   "outputs": [
    {
     "name": "stdout",
     "output_type": "stream",
     "text": [
      "2.0\n"
     ]
    }
   ],
   "source": [
    "print(min(b,a))"
   ]
  },
  {
   "cell_type": "markdown",
   "metadata": {
    "slideshow": {
     "slide_type": "slide"
    }
   },
   "source": [
    "### Arguments\n",
    "\n",
    "#### Example 1\n",
    "``` python\n",
    "y = 1\n",
    "def increase(x):\n",
    "    x = x + 1\n",
    "    return x\n",
    "z = increase(y)\n",
    "print(f'{y}, {z}')\n",
    ">>> ???\n",
    "```\n",
    "**A**. '1, 2', **B**. '2, 2', **C**. '2, 1', **D**. None of them "
   ]
  },
  {
   "cell_type": "code",
   "execution_count": 8,
   "metadata": {
    "slideshow": {
     "slide_type": "fragment"
    }
   },
   "outputs": [
    {
     "name": "stdout",
     "output_type": "stream",
     "text": [
      "1, 2\n"
     ]
    }
   ],
   "source": [
    "y = 1\n",
    "def increase(x):\n",
    "    x = x + 1\n",
    "    return x\n",
    "z = increase(y)\n",
    "print(f'{y}, {z}')"
   ]
  },
  {
   "cell_type": "markdown",
   "metadata": {
    "slideshow": {
     "slide_type": "subslide"
    }
   },
   "source": [
    "#### Example 2\n",
    "``` python\n",
    "x = 1\n",
    "def increase(x):\n",
    "    x = x + 1\n",
    "    return x\n",
    "z = increase(x)\n",
    "print(f'{x}, {z}')\n",
    ">>> ???\n",
    "```\n",
    "**A**. '1, 2', **B**. '2, 2', **C**. '2, 1', **D**. None of them "
   ]
  },
  {
   "cell_type": "code",
   "execution_count": 9,
   "metadata": {
    "slideshow": {
     "slide_type": "fragment"
    }
   },
   "outputs": [
    {
     "name": "stdout",
     "output_type": "stream",
     "text": [
      "1, 2\n"
     ]
    }
   ],
   "source": [
    "x = 1\n",
    "def increase(x):\n",
    "    x = x + 1\n",
    "    return x\n",
    "z = increase(x)\n",
    "print(f'{x}, {z}')"
   ]
  },
  {
   "cell_type": "markdown",
   "metadata": {
    "slideshow": {
     "slide_type": "subslide"
    }
   },
   "source": [
    "### Scope and Lifetime of variables\n",
    "\n",
    "``` python\n",
    "x = 1\n",
    "def increase(x):\n",
    "    x = x + 1\n",
    "    return x\n",
    "z = increase(x)\n",
    "print(f'{x}, {z}')\n",
    "```\n",
    "\n",
    "- Scope of a variable is the places of a program where the variable is recognized. Parameters and variables defined inside a function is not visible from outside (local scope).\n",
    "\n",
    "- Lifetime of a variable is the period throughout which the variable exits in the memory. The lifetime of variables inside a function is as long as the function executes. They are destroyed once we return from the function. Hence, **a function does not remember the value of a variable from its previous calls**."
   ]
  },
  {
   "cell_type": "markdown",
   "metadata": {
    "slideshow": {
     "slide_type": "subslide"
    }
   },
   "source": [
    "#### Example 3\n",
    "``` python\n",
    "x = [1]\n",
    "def increase(x):\n",
    "    x[0] = x[0] + 1\n",
    "    return x\n",
    "z = increase(x)\n",
    "print(f'{x[0]}, {z[0]}')\n",
    ">>> ???\n",
    "```\n",
    "**A**. '1, 2', **B**. '2, 2', **C**. '2, 1', **D**. None of them "
   ]
  },
  {
   "cell_type": "code",
   "execution_count": 10,
   "metadata": {
    "slideshow": {
     "slide_type": "fragment"
    }
   },
   "outputs": [
    {
     "name": "stdout",
     "output_type": "stream",
     "text": [
      "2, 2\n"
     ]
    }
   ],
   "source": [
    "x = [1]\n",
    "def increase(x):\n",
    "    x[0] = x[0] + 1\n",
    "    return x\n",
    "z = increase(x)\n",
    "print(f'{x[0]}, {z[0]}')"
   ]
  },
  {
   "cell_type": "markdown",
   "metadata": {
    "slideshow": {
     "slide_type": "slide"
    }
   },
   "source": [
    "#### Evaluation strategy for arguments\n",
    "\n",
    "- **Call by Value** : the argument expression is evaluated, and the result of this evaluation is bound to the corresponding variable in the function. So, if the expression is a variable, its value will be assigned (copied) to the corresponding argument. This ensures that the variable outside the function will be unchanged when the function returns.\n",
    "\n",
    "- **Call by Reference**:  a function gets an implicit reference to the arguments, rather than a copy of its value. As a consequence, the function can modify the argument. By using Call by Reference, we can save both computation time and memory space, because arguments do not need to be copied. On the other hand this harbours the disadvantage that variables can be \"accidentally\" changed in a function call."
   ]
  },
  {
   "cell_type": "markdown",
   "metadata": {
    "slideshow": {
     "slide_type": "fragment"
    }
   },
   "source": [
    "**What about Python?**"
   ]
  },
  {
   "cell_type": "markdown",
   "metadata": {
    "slideshow": {
     "slide_type": "subslide"
    }
   },
   "source": [
    "Python uses a mechanism, which is known as \"**Call-by-Object**\".\n",
    "\n",
    "- If you pass _immutable_ arguments like integers, strings or tuples to a function, the passing acts like call-by-value.\n",
    "- If you pass _mutable_ arguments, such as lists, dictionaries, they are also passed by object reference, but they can be changed in place in the function.\n",
    "\n",
    "For mutable and immutable objects: [extra reading 1](https://docs.python.org/3.8/reference/datamodel.html) and [2](https://medium.com/@meghamohan/mutable-and-immutable-side-of-python-c2145cf72747)"
   ]
  },
  {
   "cell_type": "markdown",
   "metadata": {
    "slideshow": {
     "slide_type": "slide"
    }
   },
   "source": [
    "###  Python Function Arguments\n",
    "\n",
    "#### Keyword Arguments\n",
    "\n",
    "Quiz:\n",
    "``` python \n",
    "def divide(denominator, numerator):\n",
    "    return numerator / denominator\n",
    "\n",
    "print(divide(2.0, 1.0))\n",
    "print(divide(denominator = 2.0, numerator = 1.0))\n",
    "print(divide(2.0, numerator = 1.0))\n",
    "print(divide(numerator = 1.0, denominator = 2.0))\n",
    ">>> ???\n",
    "```\n",
    "How many errors will you get?\n",
    "\n",
    "**A**. 0, **B**. 1, **C**. 2, **D**. 3 "
   ]
  },
  {
   "cell_type": "code",
   "execution_count": 11,
   "metadata": {
    "slideshow": {
     "slide_type": "subslide"
    }
   },
   "outputs": [
    {
     "name": "stdout",
     "output_type": "stream",
     "text": [
      "0.5\n"
     ]
    }
   ],
   "source": [
    "def divide(denominator, numerator):\n",
    "    return numerator / denominator\n",
    "\n",
    "print(divide(2.0, 1.0))"
   ]
  },
  {
   "cell_type": "code",
   "execution_count": 12,
   "metadata": {
    "slideshow": {
     "slide_type": "fragment"
    }
   },
   "outputs": [
    {
     "name": "stdout",
     "output_type": "stream",
     "text": [
      "0.5\n"
     ]
    }
   ],
   "source": [
    "print(divide(denominator = 2.0, numerator = 1.0))"
   ]
  },
  {
   "cell_type": "code",
   "execution_count": 13,
   "metadata": {
    "slideshow": {
     "slide_type": "fragment"
    }
   },
   "outputs": [
    {
     "name": "stdout",
     "output_type": "stream",
     "text": [
      "0.5\n"
     ]
    }
   ],
   "source": [
    "print(divide(2.0, numerator = 1.0))"
   ]
  },
  {
   "cell_type": "code",
   "execution_count": 14,
   "metadata": {
    "slideshow": {
     "slide_type": "fragment"
    }
   },
   "outputs": [
    {
     "name": "stdout",
     "output_type": "stream",
     "text": [
      "0.5\n"
     ]
    }
   ],
   "source": [
    "print(divide(numerator = 1.0, denominator = 2.0))"
   ]
  },
  {
   "cell_type": "markdown",
   "metadata": {
    "slideshow": {
     "slide_type": "fragment"
    }
   },
   "source": [
    "**Note**: Python allows functions to be called using keyword arguments. When functions are called in this way, the order (position) of the arguments can be changed."
   ]
  },
  {
   "cell_type": "markdown",
   "metadata": {
    "slideshow": {
     "slide_type": "subslide"
    }
   },
   "source": [
    "How about \n",
    "``` python\n",
    "print(divide(numerator = 1.0, 2.0))\n",
    ">>>???\n",
    "```"
   ]
  },
  {
   "cell_type": "markdown",
   "metadata": {
    "slideshow": {
     "slide_type": "fragment"
    }
   },
   "source": [
    "``` python\n",
    "  File \"<ipython-input-53-31e72edcd315>\", line 1\n",
    "    print(divide(numerator = 1.0, 2.0))\n",
    "                                 ^\n",
    "SyntaxError: positional argument follows keyword argument\n",
    "```"
   ]
  },
  {
   "cell_type": "markdown",
   "metadata": {
    "slideshow": {
     "slide_type": "fragment"
    }
   },
   "source": [
    "**Remark**: We can have both positional arguments and keyword arguments in a function call. But we must keep in mind that keyword arguments **must follow** positional arguments."
   ]
  },
  {
   "cell_type": "markdown",
   "metadata": {
    "slideshow": {
     "slide_type": "slide"
    }
   },
   "source": [
    "#### Default Arguments\n",
    "\n",
    "Function arguments can have default values.\n",
    "``` python \n",
    "def divide(denominator, numerator=1.0):\n",
    "    return numerator / denominator\n",
    "\n",
    "print(divide(2.0))\n",
    "print(divide(2.0, 1.0))\n",
    "print(divide(denominator = 2.0))\n",
    "print(divide(denominator = 2.0, numerator = 1.0))\n",
    "print(divide(numerator = 1.0, denominator = 2.0))\n",
    ">>> ???\n",
    "```\n",
    "How many errors will you get?\n",
    "\n",
    "**A**. 0, **B**. 1, **C**. 2, **D**. 3, **E**. 4"
   ]
  },
  {
   "cell_type": "code",
   "execution_count": 15,
   "metadata": {
    "slideshow": {
     "slide_type": "subslide"
    }
   },
   "outputs": [
    {
     "name": "stdout",
     "output_type": "stream",
     "text": [
      "0.5\n",
      "0.5\n",
      "0.5\n",
      "0.5\n",
      "0.5\n"
     ]
    }
   ],
   "source": [
    "def divide(denominator, numerator=1.0):\n",
    "    return numerator / denominator\n",
    "\n",
    "print(divide(2.0))\n",
    "print(divide(2.0, 1.0))\n",
    "print(divide(denominator = 2.0))\n",
    "print(divide(denominator = 2.0, numerator = 1.0))\n",
    "print(divide(numerator = 1.0, denominator = 2.0))"
   ]
  },
  {
   "cell_type": "markdown",
   "metadata": {
    "slideshow": {
     "slide_type": "subslide"
    }
   },
   "source": [
    "Recall function [print()](https://docs.python.org/3/library/functions.html#print), it is defined as\n",
    "``` python\n",
    "print(*objects, sep=' ', end='\\n', file=sys.stdout, flush=False)\n",
    "```\n",
    "All positional(non-keyword) arguments are converted to strings like `str()` does and written to the stream, separated by `sep` and followed by `end`. Both `sep` and `end` must be strings; they can also be None, which means to use the default values. If no objects are given, `print()` will just write `end`.\n"
   ]
  },
  {
   "cell_type": "markdown",
   "metadata": {
    "slideshow": {
     "slide_type": "slide"
    }
   },
   "source": [
    "#### Arbitrary Arguments\n",
    "\n",
    "Sometimes, the number of arguments that will be passed into a function is not known in advance. To handle this situation, Python allows function calls with arbitrary number of arguments, with an asterisk (*) before the parameter name to denote these arguments.\n",
    "\n",
    "``` python \n",
    "print(*objects, sep=' ', end='\\n', file=sys.stdout, flush=False)\n",
    "```\n"
   ]
  },
  {
   "cell_type": "code",
   "execution_count": 16,
   "metadata": {
    "slideshow": {
     "slide_type": "fragment"
    }
   },
   "outputs": [
    {
     "name": "stdout",
     "output_type": "stream",
     "text": [
      "Hello\n",
      "Hello world\n",
      "Hello world from Python\n"
     ]
    }
   ],
   "source": [
    "print('Hello')\n",
    "print('Hello', 'world')\n",
    "print('Hello', 'world', 'from', 'Python')"
   ]
  },
  {
   "cell_type": "markdown",
   "metadata": {
    "slideshow": {
     "slide_type": "slide"
    }
   },
   "source": [
    "#### Function as an argument\n",
    "\n",
    "Example: Bubble Sort\n",
    "\n",
    "``` python\n",
    "def bubble_sort (lst, cmp):\n",
    "    n = len(lst) - 1\n",
    "    for i in range(n):\n",
    "        for j in range(n-i):\n",
    "            if cmp(lst[j], lst[j+1]):\n",
    "                lst[j+1], lst[j] = lst[j], lst[j+1]\n",
    "                \n",
    "def descend(x, y): \n",
    "    return x < y\n",
    "def ascend(x, y): \n",
    "    return y < x\n",
    "\n",
    "xs = [19, 1, 4, 8, 2, 9, 5, 13, 7]\n",
    "bubble_sort(xs, less)\n",
    "```"
   ]
  },
  {
   "cell_type": "code",
   "execution_count": 17,
   "metadata": {
    "slideshow": {
     "slide_type": "subslide"
    }
   },
   "outputs": [
    {
     "name": "stdout",
     "output_type": "stream",
     "text": [
      "Round 0: [19, 1, 4, 8, 2, 9, 5, 13, 7]\n",
      "Round 1: [1, 4, 8, 2, 9, 5, 13, 7, 19]\n",
      "Round 2: [1, 4, 2, 8, 5, 9, 7, 13, 19]\n",
      "Round 3: [1, 2, 4, 5, 8, 7, 9, 13, 19]\n",
      "Round 4: [1, 2, 4, 5, 7, 8, 9, 13, 19]\n",
      "Round 5: [1, 2, 4, 5, 7, 8, 9, 13, 19]\n",
      "Round 6: [1, 2, 4, 5, 7, 8, 9, 13, 19]\n",
      "Round 7: [1, 2, 4, 5, 7, 8, 9, 13, 19]\n",
      "[1, 2, 4, 5, 7, 8, 9, 13, 19]\n"
     ]
    }
   ],
   "source": [
    "def bubble_sort (lst, cmp):\n",
    "    n = len(lst) - 1\n",
    "    for i in range(n):\n",
    "        print(f'Round {i}:', lst)\n",
    "        for j in range(n-i):\n",
    "            if cmp(lst[j], lst[j+1]):\n",
    "                lst[j+1], lst[j] = lst[j], lst[j+1]\n",
    "\n",
    "def descend(x, y): return x < y\n",
    "\n",
    "def ascend(x, y): return y < x\n",
    "\n",
    "xs = [19, 1, 4, 8, 2, 9, 5, 13, 7]\n",
    "bubble_sort(xs, ascend)\n",
    "print(xs)"
   ]
  },
  {
   "cell_type": "markdown",
   "metadata": {
    "slideshow": {
     "slide_type": "slide"
    }
   },
   "source": [
    "### Return statement\n",
    "\n",
    "Python is a dynamically-typed language, so functions can be written once and called with arguments of different data types as:\n",
    "``` python\n",
    "def square(x):\n",
    "    return x*x\n",
    "```\n",
    "This allows you to write very general functions without doing more specific assumptions than necessary."
   ]
  },
  {
   "cell_type": "markdown",
   "metadata": {
    "slideshow": {
     "slide_type": "fragment"
    }
   },
   "source": [
    "``` python \n",
    "def not_a_good_style_f(x):\n",
    "    if x > 0:\n",
    "        return 2*x\n",
    "    else:\n",
    "        return f'{x}'\n",
    "```\n",
    "\n",
    "**Note**: It is a bad style. Whoever calls this function must first start by testing which data type the function returns. _If the return value is related to the type of parameters, it may be okay for the returns to be different data types._"
   ]
  },
  {
   "cell_type": "markdown",
   "metadata": {
    "slideshow": {
     "slide_type": "subslide"
    }
   },
   "source": [
    "#### Functions with no return value (Procedures)\n",
    "\n",
    "It is actually a block of code under a given name, known as a procedure name. We can call the block of code from anywhere in the program to execute the instructions it contains\n",
    "\n",
    "_Reference_: http://easypythondocs.com/procedures.html\n"
   ]
  },
  {
   "cell_type": "markdown",
   "metadata": {
    "slideshow": {
     "slide_type": "fragment"
    }
   },
   "source": [
    "*Remark*: If there is no expression in the statement or the `return` statement itself is not present inside a function, then the function will return the `None` object."
   ]
  },
  {
   "cell_type": "code",
   "execution_count": 18,
   "metadata": {},
   "outputs": [
    {
     "name": "stdout",
     "output_type": "stream",
     "text": [
      "None\n",
      "None\n"
     ]
    }
   ],
   "source": [
    "def dummy():\n",
    "    return\n",
    "\n",
    "def dummy2():\n",
    "    x = 0\n",
    "    \n",
    "print(dummy())\n",
    "print(dummy2())"
   ]
  },
  {
   "cell_type": "markdown",
   "metadata": {
    "slideshow": {
     "slide_type": "subslide"
    }
   },
   "source": [
    "#### Functions with multiple return values\n",
    "\n",
    "See in lesson 4."
   ]
  },
  {
   "cell_type": "markdown",
   "metadata": {
    "slideshow": {
     "slide_type": "slide"
    }
   },
   "source": [
    "## Modules\n",
    "\n",
    "A module is a Python (.py) file that contains a collection of statements and variables. \n",
    "One module can be run as a script, or imported into another modules.\n",
    "\n",
    "By calling e.g. in the _command line_ `python my_program.py`, then `my_program.py` will run as a script."
   ]
  },
  {
   "cell_type": "markdown",
   "metadata": {
    "slideshow": {
     "slide_type": "subslide"
    }
   },
   "source": [
    "### Module with functions\n",
    "Example: a module (my_math.py) with one function.\n",
    "\n",
    "``` python \n",
    "def factorial(n):\n",
    "    res = 1\n",
    "    for i in range(1, n+1):\n",
    "        res = res * i\n",
    "    return res\n",
    "```\n",
    "\n",
    "Here the module name is `my_math` and a function `factorial()` is defined in it."
   ]
  },
  {
   "cell_type": "markdown",
   "metadata": {
    "slideshow": {
     "slide_type": "subslide"
    }
   },
   "source": [
    "### Import modules\n",
    "\n",
    "In another module/script, you can access `factorial()` from `my_math.py`, in many ways:"
   ]
  },
  {
   "cell_type": "markdown",
   "metadata": {
    "slideshow": {
     "slide_type": "fragment"
    }
   },
   "source": [
    "#### `import` statement"
   ]
  },
  {
   "cell_type": "code",
   "execution_count": 19,
   "metadata": {},
   "outputs": [
    {
     "name": "stdout",
     "output_type": "stream",
     "text": [
      "5040\n"
     ]
    }
   ],
   "source": [
    "import my_math \n",
    "print (my_math.factorial(7))"
   ]
  },
  {
   "cell_type": "markdown",
   "metadata": {
    "slideshow": {
     "slide_type": "fragment"
    }
   },
   "source": [
    "#### `import` with renaming"
   ]
  },
  {
   "cell_type": "code",
   "execution_count": 20,
   "metadata": {},
   "outputs": [
    {
     "name": "stdout",
     "output_type": "stream",
     "text": [
      "5040\n"
     ]
    }
   ],
   "source": [
    "import my_math as mm\n",
    "print (mm.factorial(7))"
   ]
  },
  {
   "cell_type": "markdown",
   "metadata": {
    "slideshow": {
     "slide_type": "subslide"
    }
   },
   "source": [
    "#### `from...import` statement"
   ]
  },
  {
   "cell_type": "code",
   "execution_count": 21,
   "metadata": {},
   "outputs": [
    {
     "name": "stdout",
     "output_type": "stream",
     "text": [
      "5040\n"
     ]
    }
   ],
   "source": [
    "from my_math import factorial\n",
    "print (factorial(7))"
   ]
  },
  {
   "cell_type": "markdown",
   "metadata": {
    "slideshow": {
     "slide_type": "fragment"
    }
   },
   "source": [
    "#### Import all names"
   ]
  },
  {
   "cell_type": "code",
   "execution_count": 22,
   "metadata": {},
   "outputs": [
    {
     "name": "stdout",
     "output_type": "stream",
     "text": [
      "5040\n"
     ]
    }
   ],
   "source": [
    "from my_math import *\n",
    "print (factorial(7)) "
   ]
  },
  {
   "cell_type": "markdown",
   "metadata": {},
   "source": [
    "**Note**: Importing everything with the asterisk (\\*) symbol is not a good programming practice. \n",
    "This can lead to duplicate definitions for an identifier. It also hampers the readability of our code.\n",
    "\n"
   ]
  },
  {
   "cell_type": "markdown",
   "metadata": {
    "slideshow": {
     "slide_type": "slide"
    }
   },
   "source": [
    "### Import module with executable scripts\n",
    "\n",
    "For example, if the following codes are included in `test_module.py`\n",
    "``` python\n",
    "x = 5\n",
    "print(\"This code got executed\")\n",
    "```\n",
    "\n",
    "Then, when we import `test_module.py` from another module:"
   ]
  },
  {
   "cell_type": "code",
   "execution_count": 23,
   "metadata": {
    "slideshow": {
     "slide_type": "fragment"
    }
   },
   "outputs": [
    {
     "name": "stdout",
     "output_type": "stream",
     "text": [
      "This code got executed\n"
     ]
    }
   ],
   "source": [
    "import test_module as tm"
   ]
  },
  {
   "cell_type": "markdown",
   "metadata": {
    "slideshow": {
     "slide_type": "fragment"
    }
   },
   "source": [
    "**Remark**: you do not want to include code outside of functions that are executable in modules.\n",
    "\n",
    "You can make the file usable as a script as well as an importable module. \n",
    "\n",
    "__Read__: https://docs.python.org/3/tutorial/modules.html#executing-modules-as-scripts"
   ]
  },
  {
   "cell_type": "markdown",
   "metadata": {
    "slideshow": {
     "slide_type": "subslide"
    }
   },
   "source": [
    "In `test_script_module.py`, put all the executable code inside the `if` statement\n",
    "\n",
    "``` python\n",
    "if __name__ == '__main__':\n",
    "    print(\"This code got executed only when running the script.\")\n",
    "```"
   ]
  },
  {
   "cell_type": "code",
   "execution_count": 24,
   "metadata": {},
   "outputs": [],
   "source": [
    "import test_script_module"
   ]
  },
  {
   "cell_type": "code",
   "execution_count": 25,
   "metadata": {},
   "outputs": [
    {
     "name": "stdout",
     "output_type": "stream",
     "text": [
      "This code got executed only when running the script.\n"
     ]
    }
   ],
   "source": [
    "%run test_script_module.py"
   ]
  },
  {
   "cell_type": "markdown",
   "metadata": {
    "slideshow": {
     "slide_type": "slide"
    }
   },
   "source": [
    "### Modules as abstractions\n",
    "\n",
    "- A common way to create reusable code packages is to collect functions (and classes) in modules.\n",
    "\n",
    "- Modules enable you to split parts of your program in different files for easier maintenance and better performance.\n"
   ]
  },
  {
   "cell_type": "markdown",
   "metadata": {
    "slideshow": {
     "slide_type": "slide"
    }
   },
   "source": [
    "### Examples:\n",
    "\n",
    "- Python standard module(Library): `math`, `turtle`, `io`, `sys`, etc. The full list is found https://docs.python.org/3/library/\n",
    "\n",
    "- External modules will be introduced during this course: `matplotlib`, `scipy`, `numpy`, `pandas`"
   ]
  },
  {
   "cell_type": "code",
   "execution_count": 26,
   "metadata": {
    "slideshow": {
     "slide_type": "subslide"
    }
   },
   "outputs": [
    {
     "name": "stdout",
     "output_type": "stream",
     "text": [
      "['__doc__', '__file__', '__loader__', '__name__', '__package__', '__spec__', 'acos', 'acosh', 'asin', 'asinh', 'atan', 'atan2', 'atanh', 'ceil', 'copysign', 'cos', 'cosh', 'degrees', 'e', 'erf', 'erfc', 'exp', 'expm1', 'fabs', 'factorial', 'floor', 'fmod', 'frexp', 'fsum', 'gamma', 'gcd', 'hypot', 'inf', 'isclose', 'isfinite', 'isinf', 'isnan', 'ldexp', 'lgamma', 'log', 'log10', 'log1p', 'log2', 'modf', 'nan', 'pi', 'pow', 'radians', 'sin', 'sinh', 'sqrt', 'tan', 'tanh', 'tau', 'trunc']\n"
     ]
    }
   ],
   "source": [
    "import math\n",
    "print(dir(math))"
   ]
  },
  {
   "cell_type": "code",
   "execution_count": 27,
   "metadata": {
    "slideshow": {
     "slide_type": "fragment"
    }
   },
   "outputs": [
    {
     "name": "stdout",
     "output_type": "stream",
     "text": [
      "['Canvas', 'Pen', 'RawPen', 'RawTurtle', 'Screen', 'ScrolledCanvas', 'Shape', 'TK', 'TNavigator', 'TPen', 'Tbuffer', 'Terminator', 'Turtle', 'TurtleGraphicsError', 'TurtleScreen', 'TurtleScreenBase', 'Vec2D', '_CFG', '_LANGUAGE', '_Root', '_Screen', '_TurtleImage', '__all__', '__builtins__', '__cached__', '__doc__', '__file__', '__forwardmethods', '__func_body', '__loader__', '__methodDict', '__methods', '__name__', '__package__', '__spec__', '__stringBody', '_alias_list', '_make_global_funcs', '_screen_docrevise', '_tg_classes', '_tg_screen_functions', '_tg_turtle_functions', '_tg_utilities', '_turtle_docrevise', '_ver', 'addshape', 'back', 'backward', 'begin_fill', 'begin_poly', 'bgcolor', 'bgpic', 'bk', 'bye', 'circle', 'clear', 'clearscreen', 'clearstamp', 'clearstamps', 'clone', 'color', 'colormode', 'config_dict', 'deepcopy', 'degrees', 'delay', 'distance', 'done', 'dot', 'down', 'end_fill', 'end_poly', 'exitonclick', 'fd', 'fillcolor', 'filling', 'forward', 'get_poly', 'get_shapepoly', 'getcanvas', 'getmethparlist', 'getpen', 'getscreen', 'getshapes', 'getturtle', 'goto', 'heading', 'hideturtle', 'home', 'ht', 'inspect', 'isdown', 'isfile', 'isvisible', 'join', 'left', 'listen', 'lt', 'mainloop', 'math', 'mode', 'numinput', 'onclick', 'ondrag', 'onkey', 'onkeypress', 'onkeyrelease', 'onrelease', 'onscreenclick', 'ontimer', 'pd', 'pen', 'pencolor', 'pendown', 'pensize', 'penup', 'pos', 'position', 'pu', 'radians', 'read_docstrings', 'readconfig', 'register_shape', 'reset', 'resetscreen', 'resizemode', 'right', 'rt', 'screensize', 'seth', 'setheading', 'setpos', 'setposition', 'settiltangle', 'setundobuffer', 'setup', 'setworldcoordinates', 'setx', 'sety', 'shape', 'shapesize', 'shapetransform', 'shearfactor', 'showturtle', 'simpledialog', 'speed', 'split', 'st', 'stamp', 'sys', 'textinput', 'tilt', 'tiltangle', 'time', 'title', 'towards', 'tracer', 'turtles', 'turtlesize', 'types', 'undo', 'undobufferentries', 'up', 'update', 'width', 'window_height', 'window_width', 'write', 'write_docstringdict', 'xcor', 'ycor']\n"
     ]
    }
   ],
   "source": [
    "import turtle\n",
    "print(dir(turtle))"
   ]
  },
  {
   "cell_type": "markdown",
   "metadata": {
    "slideshow": {
     "slide_type": "slide"
    }
   },
   "source": [
    "## Generators\n",
    "\n",
    "A generator is a function that returns an object which we can iterate over.\n",
    "It is defined like a normal function, but whenever it needs to generate a value, it does so with the `yield` keyword rather than `return`.\n",
    "`yield` freezes the function execution and returns `n`. When the next value is requested, the function continues another value can be returned.\n",
    "\n",
    "Read more:  [iterator](https://www.programiz.com/python-programming/iterator) and [generator](https://www.programiz.com/python-programming/generator).\n",
    "\n",
    "A simple example:"
   ]
  },
  {
   "cell_type": "code",
   "execution_count": 28,
   "metadata": {
    "slideshow": {
     "slide_type": "fragment"
    }
   },
   "outputs": [],
   "source": [
    "def my_gen():\n",
    "    n = 1\n",
    "    print('This is printed first')\n",
    "    yield n\n",
    "\n",
    "    n += 1\n",
    "    print('This is printed second')\n",
    "    yield n\n",
    "\n",
    "    n += 1\n",
    "    print('This is printed at last')\n",
    "    yield n"
   ]
  },
  {
   "cell_type": "code",
   "execution_count": 29,
   "metadata": {
    "slideshow": {
     "slide_type": "subslide"
    }
   },
   "outputs": [
    {
     "name": "stdout",
     "output_type": "stream",
     "text": [
      "This is printed first\n",
      "1\n",
      "This is printed second\n",
      "2\n",
      "This is printed at last\n",
      "3\n"
     ]
    }
   ],
   "source": [
    "x = my_gen() \n",
    "print(next(x))\n",
    "print(next(x))\n",
    "print(next(x))"
   ]
  },
  {
   "cell_type": "markdown",
   "metadata": {
    "slideshow": {
     "slide_type": "fragment"
    }
   },
   "source": [
    "If continue, as the function is already returned, then there will be an error.\n",
    "\n",
    "``` python\n",
    "print(next(x))\n",
    "---------------------------------------------------------------------------\n",
    "StopIteration                             Traceback (most recent call last)\n",
    "<ipython-input-79-ff675a2ee99e> in <module>\n",
    "----> 1 print(next(x))\n",
    "StopIteration:\n",
    "```"
   ]
  },
  {
   "cell_type": "markdown",
   "metadata": {
    "slideshow": {
     "slide_type": "subslide"
    }
   },
   "source": [
    "### Generator with loop\n",
    "\n",
    "A generator function can be used is a `for...in...` loop.\n",
    "\n",
    "``` python\n",
    "def rev_str(my_str):\n",
    "    length = len(my_str)\n",
    "    for i in range(length-1, -1, -1):\n",
    "        yield my_str[i]\n",
    "\n",
    "for char in rev_str(\"hello\"):\n",
    "     print(char)\n",
    "```"
   ]
  },
  {
   "cell_type": "code",
   "execution_count": 30,
   "metadata": {
    "slideshow": {
     "slide_type": "fragment"
    }
   },
   "outputs": [
    {
     "name": "stdout",
     "output_type": "stream",
     "text": [
      "o\n",
      "l\n",
      "l\n",
      "e\n",
      "h\n"
     ]
    }
   ],
   "source": [
    "def rev_str(my_str):\n",
    "    length = len(my_str)\n",
    "    for i in range(length-1, -1, -1):\n",
    "        yield my_str[i]\n",
    "\n",
    "for char in rev_str(\"hello\"):\n",
    "     print(char)"
   ]
  },
  {
   "cell_type": "markdown",
   "metadata": {
    "slideshow": {
     "slide_type": "subslide"
    }
   },
   "source": [
    "### Generator with infinite loop\n",
    "\n",
    "Because the generator freezes its execution at `yield `we can here define an infinite sequence with even numbers, without enumerating them all. \n",
    "Each even number is calculated only on demand.\n",
    "\n",
    "``` python\n",
    "def all_even():\n",
    "    x = 0\n",
    "    while True:\n",
    "        if x % 2 == 0:\n",
    "            yield x\n",
    "        x += 1\n",
    "```"
   ]
  },
  {
   "cell_type": "code",
   "execution_count": 31,
   "metadata": {
    "slideshow": {
     "slide_type": "fragment"
    }
   },
   "outputs": [
    {
     "name": "stdout",
     "output_type": "stream",
     "text": [
      "0 2 4 6 8 10 12 14 16 18 20 22 24 26 28 "
     ]
    }
   ],
   "source": [
    "def even_generator_infinite():\n",
    "    x = 0\n",
    "    while True:\n",
    "        if x % 2 == 0:\n",
    "            yield x\n",
    "        x += 1\n",
    "        \n",
    "even_gen = even_generator_infinite()\n",
    "for i in range(15):\n",
    "    print(next(even_gen), end=\" \")"
   ]
  },
  {
   "cell_type": "markdown",
   "metadata": {
    "slideshow": {
     "slide_type": "slide"
    }
   },
   "source": [
    "### Exercise 1: \n",
    "Write your own code to sort numbers by the **last digit**. For example, `xs = [121, 39, 7, 1555, 332]`, the result is `[39, 7, 1555, 332, 121]` for descending sort. Create your own test cases and try with them.\n",
    "\n",
    "_Hint_: Use the function `bubble_sort` and modify functions `less` and `greater`.\n",
    "\n",
    "**More**: How about sorting by the **last two digits**?"
   ]
  },
  {
   "cell_type": "markdown",
   "metadata": {},
   "source": [
    "### Exercise 2: \n",
    "Write your own code to sort names by the **length**. For example, `xs = ['Erik',  'Anders',  'Per']` after ascending sorting should be `['Per', 'Erik',  'Anders']`.\n",
    "Try your code with `xs = ['Emma', 'Ann', 'Elisabet', 'Oscar', 'Alexander', 'Maria' ]`.\n",
    "\n",
    "Hint: to get the length of a string, use `len()`.\n"
   ]
  },
  {
   "cell_type": "markdown",
   "metadata": {
    "slideshow": {
     "slide_type": "subslide"
    }
   },
   "source": [
    "### Exercise 3 \\*\\*: \n",
    "Write a prime number generator `prime_generator_infinite()` which can generate prime numbers from 2 to 'infinity'.\n"
   ]
  }
 ],
 "metadata": {
  "kernelspec": {
   "display_name": "Python 3",
   "language": "python",
   "name": "python3"
  },
  "language_info": {
   "codemirror_mode": {
    "name": "ipython",
    "version": 3
   },
   "file_extension": ".py",
   "mimetype": "text/x-python",
   "name": "python",
   "nbconvert_exporter": "python",
   "pygments_lexer": "ipython3",
   "version": "3.6.9"
  },
  "latex_envs": {
   "LaTeX_envs_menu_present": true,
   "autoclose": true,
   "autocomplete": true,
   "bibliofile": "biblio.bib",
   "cite_by": "apalike",
   "current_citInitial": 1,
   "eqLabelWithNumbers": true,
   "eqNumInitial": 1,
   "hotkeys": {
    "equation": "Ctrl-E",
    "itemize": "Ctrl-I"
   },
   "labels_anchors": false,
   "latex_user_defs": false,
   "report_style_numbering": false,
   "user_envs_cfg": false
  },
  "toc": {
   "base_numbering": 1,
   "nav_menu": {},
   "number_sections": true,
   "sideBar": true,
   "skip_h1_title": false,
   "title_cell": "Table of Contents",
   "title_sidebar": "Contents",
   "toc_cell": false,
   "toc_position": {},
   "toc_section_display": true,
   "toc_window_display": false
  },
  "varInspector": {
   "cols": {
    "lenName": 16,
    "lenType": 16,
    "lenVar": 40
   },
   "kernels_config": {
    "python": {
     "delete_cmd_postfix": "",
     "delete_cmd_prefix": "del ",
     "library": "var_list.py",
     "varRefreshCmd": "print(var_dic_list())"
    },
    "r": {
     "delete_cmd_postfix": ") ",
     "delete_cmd_prefix": "rm(",
     "library": "var_list.r",
     "varRefreshCmd": "cat(var_dic_list()) "
    }
   },
   "types_to_exclude": [
    "module",
    "function",
    "builtin_function_or_method",
    "instance",
    "_Feature"
   ],
   "window_display": false
  }
 },
 "nbformat": 4,
 "nbformat_minor": 4
}

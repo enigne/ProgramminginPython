{
 "cells": [
  {
   "cell_type": "markdown",
   "metadata": {
    "slideshow": {
     "slide_type": "slide"
    }
   },
   "source": [
    "# Programming in Python, 1TD327, 5hp\n",
    "\n",
    "Lecture 6: Course review and the exam\n",
    "\n",
    "- Cheng Gong\n",
    "- Email: cheng.gong@it.uu.se\n",
    "- Office: ITC 2448\n",
    "\n",
    "<br>\n",
    "\n",
    "\n",
    "Source available: [github.com/enigne/ProgramminginPython](https://github.com/enigne/ProgramminginPython)"
   ]
  },
  {
   "cell_type": "markdown",
   "metadata": {
    "slideshow": {
     "slide_type": "slide"
    }
   },
   "source": [
    "## What did we cover so far?\n",
    "1. Variables and expressions\n",
    "2. Conditional statements\n",
    "3. Loop\n",
    "5. Data structures: lists, tuples, dictionaries\n",
    "4. Functions\n",
    "6. Classes\n",
    "7. Modules and libraries\n",
    "8. Errors and exceptions"
   ]
  },
  {
   "cell_type": "markdown",
   "metadata": {
    "slideshow": {
     "slide_type": "slide"
    }
   },
   "source": [
    "### Variables and expressions\n",
    "\n",
    "* Data type: `int`, `float`, `str`, `list`, `tuple`, ... \n",
    "* The data type determines what you can do with the variables, and what operators and functions are embeded."
   ]
  },
  {
   "cell_type": "code",
   "execution_count": 1,
   "metadata": {
    "slideshow": {
     "slide_type": "fragment"
    }
   },
   "outputs": [
    {
     "name": "stdout",
     "output_type": "stream",
     "text": [
      "3\n",
      "3.0\n",
      "ab\n",
      "[1, 3, 5, 'a', 'b']\n"
     ]
    }
   ],
   "source": [
    "print(1 + 2)\n",
    "print(1 + 2.0)\n",
    "print('a' + 'b')\n",
    "print([1, 3, 5] + ['a', 'b'])"
   ]
  },
  {
   "cell_type": "markdown",
   "metadata": {
    "slideshow": {
     "slide_type": "fragment"
    }
   },
   "source": [
    "* Standard Operations: `+`, `-`, `*`, `/`, `//`, `**` \n",
    "* The priority of the operations and brackets determines the order."
   ]
  },
  {
   "cell_type": "code",
   "execution_count": 2,
   "metadata": {
    "slideshow": {
     "slide_type": "fragment"
    }
   },
   "outputs": [
    {
     "name": "stdout",
     "output_type": "stream",
     "text": [
      "2.5\n"
     ]
    }
   ],
   "source": [
    "print(2+18/3**2/4)"
   ]
  },
  {
   "cell_type": "markdown",
   "metadata": {
    "slideshow": {
     "slide_type": "subslide"
    }
   },
   "source": [
    "#### Quiz 1\n",
    "Define a function\n",
    "``` python\n",
    "def double(x):\n",
    "    y = x\n",
    "    return y * 2\n",
    "```\n",
    "What is the output for the following expressions? If you choose E, give the output you think it is correct.\n",
    "1. `print(double(10))`\n",
    "2. `print(double('10'))`\n",
    "3. `print(double([10]))`\n",
    "\n",
    "**A**. `20`, **B**. `'20'`, **C**. `[20]`, **D**. Errors , **E**. None of these"
   ]
  },
  {
   "cell_type": "code",
   "execution_count": 3,
   "metadata": {
    "slideshow": {
     "slide_type": "subslide"
    }
   },
   "outputs": [
    {
     "name": "stdout",
     "output_type": "stream",
     "text": [
      "20\n"
     ]
    }
   ],
   "source": [
    "def double(x):\n",
    "    y = x\n",
    "    return y * 2\n",
    "print(double(10))"
   ]
  },
  {
   "cell_type": "code",
   "execution_count": 4,
   "metadata": {
    "slideshow": {
     "slide_type": "fragment"
    }
   },
   "outputs": [
    {
     "name": "stdout",
     "output_type": "stream",
     "text": [
      "1010\n"
     ]
    }
   ],
   "source": [
    "print(double('10'))"
   ]
  },
  {
   "cell_type": "code",
   "execution_count": 5,
   "metadata": {
    "slideshow": {
     "slide_type": "fragment"
    }
   },
   "outputs": [
    {
     "name": "stdout",
     "output_type": "stream",
     "text": [
      "[10, 10]\n"
     ]
    }
   ],
   "source": [
    "print(double([10]))"
   ]
  },
  {
   "cell_type": "markdown",
   "metadata": {
    "slideshow": {
     "slide_type": "slide"
    }
   },
   "source": [
    "### `if` statement\n",
    "\n",
    "* `if-else` makes the program choose the execution path depending on specified conditions, which enables a dynamic control flow.\n",
    "\n",
    "#### Example 1\n",
    "``` python \n",
    "a = 2\n",
    "if a is 2.0:\n",
    "    print('a is 2.0')\n",
    "else:\n",
    "    print('?')\n",
    "```"
   ]
  },
  {
   "cell_type": "code",
   "execution_count": 6,
   "metadata": {
    "slideshow": {
     "slide_type": "fragment"
    }
   },
   "outputs": [
    {
     "name": "stdout",
     "output_type": "stream",
     "text": [
      "?\n"
     ]
    }
   ],
   "source": [
    "a = 2\n",
    "if a is 2.0:\n",
    "    print('a is 2.0')\n",
    "else:\n",
    "    print('?')"
   ]
  },
  {
   "cell_type": "markdown",
   "metadata": {
    "slideshow": {
     "slide_type": "subslide"
    }
   },
   "source": [
    "#### Example 2\n",
    "``` python \n",
    "a = 2\n",
    "if a is 2:\n",
    "    print('a is 2')\n",
    "elif a == 2:\n",
    "    print('a == 2')\n",
    "else:\n",
    "    print('?')\n",
    "```\n",
    "What is the output?\n",
    "\n",
    "**A**. 'a is 2', **B**. 'a == 2', **C**. '?', **D**. Both *A* and *B* , **E**. None of these"
   ]
  },
  {
   "cell_type": "code",
   "execution_count": 7,
   "metadata": {
    "slideshow": {
     "slide_type": "fragment"
    }
   },
   "outputs": [
    {
     "name": "stdout",
     "output_type": "stream",
     "text": [
      "a is 2\n"
     ]
    }
   ],
   "source": [
    "a = 2\n",
    "if a is 2:\n",
    "    print('a is 2')\n",
    "elif a == 2:\n",
    "    print('a == 2')\n",
    "else:\n",
    "    print('?')"
   ]
  },
  {
   "cell_type": "markdown",
   "metadata": {
    "slideshow": {
     "slide_type": "slide"
    }
   },
   "source": [
    "### Loops"
   ]
  },
  {
   "cell_type": "markdown",
   "metadata": {
    "slideshow": {
     "slide_type": "subslide"
    }
   },
   "source": [
    "#### `while` loop\n",
    "\n",
    "``` python\n",
    "a = 0\n",
    "while a < 5:\n",
    "    print(a, end=' ')\n",
    "    a = a + 1\n",
    "```"
   ]
  },
  {
   "cell_type": "markdown",
   "metadata": {
    "slideshow": {
     "slide_type": "fragment"
    }
   },
   "source": [
    "#### `for` loop\n",
    "\n",
    "**Quiz 1**: Rewrite the `while` loop by `for` loop, make sure the output is **exactly** the same."
   ]
  },
  {
   "cell_type": "code",
   "execution_count": 8,
   "metadata": {},
   "outputs": [
    {
     "name": "stdout",
     "output_type": "stream",
     "text": [
      "0 1 2 3 4 "
     ]
    }
   ],
   "source": [
    "for a in range(5):\n",
    "    print(a, end=' ')"
   ]
  },
  {
   "cell_type": "markdown",
   "metadata": {
    "slideshow": {
     "slide_type": "fragment"
    }
   },
   "source": [
    "**Quiz 2**: Use list comprehension to do the same task as in Quiz 1. (max. 1 line)\n",
    "\n",
    "**Note**: (max. 1 line) means the code is expected to have maximal 1 line.  The score will be dedected if the solution is produce correct output but longer than this."
   ]
  },
  {
   "cell_type": "code",
   "execution_count": 9,
   "metadata": {
    "slideshow": {
     "slide_type": "fragment"
    }
   },
   "outputs": [
    {
     "name": "stdout",
     "output_type": "stream",
     "text": [
      "0 1 2 3 4 "
     ]
    }
   ],
   "source": [
    "lst = [print(a, end=' ') for a in range(5)]"
   ]
  },
  {
   "cell_type": "markdown",
   "metadata": {
    "slideshow": {
     "slide_type": "slide"
    }
   },
   "source": [
    "### Data structures: lists, tuples, dictionaries"
   ]
  },
  {
   "cell_type": "markdown",
   "metadata": {
    "slideshow": {
     "slide_type": "subslide"
    }
   },
   "source": [
    "#### Mutable vs. Immutable\n",
    "\n",
    "* Imutable objects: `int`, `float`, `str`, `tuple`\n",
    "* Mutable objects: `list`, `dict`, `set`\n",
    "\n",
    "* An immutable object can be freely sent around (and entered as a parameter to functions) without having to worry about it changing unexpectedly.\n",
    "* A mutable object can be changed at any time so it is important to be aware what you do with it."
   ]
  },
  {
   "cell_type": "markdown",
   "metadata": {
    "slideshow": {
     "slide_type": "subslide"
    }
   },
   "source": [
    "#### Quiz 1\n",
    "Define a function\n",
    "``` python\n",
    "def double(x):\n",
    "    for i, xi in enumerate(x):\n",
    "        x[i] = xi*2\n",
    "    return x\n",
    "\n",
    "y = [10, 11]\n",
    "z = double(y)\n",
    "```\n",
    "what will be the output for the following expressions? If you choose E, give the output you think \n",
    "1. `print(y)`\n",
    "2. `print(z)`\n",
    "\n",
    "**A**. [10, 11], **B**. [20, 22], **C**. [10, 11, 10, 11], **D**. Errors , **E**. None of these"
   ]
  },
  {
   "cell_type": "code",
   "execution_count": 10,
   "metadata": {
    "slideshow": {
     "slide_type": "subslide"
    }
   },
   "outputs": [
    {
     "name": "stdout",
     "output_type": "stream",
     "text": [
      "[20, 22]\n"
     ]
    }
   ],
   "source": [
    "def double(x):\n",
    "    for i, xi in enumerate(x):\n",
    "        x[i] = xi*2\n",
    "    return x\n",
    "\n",
    "y = [10, 11]\n",
    "z = double(y)\n",
    "print(y)"
   ]
  },
  {
   "cell_type": "code",
   "execution_count": 11,
   "metadata": {
    "slideshow": {
     "slide_type": "fragment"
    }
   },
   "outputs": [
    {
     "name": "stdout",
     "output_type": "stream",
     "text": [
      "[20, 22]\n"
     ]
    }
   ],
   "source": [
    "print(z)"
   ]
  },
  {
   "cell_type": "markdown",
   "metadata": {
    "slideshow": {
     "slide_type": "subslide"
    }
   },
   "source": [
    "#### Quiz 2\n",
    "Define a function\n",
    "``` python\n",
    "def double(x):\n",
    "    x = [i*2 for i in x]\n",
    "    return x\n",
    "\n",
    "y = [10, 11]\n",
    "z = double(y)\n",
    "```\n",
    "what will be the output for the following expressions? If you choose E, give the output you think \n",
    "1. `print(x)`\n",
    "2. `print(y)`\n",
    "3. `print(z)`\n",
    "\n",
    "**A**. [10, 11], **B**. [20, 22], **C**. [10, 11, 10, 11], **D**. Errors , **E**. None of these"
   ]
  },
  {
   "cell_type": "code",
   "execution_count": 12,
   "metadata": {
    "slideshow": {
     "slide_type": "subslide"
    }
   },
   "outputs": [
    {
     "name": "stdout",
     "output_type": "stream",
     "text": [
      "[10, 11]\n"
     ]
    }
   ],
   "source": [
    "def double(x):\n",
    "    x = [i*2 for i in x]\n",
    "    return x\n",
    "\n",
    "y = [10, 11]\n",
    "z = double(y)\n",
    "\n",
    "print(y)"
   ]
  },
  {
   "cell_type": "code",
   "execution_count": 13,
   "metadata": {
    "slideshow": {
     "slide_type": "fragment"
    }
   },
   "outputs": [
    {
     "name": "stdout",
     "output_type": "stream",
     "text": [
      "[20, 22]\n"
     ]
    }
   ],
   "source": [
    "print(z)"
   ]
  },
  {
   "cell_type": "markdown",
   "metadata": {
    "slideshow": {
     "slide_type": "subslide"
    }
   },
   "source": [
    "#### Why?"
   ]
  },
  {
   "cell_type": "code",
   "execution_count": 14,
   "metadata": {
    "slideshow": {
     "slide_type": "fragment"
    }
   },
   "outputs": [
    {
     "name": "stdout",
     "output_type": "stream",
     "text": [
      "ID of x before doubled:  140000098610056\n",
      "ID of x after doubled:   140000149625352\n"
     ]
    }
   ],
   "source": [
    "def double(x):\n",
    "    print('ID of x before doubled: ', id(x))\n",
    "    x = [i*2 for i in x]\n",
    "    print('ID of x after doubled:  ', id(x))\n",
    "    return x\n",
    "\n",
    "y = [10, 11]\n",
    "z = double(y)"
   ]
  },
  {
   "cell_type": "markdown",
   "metadata": {
    "slideshow": {
     "slide_type": "subslide"
    }
   },
   "source": [
    "#### List"
   ]
  },
  {
   "cell_type": "code",
   "execution_count": 15,
   "metadata": {
    "slideshow": {
     "slide_type": "fragment"
    }
   },
   "outputs": [
    {
     "name": "stdout",
     "output_type": "stream",
     "text": [
      "2\n",
      "[1, 2, 3, 4, 5]\n",
      "[1, 2, 4, 5]\n",
      "4\n",
      "[2, 4]\n"
     ]
    }
   ],
   "source": [
    "# create a list\n",
    "lEx = [1, 2, 3, 4]    \n",
    "# acccess an element by index\n",
    "print(lEx[1])         \n",
    "# add one element\n",
    "lEx.append(5)         \n",
    "print(lEx)\n",
    "# remove one element\n",
    "lEx.pop(2)            \n",
    "print(lEx)\n",
    "# length of a list\n",
    "print(len(lEx))  \n",
    "# slicing\n",
    "print(lEx[1:3])       "
   ]
  },
  {
   "cell_type": "markdown",
   "metadata": {
    "slideshow": {
     "slide_type": "subslide"
    }
   },
   "source": [
    "#### Dictionary"
   ]
  },
  {
   "cell_type": "code",
   "execution_count": 16,
   "metadata": {
    "slideshow": {
     "slide_type": "fragment"
    }
   },
   "outputs": [
    {
     "name": "stdout",
     "output_type": "stream",
     "text": [
      "3\n",
      "{'aKey': 1, 'bKey': 3, 'cKey': 2, 'dKey': 4}\n",
      "{'bKey': 3, 'cKey': 2, 'dKey': 4}\n",
      "3\n",
      "dict_keys(['bKey', 'cKey', 'dKey'])\n"
     ]
    }
   ],
   "source": [
    "# create a dictionary\n",
    "dEx = {'aKey': 1, 'bKey': 3, 'cKey': 2}   \n",
    "# acccess an element by index\n",
    "print(dEx['bKey'])         \n",
    "# add one element\n",
    "dEx['dKey'] = 4\n",
    "print(dEx)\n",
    "# remove one element\n",
    "dEx.pop('aKey')            \n",
    "print(dEx)\n",
    "# length of a list\n",
    "print(len(dEx))  \n",
    "# slicing\n",
    "print(dEx.keys())"
   ]
  },
  {
   "cell_type": "markdown",
   "metadata": {
    "slideshow": {
     "slide_type": "subslide"
    }
   },
   "source": [
    "#### List & Dictionary comprehension"
   ]
  },
  {
   "cell_type": "markdown",
   "metadata": {
    "slideshow": {
     "slide_type": "fragment"
    }
   },
   "source": [
    "**Example 1**: Create a list with integers from 1 to 19"
   ]
  },
  {
   "cell_type": "code",
   "execution_count": 17,
   "metadata": {
    "slideshow": {
     "slide_type": "fragment"
    }
   },
   "outputs": [
    {
     "data": {
      "text/plain": [
       "[2, 3, 4, 5, 6, 7, 8, 9, 10, 11, 12, 13, 14, 15, 16, 17, 18, 19]"
      ]
     },
     "execution_count": 17,
     "metadata": {},
     "output_type": "execute_result"
    }
   ],
   "source": [
    "[x for x in range(1,20)]"
   ]
  },
  {
   "cell_type": "markdown",
   "metadata": {
    "slideshow": {
     "slide_type": "fragment"
    }
   },
   "source": [
    "**Example 2**: Create a list with odd numbers from 1 to 39"
   ]
  },
  {
   "cell_type": "code",
   "execution_count": 18,
   "metadata": {
    "slideshow": {
     "slide_type": "fragment"
    }
   },
   "outputs": [
    {
     "data": {
      "text/plain": [
       "[1, 3, 5, 7, 9, 11, 13, 15, 17, 19, 21, 23, 25, 27, 29, 31, 33, 35, 37, 39]"
      ]
     },
     "execution_count": 18,
     "metadata": {},
     "output_type": "execute_result"
    }
   ],
   "source": [
    "[x for x in range(1, 40) if x % 2 is not 0]"
   ]
  },
  {
   "cell_type": "markdown",
   "metadata": {
    "slideshow": {
     "slide_type": "subslide"
    }
   },
   "source": [
    "**Example 3**: Creat a multiplication table of size 9x9."
   ]
  },
  {
   "cell_type": "code",
   "execution_count": 19,
   "metadata": {
    "slideshow": {
     "slide_type": "fragment"
    }
   },
   "outputs": [
    {
     "data": {
      "text/plain": [
       "[[1, 2, 3, 4, 5, 6, 7, 8, 9],\n",
       " [2, 4, 6, 8, 10, 12, 14, 16, 18],\n",
       " [3, 6, 9, 12, 15, 18, 21, 24, 27],\n",
       " [4, 8, 12, 16, 20, 24, 28, 32, 36],\n",
       " [5, 10, 15, 20, 25, 30, 35, 40, 45],\n",
       " [6, 12, 18, 24, 30, 36, 42, 48, 54],\n",
       " [7, 14, 21, 28, 35, 42, 49, 56, 63],\n",
       " [8, 16, 24, 32, 40, 48, 56, 64, 72],\n",
       " [9, 18, 27, 36, 45, 54, 63, 72, 81]]"
      ]
     },
     "execution_count": 19,
     "metadata": {},
     "output_type": "execute_result"
    }
   ],
   "source": [
    "[[i*j  for i in range(1,10)] for j in range(1, 10)]"
   ]
  },
  {
   "cell_type": "markdown",
   "metadata": {},
   "source": [
    "**Example 4**: Create a list with prime numbers from 2 to 39"
   ]
  },
  {
   "cell_type": "code",
   "execution_count": 20,
   "metadata": {
    "slideshow": {
     "slide_type": "fragment"
    }
   },
   "outputs": [
    {
     "data": {
      "text/plain": [
       "[2, 3, 5, 7, 11, 13, 17, 19, 23, 29, 31, 37]"
      ]
     },
     "execution_count": 20,
     "metadata": {},
     "output_type": "execute_result"
    }
   ],
   "source": [
    "[x for x in range(2, 40) if 0 not in [x%p for p in range(2, x)]]"
   ]
  },
  {
   "cell_type": "markdown",
   "metadata": {
    "slideshow": {
     "slide_type": "slide"
    }
   },
   "source": [
    "### Functions\n",
    "\n",
    "* Syntax\n",
    "* Arguments\n",
    "* Scope and Lifetime of variables"
   ]
  },
  {
   "cell_type": "markdown",
   "metadata": {
    "slideshow": {
     "slide_type": "subslide"
    }
   },
   "source": [
    "#### Syntax\n",
    "```python\n",
    "def function_name(arguments):\n",
    "    \"\"\"doc_string\"\"\"\n",
    "    statement\n",
    "```"
   ]
  },
  {
   "cell_type": "markdown",
   "metadata": {
    "slideshow": {
     "slide_type": "subslide"
    }
   },
   "source": [
    "#### Arguments\n",
    "\n",
    "* Positional arguments\n",
    "* Keyword arguments\n",
    "* Default arguments\n",
    "* Optional arguments\n",
    "\n",
    "Check the details in [Lecture 2](http://www.it.uu.se/edu/course/homepage/prog1/english/index.html/LectureNotes/Lecture2.html)."
   ]
  },
  {
   "cell_type": "markdown",
   "metadata": {
    "slideshow": {
     "slide_type": "subslide"
    }
   },
   "source": [
    "#### Scope and Lifetime of variables\n",
    "\n",
    "- Scope of a variable is the places of a program where the variable is recognized. Parameters and variables defined inside a function is not visible from outside (local scope).\n",
    "\n",
    "- Lifetime of a variable is the period throughout which the variable exits in the memory. The lifetime of variables inside a function is as long as the function executes. They are destroyed once we return from the function. Hence, **a function does not remember the value of a variable from its previous calls**."
   ]
  },
  {
   "cell_type": "markdown",
   "metadata": {
    "slideshow": {
     "slide_type": "fragment"
    }
   },
   "source": [
    "**Quiz 1**\n",
    "``` python\n",
    "x = 1\n",
    "def scope(x):\n",
    "    x = x * 2\n",
    "    return x\n",
    "\n",
    "print(x, end=',')\n",
    "x = scope(x)\n",
    "print(x, end=',')\n",
    "```\n",
    "What is the output?\n",
    "**A**. 1,1, **B**. 1,2, **C**. 2,1, **D**. 2,2, **E**. None of these"
   ]
  },
  {
   "cell_type": "code",
   "execution_count": 21,
   "metadata": {
    "slideshow": {
     "slide_type": "subslide"
    }
   },
   "outputs": [
    {
     "name": "stdout",
     "output_type": "stream",
     "text": [
      "1,2,"
     ]
    }
   ],
   "source": [
    "x = 1\n",
    "def scope(x):\n",
    "    x = x * 2\n",
    "    return x\n",
    "\n",
    "print(x, end=',')\n",
    "x = scope(x)\n",
    "print(x, end=',')"
   ]
  },
  {
   "cell_type": "markdown",
   "metadata": {
    "slideshow": {
     "slide_type": "slide"
    }
   },
   "source": [
    "### Classes\n",
    "\n",
    "Classes makes it to possible to build custom types.\n",
    "\n",
    "* Two major components in a class: attributes and methods.\n",
    "* The constructor is the `__init__` method, which initialize the class.\n",
    "* The first argument of a method is always the object itself. By convention, it is always called self.\n",
    "* Attributes can be accessed and modified from outside using ., e.g. `p.x`\n",
    "\n",
    "**Example**: "
   ]
  },
  {
   "cell_type": "code",
   "execution_count": 22,
   "metadata": {
    "slideshow": {
     "slide_type": "fragment"
    }
   },
   "outputs": [
    {
     "name": "stdout",
     "output_type": "stream",
     "text": [
      "2020-01-14\n",
      "The exam of Programming in Python (1TD327) will take place on 2020-01-14.\n"
     ]
    }
   ],
   "source": [
    "class Exam:\n",
    "    def __init__(self, name, code, date):\n",
    "        self.name = name\n",
    "        self.code = code\n",
    "        self.date = date\n",
    "    def __str__(self):\n",
    "        return f'The exam of {self.name} ({self.code}) will take place on {self.date}.'\n",
    "\n",
    "e = Exam('Programming in Python', '1TD327', '2020-01-14')\n",
    "print(e.date)\n",
    "print(e)"
   ]
  },
  {
   "cell_type": "markdown",
   "metadata": {
    "slideshow": {
     "slide_type": "slide"
    }
   },
   "source": [
    "### Modules and libraries\n",
    "\n",
    "- A common way to create reusable code packages is to collect functions and classes.\n",
    "- Basic libraries we have covered: `math`, `csv`, `matplotlib`, `numpy`.\n",
    "- Advanced libraries: `scipy`, `pandas`.\n",
    "\n",
    "**Note**: We showed some examples of the advanced libraries during the course, to inspire those who might be interested. The details of these libraries are out of the scope of this course."
   ]
  },
  {
   "cell_type": "markdown",
   "metadata": {
    "slideshow": {
     "slide_type": "slide"
    }
   },
   "source": [
    "### Errors and exceptions\n",
    "\n",
    "* Use the given error messages to identify where and what is the issue."
   ]
  },
  {
   "cell_type": "markdown",
   "metadata": {
    "slideshow": {
     "slide_type": "fragment"
    }
   },
   "source": [
    "```python\n",
    "def square(x):\n",
    "    return x*x\n",
    "\n",
    "y = square('a')\n",
    "print(y)\n",
    "```\n",
    "\n",
    "``` python\n",
    "---------------------------------------------------------------------------\n",
    "TypeError                                 Traceback (most recent call last)\n",
    "<ipython-input-34-cea2da70f2d6> in <module>\n",
    "      2     return x*x\n",
    "      3 \n",
    "----> 4 y = square('a')\n",
    "      5 print(y)\n",
    "\n",
    "<ipython-input-34-cea2da70f2d6> in square(x)\n",
    "      1 def square(x):\n",
    "----> 2     return x*x\n",
    "      3 \n",
    "      4 y = square('a')\n",
    "      5 print(y)\n",
    "\n",
    "TypeError: cannot multiply sequence by non-int of type 'str'\n",
    "```"
   ]
  },
  {
   "cell_type": "markdown",
   "metadata": {
    "slideshow": {
     "slide_type": "slide"
    }
   },
   "source": [
    "## The written exam\n",
    "\n",
    "### About the grading system\n",
    "\n",
    "* The exam has two parts: A. basic, B. advanced.\n",
    "* In order to pass, you only need to get at least 75% of the points from Part A.\n",
    "* **If Part A is failed,  we will not grade Part B.**\n",
    "* To get `Grade 4`, you need to pass Part A and get more than 50% of the points from Part B.\n",
    "* For `Grade 5`, you need to get more than 85% of the points **both from Part A and Part B**.\n"
   ]
  },
  {
   "cell_type": "markdown",
   "metadata": {
    "slideshow": {
     "slide_type": "subslide"
    }
   },
   "source": [
    "### Scope of the exam\n",
    "\n",
    "* All concepts covered in the lecture notes, lessons and MINI projects, including the links in these materials.\n",
    "* The lecture notes are available on the course website (HTML) and Studentportalen (pdf).\n",
    "* `scipy` and `pandas` will not apprear in the exam."
   ]
  },
  {
   "cell_type": "markdown",
   "metadata": {
    "slideshow": {
     "slide_type": "subslide"
    }
   },
   "source": [
    "### Exam questions\n",
    "\n",
    "* Multiple choice \n",
    "    * The number of correct answers may be more than one.\n",
    "    * 1 point(1p) for each question.\n",
    "    * Only selecting **all** the correct answers will give you 1p.\n",
    "    * No 0.5p in this section, if your answer is a subset of the correct answers, you get 0 point. \n",
    "    * Problems which has 'None of these' as the correct answer give you additional 1p, if you also write down the solution correctly."
   ]
  },
  {
   "cell_type": "markdown",
   "metadata": {
    "slideshow": {
     "slide_type": "subslide"
    }
   },
   "source": [
    "* Programming task \n",
    "    * The value of the question depends on the difficulty level and the amount of work.\n",
    "    * The minimal unit is 0.5p.\n",
    "    * The code should be written in correct Python with appropriate variable names, short but descriptive names of functions, classes and methods.\n",
    "    * Comments are not necessary.\n",
    "    * Please note that the grade is negatively affected by\n",
    "        * missing important syntax, such as `:` after loop and function definition\n",
    "        * incorrect or unclear indentation,\n",
    "        * typos\n",
    "        * unnecessary variables,\n",
    "        * poor readability, such as `,` or `.`, `[]`, `()` or `{}`\n",
    "        * repetition of identical code,\n",
    "        * failure to use the given / own written code, \n",
    "        * exceed the given line limitation."
   ]
  },
  {
   "cell_type": "markdown",
   "metadata": {
    "slideshow": {
     "slide_type": "subslide"
    }
   },
   "source": [
    "* short answer\n",
    "    * Keep your answer short, long text will not give you more points.\n",
    "    * If you are asked to complete/fix a python code, your code should follow the instructions of the programming tasks. \n",
    "    * If the question is about the output, \n",
    "        * You can give the output without starting with `>>>`.\n",
    "        * The format should be the same as what you can see on your screen.\n",
    "        * You don't need to write `\\t` or `\\n` explicitly."
   ]
  },
  {
   "cell_type": "code",
   "execution_count": 23,
   "metadata": {
    "slideshow": {
     "slide_type": "fragment"
    }
   },
   "outputs": [
    {
     "name": "stdout",
     "output_type": "stream",
     "text": [
      "a\n",
      "'a'\n"
     ]
    }
   ],
   "source": [
    "print('a')\n",
    "print('\\'a\\'')"
   ]
  }
 ],
 "metadata": {
  "kernelspec": {
   "display_name": "Python 3",
   "language": "python",
   "name": "python3"
  },
  "language_info": {
   "codemirror_mode": {
    "name": "ipython",
    "version": 3
   },
   "file_extension": ".py",
   "mimetype": "text/x-python",
   "name": "python",
   "nbconvert_exporter": "python",
   "pygments_lexer": "ipython3",
   "version": "3.6.9"
  }
 },
 "nbformat": 4,
 "nbformat_minor": 4
}

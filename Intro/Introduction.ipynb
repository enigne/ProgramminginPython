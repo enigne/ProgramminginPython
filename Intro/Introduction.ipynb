{
 "cells": [
  {
   "cell_type": "markdown",
   "metadata": {
    "slideshow": {
     "slide_type": "slide"
    }
   },
   "source": [
    "# Programming in Python, 1TD327, 5hp\n",
    "\n",
    "- Teacher: Cheng Gong, Adrien Coulier\n",
    "- Email: cheng.gong@it.uu.se, adrien.coulier@it.uu.se\n",
    "- Office: ITC 2448\n",
    "\n",
    "Source available: github.com/enigne/ProgramminginPython"
   ]
  },
  {
   "cell_type": "markdown",
   "metadata": {
    "slideshow": {
     "slide_type": "slide"
    }
   },
   "source": [
    "\n",
    "<p align=\"center\">\n",
    "<blockquote class=\"twitter-tweet\" data-lang=\"en\"><p lang=\"en\" dir=\"ltr\">&quot;The only way to learn a new programming language is by writing programs in it.&quot; - Dennis Ritchie</p>&mdash; Programming Wisdom (@CodeWisdom) <a href=\"https://twitter.com/CodeWisdom/status/1184448155435360256?ref_src=twsrc%5Etfw\">October 16, 2019</a></blockquote>\n",
    "<script async src=\"https://platform.twitter.com/widgets.js\" charset=\"utf-8\"></script>\n",
    "</p>\n"
   ]
  },
  {
   "cell_type": "markdown",
   "metadata": {
    "slideshow": {
     "slide_type": "notes"
    }
   },
   "source": [
    " [Dennis Ritchie](https://g.co/kgs/evmuuF) was an American computer scientist who created the C programming language."
   ]
  },
  {
   "cell_type": "markdown",
   "metadata": {
    "slideshow": {
     "slide_type": "fragment"
    }
   },
   "source": [
    "\n",
    "<p align=\"center\">\n",
    "<blockquote class=\"twitter-tweet\" data-lang=\"en\"><p lang=\"en\" dir=\"ltr\">&quot;The good news about computers is that they do what you tell them to do. The bad news is that they do what you tell them to do.&quot; - Ted Nelson</p>&mdash; Programming Wisdom (@CodeWisdom) <a href=\"https://twitter.com/CodeWisdom/status/1027534213858426880?ref_src=twsrc%5Etfw\">August 9, 2018</a></blockquote>\n",
    "<script async src=\"https://platform.twitter.com/widgets.js\" charset=\"utf-8\"></script>\n",
    "</p>"
   ]
  },
  {
   "cell_type": "markdown",
   "metadata": {
    "slideshow": {
     "slide_type": "notes"
    }
   },
   "source": [
    "[Ted Nelson](https://g.co/kgs/vb7G8L) is an American pioneer of information technology, philosopher and sociologist, who coined the terms hypertext and hypermedia."
   ]
  },
  {
   "cell_type": "markdown",
   "metadata": {
    "slideshow": {
     "slide_type": "slide"
    }
   },
   "source": [
    "## Course Information\n",
    "\n",
    "The course consists of \n",
    "- 6 lectures (optional) \n",
    "- 30 laboratory sessions in the computer room __with 5 compulsory reports__ (3 credits)\n",
    "- Final exam on 2020-01-16 (2 credits)\n",
    "\n",
    "The laboratory sessions with __individual__ work at the computer are essential for active learning and training. \n",
    "\n",
    "The lectures provide an in-depth picture (with theory) of the concepts you encounterwhile solving the practical tasks.\n",
    "\n",
    "<span style=\"font-family:Papyrus;font-size:12pt;color:#800000\">You are expected to spend ca. 125-150 hours on the present course. The scheduled teaching sessions amount to ca. 72 hours. This leaves ca. 50–80 hours for your own course work outside the classroom.</span>"
   ]
  },
  {
   "cell_type": "markdown",
   "metadata": {
    "slideshow": {
     "slide_type": "slide"
    }
   },
   "source": [
    "### Learning Outcomes\n",
    "\n",
    "On completion of the course, the student should be able to:\n",
    "\n",
    "- **indentify** how programming and programming constructions, data types, modules and functions can be used to solve problems in enginnering or bioinformatics;\n",
    "- **implement** such solutions by writing Python programs with several interacting components;\n",
    "- **use** and **describe** the fundamental concepts module, function, class, object and related subconcepts:\n",
    "- **use** an integrated development environment for testing and debugging"
   ]
  },
  {
   "cell_type": "markdown",
   "metadata": {
    "slideshow": {
     "slide_type": "slide"
    }
   },
   "source": [
    "### News in this course\n",
    "- First course with the programming language __Python__ given in __English__.\n",
    "- Previous years we have had in Java, and a Swedish version in Period 1.\n",
    "- New materials this time, many of them are translated from Swedish.\n",
    "- If you find any inaccuracies or ambiguities in the material, tell the teacher or the assistants in the lab, or send us an email."
   ]
  },
  {
   "cell_type": "markdown",
   "metadata": {
    "slideshow": {
     "slide_type": "slide"
    }
   },
   "source": [
    "### Course web page\n",
    "\n",
    "http://www.it.uu.se/edu/course/homepage/prog1/english/index.html\n",
    "\n",
    "The course website contains 10 online lessons which are the practical elements of the course, and 12 mini lessons that can be seen as an additional resource\n"
   ]
  },
  {
   "cell_type": "markdown",
   "metadata": {
    "slideshow": {
     "slide_type": "slide"
    }
   },
   "source": [
    "### Course Schedule\n",
    "\n",
    "\n",
    "| Week |  Lecture | Related online lessons and materials | Deadline | Number of labs  |\n",
    "| :--: | :--------------- | :--------------------------------------------------- |:-------------- |:---: |\n",
    "| w45 | Lecture 1 (Nov 04) |Course Presentation<br> 1. Basic concepts<br>2. IDLE, print, input, if, for, while  | | 5  |\n",
    "| w46 | Lecture 2 (Nov 11) |3. Turtles <br> 4. Functions | |4 | \n",
    "| w47 | Lecture 3 (Nov 18) | **5. Object, parameter transfer, return values (O1)** <br> **6. Lists, test (O2)** |  <span style=\"color:red\">L11 (Nov 19) <br> L14 (Nov 22)</span>  | 5 |\n",
    "| w48 | Lecture 4 (Nov 26) | **7. Working with text (O3)** <br> 8. Introduction to classes, Git  |  <span style=\"color:red\">L18 (Nov 28)</span> | 5 | \n",
    "| w49 | Lecture 5 (Dec 05) | **9. Scientific mini project 1 (O4)** |  <span style=\"color:red\">L23 (Dec 6)</span>  | 4 |\n",
    "| w50 | Lecture 6 (Dec 09) | **10. Scientific mini project 2 (O5)** |  <span style=\"color:red\">L29 (Dec 13)</span>  | 6 | \n",
    "||||||\n",
    "| 2020, w3 | Final exam  |  | <span style=\"color:#800000\">2020-01-14</span> | 1 |\n",
    "\n",
    "    \n",
    "**Note**: The bold lessons are **mandatory**. It is possible to report these before the deadline.\n",
    "    \n",
    "\n",
    "**Written exam**: 2020-01-14 (Mandatory to register in advance if you are going to take the exam)"
   ]
  },
  {
   "cell_type": "markdown",
   "metadata": {
    "slideshow": {
     "slide_type": "slide"
    }
   },
   "source": [
    "### More about the mandatory lessons\n",
    "\n",
    "- You need to be able to identify yourself as this is part of the examination.\n",
    "- You must present the results at the **latest** on the lab sessions stated on the Course Schedule. This should be done individually.\n",
    "- Some tasks include questions. In cases where the questions have given an answer, you should try to answer the question before looking at the answer. Ask the assistant if you do not understand the answer! Questions without given answers should be answered on paper or on a document in the computer.\n",
    "- You must be able to answer questions about your code and do additional coding tasks directly.\n",
    "- If you are traveling on one of the occasions, you have to present the results to us **before** the deadline.\n",
    "- Resources (teachers and assistants) for supervision and reporting of lessons are available during the course. After the end of the course, you cannot count on getting help or present the results.\n",
    "- The information now applies to the current course . You cannot automatically calculate previously made data or automatically use some of its information in an upcoming course.\n",
    "\n",
    "Please note that it is **NOT** possible to arrive at the end of the course and present all of the lessons."
   ]
  },
  {
   "cell_type": "markdown",
   "metadata": {
    "slideshow": {
     "slide_type": "slide"
    }
   },
   "source": [
    "### Lab Rooms\n",
    "\n",
    "We will be in the labs of houses 2 mainly, 2510, 2507, 2516. Sometimes, building 1, 1510, 1515, 1549.\n",
    "\n",
    "<span style=\"font-family:Papyrus;font-size:16pt;color:#800000\"> Select halls in order 2510, 2507, 2516, then building 1. </span>"
   ]
  },
  {
   "cell_type": "markdown",
   "metadata": {
    "slideshow": {
     "slide_type": "fragment"
    }
   },
   "source": [
    "### If you have questions..."
   ]
  },
  {
   "cell_type": "markdown",
   "metadata": {
    "slideshow": {
     "slide_type": "fragment"
    }
   },
   "source": [
    "- The first thing is to ask [google](http://www.google.com/)\n",
    "<a href=\"http://www.google.com/\" target=\"_blank\"><img style=\"float: center;\" src=\"https://www.google.com/images/logo.png\" width=\"200\" title=\"google\">\n",
    "</a>"
   ]
  },
  {
   "cell_type": "markdown",
   "metadata": {
    "slideshow": {
     "slide_type": "fragment"
    }
   },
   "source": [
    "> - You can search with the keywords. _e.g, search <a href=\"https://www.google.com/search?q=python+draw+a+circle\" target=\"_blank\">python draw a circle</a>_\n",
    "> - You can search with the error messages. \n",
    "> - You can look up the documents and examples.\n",
    "> - ..."
   ]
  },
  {
   "cell_type": "markdown",
   "metadata": {
    "slideshow": {
     "slide_type": "slide"
    }
   },
   "source": [
    "## Programming\n",
    "\n",
    "Programming is the process of designing and building a set of instructions for accomplishing a specific task."
   ]
  },
  {
   "cell_type": "markdown",
   "metadata": {
    "slideshow": {
     "slide_type": "fragment"
    }
   },
   "source": [
    "There are many paradigms of programming."
   ]
  },
  {
   "cell_type": "markdown",
   "metadata": {
    "slideshow": {
     "slide_type": "fragment"
    }
   },
   "source": [
    "- **Functional programming**: Describe the problem as a mathematical function and let the computer solve it."
   ]
  },
  {
   "cell_type": "markdown",
   "metadata": {
    "slideshow": {
     "slide_type": "fragment"
    }
   },
   "source": [
    "- **Procedural programming**: Describe an explicit step-by-step solution for the computer to perform. The procedures describes how a calculation is done."
   ]
  },
  {
   "cell_type": "markdown",
   "metadata": {
    "slideshow": {
     "slide_type": "fragment"
    }
   },
   "source": [
    "- **Declarative programming**: Describe the problem in the form of a model that expresses the logic of a computation without describing its control flow."
   ]
  },
  {
   "cell_type": "markdown",
   "metadata": {
    "slideshow": {
     "slide_type": "fragment"
    }
   },
   "source": [
    "- **Object-oriented programming**: ased on the concept of \"objects\" which contains data and procedures."
   ]
  },
  {
   "cell_type": "markdown",
   "metadata": {
    "slideshow": {
     "slide_type": "fragment"
    }
   },
   "source": [
    "**......**"
   ]
  },
  {
   "cell_type": "markdown",
   "metadata": {
    "slideshow": {
     "slide_type": "slide"
    }
   },
   "source": [
    "### Text based programming\n",
    "\n",
    "Example: calculate the area of a triangle"
   ]
  },
  {
   "cell_type": "code",
   "execution_count": 1,
   "metadata": {
    "slideshow": {
     "slide_type": "fragment"
    }
   },
   "outputs": [
    {
     "name": "stdout",
     "output_type": "stream",
     "text": [
      "20.0\n"
     ]
    }
   ],
   "source": [
    "base = 5\n",
    "height = 8\n",
    "area = 0.5 * base * height\n",
    "print(area)"
   ]
  },
  {
   "cell_type": "markdown",
   "metadata": {
    "slideshow": {
     "slide_type": "fragment"
    }
   },
   "source": [
    "### Graphic based programming\n",
    "\n",
    "<img style=\"float: left;\" src=\"https://www.ni.com/images/gettingstarted/neutral/lv_env_8.gif\" width=\"400\" title=\"labview\">"
   ]
  },
  {
   "cell_type": "markdown",
   "metadata": {
    "slideshow": {
     "slide_type": "skip"
    }
   },
   "source": [
    "***"
   ]
  },
  {
   "cell_type": "markdown",
   "metadata": {
    "slideshow": {
     "slide_type": "slide"
    }
   },
   "source": [
    "# Introduction to Programming in Python"
   ]
  },
  {
   "cell_type": "markdown",
   "metadata": {
    "slideshow": {
     "slide_type": "fragment"
    }
   },
   "source": [
    "- [Python](https://www.python.org) supports multiple programming paradigms, including procedural, object-oriented, and functional programming. \n",
    "\n",
    "<a href=\"https://www.python.org/\" target=\"_blank\"><img style=\"float: left;background-color:#888888;\" src=\"https://www.python.org/static/img/python-logo.png\" width=\"300\" title=\"Python\">\n",
    "</a>"
   ]
  },
  {
   "cell_type": "markdown",
   "metadata": {
    "slideshow": {
     "slide_type": "slide"
    }
   },
   "source": [
    "## Python tools"
   ]
  },
  {
   "cell_type": "markdown",
   "metadata": {
    "slideshow": {
     "slide_type": "slide"
    }
   },
   "source": [
    "### Interactive Python in Terminal\n",
    "\n",
    "Python can be programmed interactively in the terminal, line by line, which can behandy either in the beginning when learning to program, and also to quicklytest things even when you are a used and experienced programmer"
   ]
  },
  {
   "cell_type": "markdown",
   "metadata": {
    "slideshow": {
     "slide_type": "fragment"
    }
   },
   "source": [
    "```\n",
    "Python 3.6.9 |Anaconda, Inc.| (default, Jul 30 2019, 19:07:31) \n",
    "[GCC 7.3.0] on linux\n",
    "Type \"help\", \"copyright\", \"credits\" or \"license\" for more information.\n",
    ">>>\n",
    "```"
   ]
  },
  {
   "cell_type": "markdown",
   "metadata": {
    "slideshow": {
     "slide_type": "slide"
    }
   },
   "source": [
    "### Integrated Development Environment (IDE)\n",
    "\n",
    "There are a large number of IDEs that can facilitate writing, reading and testing of programming code.\n",
    "\n",
    "- IDLE: Comes with Python\n",
    "- Spyder: An open source cross-platform IDE for Python.\n",
    "- Visual Studio Code: An open source IDE from Microsoft\n",
    "- PyCharm: A commercial IDE that has many good and powerful tools(you can get an academic license for free)"
   ]
  },
  {
   "cell_type": "markdown",
   "metadata": {
    "slideshow": {
     "slide_type": "slide"
    }
   },
   "source": [
    "### Anaconda: A Python distribution\n",
    "\n",
    "[Anaconda](https://www.anaconda.com/distribution/) is an open-source distribution of Python that contains a large collection of popular packages.\n",
    "\n",
    "<a href=\"https://www.anaconda.com/distribution/\" target=\"_blank\">\n",
    "<img style=\"float: left;\" src=\"https://upload.wikimedia.org/wikipedia/en/thumb/c/cd/Anaconda_Logo.png/200px-Anaconda_Logo.png\" width=\"200\" title=\"Anaconda\">\n",
    "</a>"
   ]
  },
  {
   "cell_type": "markdown",
   "metadata": {
    "slideshow": {
     "slide_type": "slide"
    }
   },
   "source": [
    "### Ipython\n",
    "\n",
    "[IPython](https://ipython.org/) is an enhanced interactive Python environment aimed at maximizing productivity in workflows that combine data, computation and exploratory programming.\n",
    "\n",
    "<a href=\"https://ipython.org/\" target=\"_blank\">\n",
    "<img style=\"float: left;\" src=\"https://i2.wp.com/www.numfocus.org/wp-content/uploads/2016/07/ipython-logo-300.png?w=1080&ssl=1\" width=\"200\" title=\"Anaconda\"></a>"
   ]
  },
  {
   "cell_type": "markdown",
   "metadata": {
    "slideshow": {
     "slide_type": "slide"
    }
   },
   "source": [
    "### Project Jupyter\n",
    "\n",
    "[Project Jupyter](https://jupyter.org/) is a nonprofit organization created to \"develop open-source software, open-standards, and services for interactive computing across dozens of programming languages\". Spun-off from IPython in 2014 by Fernando Pérez, Project Jupyter supports execution environments in several dozen languages. \n",
    "\n",
    "<a href=\"https://jupyter.org/\" target=\"_blank\">\n",
    "<img style=\"float: left;\" src=\"https://jupyter.org/assets/main-logo.svg\" width=\"200\" title=\"Anaconda\">\n",
    "</a>"
   ]
  },
  {
   "cell_type": "markdown",
   "metadata": {
    "slideshow": {
     "slide_type": "slide"
    }
   },
   "source": [
    "## Python programming"
   ]
  },
  {
   "cell_type": "markdown",
   "metadata": {},
   "source": [
    "An Example"
   ]
  },
  {
   "cell_type": "code",
   "execution_count": 2,
   "metadata": {
    "slideshow": {
     "slide_type": "fragment"
    }
   },
   "outputs": [
    {
     "data": {
      "text/plain": [
       "80"
      ]
     },
     "execution_count": 2,
     "metadata": {},
     "output_type": "execute_result"
    }
   ],
   "source": [
    "5*2**4"
   ]
  },
  {
   "cell_type": "code",
   "execution_count": 3,
   "metadata": {
    "slideshow": {
     "slide_type": "fragment"
    }
   },
   "outputs": [
    {
     "data": {
      "text/plain": [
       "80"
      ]
     },
     "execution_count": 3,
     "metadata": {},
     "output_type": "execute_result"
    }
   ],
   "source": [
    "5*(2**4)"
   ]
  },
  {
   "cell_type": "code",
   "execution_count": 4,
   "metadata": {
    "slideshow": {
     "slide_type": "fragment"
    }
   },
   "outputs": [
    {
     "data": {
      "text/plain": [
       "9"
      ]
     },
     "execution_count": 4,
     "metadata": {},
     "output_type": "execute_result"
    }
   ],
   "source": [
    "1+3*2+2"
   ]
  },
  {
   "cell_type": "markdown",
   "metadata": {
    "slideshow": {
     "slide_type": "fragment"
    }
   },
   "source": [
    "The arithmetic in Python follows common priority rules in mathematics, multiplication before addition, etc."
   ]
  },
  {
   "cell_type": "markdown",
   "metadata": {
    "slideshow": {
     "slide_type": "slide"
    }
   },
   "source": [
    "### Logic in Python\n",
    "\n",
    "- `a == b`: equality test (value)\n",
    "- `not(a)`: negation of expression\n",
    "- `a is b`: test for similarity (identity)\n",
    "- `a < b, a <= b, a > b, a >= b`: differences"
   ]
  },
  {
   "cell_type": "markdown",
   "metadata": {
    "slideshow": {
     "slide_type": "slide"
    }
   },
   "source": [
    "### Arithmetic in Python\n",
    "\n",
    "- `a + b`: addition\n",
    "- `a - b`: subtraction\n",
    "- `a * b`: multiplication\n",
    "- `a / b`: floating point division\n",
    "- `a // b`: integer division\n",
    "- `a ** b`: a raised to b\n",
    "- `a % b`: modulo / residue at division, `5 % 3 == 2`"
   ]
  },
  {
   "cell_type": "markdown",
   "metadata": {
    "slideshow": {
     "slide_type": "slide"
    }
   },
   "source": [
    "### Variables: associates a name with a value"
   ]
  },
  {
   "cell_type": "code",
   "execution_count": 5,
   "metadata": {
    "slideshow": {
     "slide_type": "fragment"
    }
   },
   "outputs": [
    {
     "name": "stdout",
     "output_type": "stream",
     "text": [
      "128\n",
      "<class 'int'>\n"
     ]
    }
   ],
   "source": [
    "a = 2\n",
    "b = 7\n",
    "c = a ** b\n",
    "print(c)\n",
    "print(type(c))"
   ]
  },
  {
   "cell_type": "code",
   "execution_count": 6,
   "metadata": {
    "slideshow": {
     "slide_type": "fragment"
    }
   },
   "outputs": [
    {
     "name": "stdout",
     "output_type": "stream",
     "text": [
      "128.0\n",
      "<class 'float'>\n"
     ]
    }
   ],
   "source": [
    "a = 2.0\n",
    "b = 7\n",
    "c = a ** b\n",
    "print(c)\n",
    "print(type(c))"
   ]
  },
  {
   "cell_type": "markdown",
   "metadata": {
    "slideshow": {
     "slide_type": "fragment"
    }
   },
   "source": [
    "In Python you do not need to define the data type of variables in the code, but they get their type dynamically when running the program."
   ]
  },
  {
   "cell_type": "markdown",
   "metadata": {
    "slideshow": {
     "slide_type": "slide"
    }
   },
   "source": [
    "### Variables in Python are not like variables in mathematics\n",
    "\n",
    "``` python\n",
    "a = 2\n",
    "a = 3\n",
    "```\n",
    "\n",
    "- These expressions lead to a *contradiction* in mathematics, since `a` can not have two different values at the same time.\n",
    "- In Python, `=` **does not mean equality**, but assignment, which changes the value of variable `a`. After line 1, `a` has the value `2`, and after line 2, `a` has the value `3`."
   ]
  },
  {
   "cell_type": "markdown",
   "metadata": {
    "slideshow": {
     "slide_type": "slide"
    }
   },
   "source": [
    "### Comments\n",
    "``` python\n",
    "# This is a comment. It will be ignored by Python.\n",
    "\n",
    "\n",
    "\"\"\"\n",
    "These are\n",
    "multiline \n",
    "comments.\n",
    "\"\"\"\n",
    "```\n",
    "\n",
    "Comments are used to describe what a piece of code does, and why."
   ]
  },
  {
   "cell_type": "markdown",
   "metadata": {
    "slideshow": {
     "slide_type": "slide"
    }
   },
   "source": [
    "### The first example of strings"
   ]
  },
  {
   "cell_type": "code",
   "execution_count": 7,
   "metadata": {
    "slideshow": {
     "slide_type": "fragment"
    }
   },
   "outputs": [
    {
     "name": "stdout",
     "output_type": "stream",
     "text": [
      "Hej! Jag heter Cheng Gong\n"
     ]
    }
   ],
   "source": [
    "name = 'Cheng Gong'\n",
    "s = f'Hej! Jag heter {name}' \n",
    "print(s)"
   ]
  },
  {
   "cell_type": "markdown",
   "metadata": {
    "slideshow": {
     "slide_type": "fragment"
    }
   },
   "source": [
    "The variables `name` and `s` are strings. (Sequences of characters representing text)"
   ]
  },
  {
   "cell_type": "markdown",
   "metadata": {
    "slideshow": {
     "slide_type": "fragment"
    }
   },
   "source": [
    "### More examples of strings"
   ]
  },
  {
   "cell_type": "code",
   "execution_count": 8,
   "metadata": {
    "slideshow": {
     "slide_type": "fragment"
    }
   },
   "outputs": [
    {
     "name": "stdout",
     "output_type": "stream",
     "text": [
      "Hej! Jag heter Cheng Gong\n"
     ]
    }
   ],
   "source": [
    "name = 'Cheng Gong'\n",
    "s = 'Hej! Jag heter ' + name \n",
    "print(s)"
   ]
  },
  {
   "cell_type": "code",
   "execution_count": 9,
   "metadata": {
    "slideshow": {
     "slide_type": "fragment"
    }
   },
   "outputs": [
    {
     "name": "stdout",
     "output_type": "stream",
     "text": [
      "Hej! Jag heter Cheng Gong\n"
     ]
    }
   ],
   "source": [
    "# The problem with this notation is that it's easier to make mistakes.\n",
    "s = 'Hej! Jag heter %s' % 'Cheng Gong' \n",
    "print(s)"
   ]
  },
  {
   "cell_type": "markdown",
   "metadata": {
    "slideshow": {
     "slide_type": "slide"
    }
   },
   "source": [
    "### Conditional statements"
   ]
  },
  {
   "cell_type": "code",
   "execution_count": 10,
   "metadata": {
    "slideshow": {
     "slide_type": "fragment"
    }
   },
   "outputs": [
    {
     "name": "stdout",
     "output_type": "stream",
     "text": [
      "a is positive.\n"
     ]
    }
   ],
   "source": [
    "a = 7\n",
    "if a > 0: \n",
    "    print('a is positive.')\n",
    "elif a == 0:\n",
    "    print('a is zero.')\n",
    "else:\n",
    "    print('a is negative.')"
   ]
  },
  {
   "cell_type": "code",
   "execution_count": 11,
   "metadata": {
    "slideshow": {
     "slide_type": "fragment"
    }
   },
   "outputs": [
    {
     "name": "stdout",
     "output_type": "stream",
     "text": [
      "a is positive.\n"
     ]
    }
   ],
   "source": [
    "a = 7\n",
    "# put if else in one line\n",
    "s = 'a is ' +  ('positive.' if a > 0 else 'negative.' if a < 0 else 'zero.')\n",
    "print(s)"
   ]
  },
  {
   "cell_type": "markdown",
   "metadata": {
    "slideshow": {
     "slide_type": "slide"
    }
   },
   "source": [
    "### Input and Output\n",
    "\n",
    "<a href=\"https://docs.python.org/3/library/functions.html#print\" target=\"_blank\">print</a>: Prints a value in the terminal/files, separated by `sep` and followed by `end`.  "
   ]
  },
  {
   "cell_type": "code",
   "execution_count": 12,
   "metadata": {
    "slideshow": {
     "slide_type": "fragment"
    }
   },
   "outputs": [
    {
     "name": "stdout",
     "output_type": "stream",
     "text": [
      "a-b-c-d\n"
     ]
    }
   ],
   "source": [
    "print('a', 'b', 'c', 'd', sep='-', end='\\n')"
   ]
  },
  {
   "cell_type": "markdown",
   "metadata": {
    "slideshow": {
     "slide_type": "fragment"
    }
   },
   "source": [
    "<a href=\"https://docs.python.org/3/library/functions.html#input\" target=\"_blank\">input</a>: Reads a line from input(e.g. terminal) and returns it."
   ]
  },
  {
   "cell_type": "markdown",
   "metadata": {
    "slideshow": {
     "slide_type": "fragment"
    }
   },
   "source": [
    "``` python\n",
    "name = input ('Name?')\n",
    "print (f'Hej {name}')\n",
    "```"
   ]
  },
  {
   "cell_type": "markdown",
   "metadata": {
    "slideshow": {
     "slide_type": "slide"
    }
   },
   "source": [
    "### Loops"
   ]
  },
  {
   "cell_type": "code",
   "execution_count": 13,
   "metadata": {
    "slideshow": {
     "slide_type": "fragment"
    }
   },
   "outputs": [
    {
     "name": "stdout",
     "output_type": "stream",
     "text": [
      "10\n",
      "8\n",
      "6\n",
      "4\n",
      "2\n"
     ]
    }
   ],
   "source": [
    "i = 10\n",
    "while i > 0:\n",
    "    if i % 2 == 0:\n",
    "        print(i)\n",
    "    i = i - 1"
   ]
  },
  {
   "cell_type": "markdown",
   "metadata": {
    "slideshow": {
     "slide_type": "slide"
    }
   },
   "source": [
    "### Indentation (distance to the left margin)\n",
    "Python uses indentation: A code block (body of a function, loop etc.) starts with indentation and ends with the first unindented line."
   ]
  },
  {
   "cell_type": "code",
   "execution_count": 14,
   "metadata": {
    "slideshow": {
     "slide_type": "skip"
    }
   },
   "outputs": [],
   "source": [
    "a = 1"
   ]
  },
  {
   "cell_type": "code",
   "execution_count": 15,
   "metadata": {},
   "outputs": [
    {
     "name": "stdout",
     "output_type": "stream",
     "text": [
      "ab"
     ]
    }
   ],
   "source": [
    "if a > 0:\n",
    "    print('a', end='')\n",
    "    print('b', end='')"
   ]
  },
  {
   "cell_type": "code",
   "execution_count": 16,
   "metadata": {},
   "outputs": [
    {
     "name": "stdout",
     "output_type": "stream",
     "text": [
      "ab"
     ]
    }
   ],
   "source": [
    "if a > 0:\n",
    "    print('a', end='')\n",
    "print('b', end='')"
   ]
  },
  {
   "cell_type": "markdown",
   "metadata": {
    "slideshow": {
     "slide_type": "slide"
    }
   },
   "source": [
    "### Loops inside loops"
   ]
  },
  {
   "cell_type": "markdown",
   "metadata": {},
   "source": [
    "``` python\n",
    "i = 0\n",
    "while i < 3:\n",
    "    j = 0\n",
    "    while j < 4:\n",
    "        print(f'({i}, {j})')\n",
    "        j = j + 1\n",
    "    i = i + 1\n",
    "```\n",
    "*Think for 1 minute: What is printed, and in what order?*"
   ]
  },
  {
   "cell_type": "code",
   "execution_count": 17,
   "metadata": {
    "slideshow": {
     "slide_type": "subslide"
    }
   },
   "outputs": [
    {
     "name": "stdout",
     "output_type": "stream",
     "text": [
      "(0, 0)\n",
      "(0, 1)\n",
      "(0, 2)\n",
      "(0, 3)\n",
      "(1, 0)\n",
      "(1, 1)\n",
      "(1, 2)\n",
      "(1, 3)\n",
      "(2, 0)\n",
      "(2, 1)\n",
      "(2, 2)\n",
      "(2, 3)\n"
     ]
    }
   ],
   "source": [
    "i = 0\n",
    "while i < 3:\n",
    "    j = 0\n",
    "    while j < 4:\n",
    "        print(f'({i}, {j})')\n",
    "        j = j + 1\n",
    "    i = i + 1"
   ]
  },
  {
   "cell_type": "markdown",
   "metadata": {
    "slideshow": {
     "slide_type": "slide"
    }
   },
   "source": [
    "#### Example: Factorial\n",
    "\n",
    "Calculate $500!=1\\times2\\times3\\times\\cdots\\times500$"
   ]
  },
  {
   "cell_type": "code",
   "execution_count": 18,
   "metadata": {
    "slideshow": {
     "slide_type": "fragment"
    }
   },
   "outputs": [
    {
     "name": "stdout",
     "output_type": "stream",
     "text": [
      "1220136825991110068701238785423046926253574342803192842192413588385845373153881997605496447502203281863013616477148203584163378722078177200480785205159329285477907571939330603772960859086270429174547882424912726344305670173270769461062802310452644218878789465754777149863494367781037644274033827365397471386477878495438489595537537990423241061271326984327745715546309977202781014561081188373709531016356324432987029563896628911658974769572087926928871281780070265174507768410719624390394322536422605234945850129918571501248706961568141625359056693423813008856249246891564126775654481886506593847951775360894005745238940335798476363944905313062323749066445048824665075946735862074637925184200459369692981022263971952597190945217823331756934581508552332820762820023402626907898342451712006207714640979456116127629145951237229913340169552363850942885592018727433795173014586357570828355780158735432768888680120399882384702151467605445407663535984174430480128938313896881639487469658817504506926365338175055478128640000000000000000000000000000000000000000000000000000000000000000000000000000000000000000000000000000000000000000000000000000\n"
     ]
    }
   ],
   "source": [
    "fac = 1\n",
    "n = 500\n",
    "while n > 0:\n",
    "    fac = fac * n\n",
    "    n = n - 1\n",
    "print(fac)"
   ]
  },
  {
   "cell_type": "code",
   "execution_count": 19,
   "metadata": {
    "slideshow": {
     "slide_type": "subslide"
    }
   },
   "outputs": [
    {
     "name": "stdout",
     "output_type": "stream",
     "text": [
      "inf\n"
     ]
    }
   ],
   "source": [
    "fac = 1.0\n",
    "n = 500\n",
    "while n > 0:\n",
    "    fac = fac * n\n",
    "    n = n - 1\n",
    "print(fac)"
   ]
  },
  {
   "cell_type": "markdown",
   "metadata": {
    "slideshow": {
     "slide_type": "fragment"
    }
   },
   "source": [
    "**NOTE**: There is no limit to the value of integers in (Python 3). However, there is a limit of the maximum float number:"
   ]
  },
  {
   "cell_type": "code",
   "execution_count": 20,
   "metadata": {},
   "outputs": [
    {
     "name": "stdout",
     "output_type": "stream",
     "text": [
      "1.7976931348623157e+308\n"
     ]
    }
   ],
   "source": [
    "import sys\n",
    "print(sys.float_info.max)"
   ]
  },
  {
   "cell_type": "markdown",
   "metadata": {
    "slideshow": {
     "slide_type": "fragment"
    }
   },
   "source": [
    "Real numbers larger than this value are represented as `inf`"
   ]
  },
  {
   "cell_type": "code",
   "execution_count": 21,
   "metadata": {},
   "outputs": [
    {
     "name": "stdout",
     "output_type": "stream",
     "text": [
      "inf\n"
     ]
    }
   ],
   "source": [
    "maxfloat = sys.float_info.max\n",
    "print(maxfloat*1.0001)"
   ]
  },
  {
   "cell_type": "markdown",
   "metadata": {
    "slideshow": {
     "slide_type": "slide"
    }
   },
   "source": [
    "### Lists"
   ]
  },
  {
   "cell_type": "markdown",
   "metadata": {},
   "source": [
    "Usually we don't just want to use a constant number of variables, all with different names. (We are dealing with a large/varying number of objects.)\n",
    "Then a `list` is used:"
   ]
  },
  {
   "cell_type": "code",
   "execution_count": 22,
   "metadata": {
    "slideshow": {
     "slide_type": "fragment"
    }
   },
   "outputs": [
    {
     "name": "stdout",
     "output_type": "stream",
     "text": [
      "[1, 1, 2, 3, 5, 8, 13, 21]\n",
      "<class 'list'>\n"
     ]
    }
   ],
   "source": [
    "a = [1, 1, 2, 3, 5, 8, 13, 21]\n",
    "print(a)\n",
    "print(type(a))"
   ]
  },
  {
   "cell_type": "markdown",
   "metadata": {
    "slideshow": {
     "slide_type": "fragment"
    }
   },
   "source": [
    "**Quiz 1**: what is printed?\n",
    "\n",
    "``` python\n",
    "a = [1, 1, 2, 3, 5, 8, 13, 21]\n",
    "i = 0\n",
    "while i < len(a):\n",
    "    x = a[i]\n",
    "    print(x**2)\n",
    "    i = i + 1\n",
    "```"
   ]
  },
  {
   "cell_type": "code",
   "execution_count": 23,
   "metadata": {
    "slideshow": {
     "slide_type": "subslide"
    }
   },
   "outputs": [
    {
     "name": "stdout",
     "output_type": "stream",
     "text": [
      "1\n",
      "1\n",
      "4\n",
      "9\n",
      "25\n",
      "64\n",
      "169\n",
      "441\n"
     ]
    }
   ],
   "source": [
    "a = [1, 1, 2, 3, 5, 8, 13, 21]\n",
    "i = 0\n",
    "while i < len(a):\n",
    "    x = a[i]\n",
    "    print(x**2)\n",
    "    i = i + 1"
   ]
  },
  {
   "cell_type": "markdown",
   "metadata": {
    "slideshow": {
     "slide_type": "fragment"
    }
   },
   "source": [
    "**Quiz 2**: what is printed?\n",
    "\n",
    "``` python\n",
    "a = [1, 1, 2, 3, 5, 8, 13, 21]\n",
    "b = []\n",
    "i = 0\n",
    "while i < len(a):\n",
    "    x = a[i]\n",
    "    b.append(x**2)\n",
    "    i = i + 1\n",
    "print(b)\n",
    "```"
   ]
  },
  {
   "cell_type": "code",
   "execution_count": 24,
   "metadata": {
    "slideshow": {
     "slide_type": "subslide"
    }
   },
   "outputs": [
    {
     "name": "stdout",
     "output_type": "stream",
     "text": [
      "[1, 1, 4, 9, 25, 64, 169, 441]\n"
     ]
    }
   ],
   "source": [
    "a = [1, 1, 2, 3, 5, 8, 13, 21]\n",
    "b = []\n",
    "i = 0\n",
    "while i < len(a):\n",
    "    x = a[i]\n",
    "    b.append(x**2)\n",
    "    i = i + 1\n",
    "print(b)"
   ]
  },
  {
   "cell_type": "markdown",
   "metadata": {
    "slideshow": {
     "slide_type": "fragment"
    }
   },
   "source": [
    "**Quiz 3**: what to iterate backwardly?"
   ]
  },
  {
   "cell_type": "code",
   "execution_count": 25,
   "metadata": {
    "slideshow": {
     "slide_type": "subslide"
    }
   },
   "outputs": [
    {
     "name": "stdout",
     "output_type": "stream",
     "text": [
      "21\n",
      "13\n",
      "8\n",
      "5\n",
      "3\n",
      "2\n",
      "1\n",
      "1\n"
     ]
    }
   ],
   "source": [
    "a = [1, 1, 2, 3, 5, 8, 13, 21]\n",
    "i = len(a)-1\n",
    "while i >= 0:\n",
    "    print(a[i])\n",
    "    i = i - 1"
   ]
  },
  {
   "cell_type": "markdown",
   "metadata": {
    "slideshow": {
     "slide_type": "fragment"
    }
   },
   "source": [
    "**Remark**\n",
    "\n",
    "- `len(a)`: gives the length of the list `a`, expressed in the number of items stored in the list.\n",
    "- `a[0]`: provides the first element of the list `a`\n",
    "- `a[-1]` or `a[len(a)-1]`: returns the last element of the list.\n",
    "\n",
    "Python uses 0-indexing, unlike e.g. Matlab using 1-indexing."
   ]
  },
  {
   "cell_type": "markdown",
   "metadata": {
    "slideshow": {
     "slide_type": "slide"
    }
   },
   "source": [
    "### for loop\n",
    "A major problem with the `while` statement is that it _easily_ to create **infinite loop**. "
   ]
  },
  {
   "cell_type": "markdown",
   "metadata": {
    "slideshow": {
     "slide_type": "fragment"
    }
   },
   "source": [
    "Example:"
   ]
  },
  {
   "cell_type": "markdown",
   "metadata": {},
   "source": [
    "``` python\n",
    "i = 0\n",
    "while i < 10:\n",
    "    print(i, end='')\n",
    "```"
   ]
  },
  {
   "cell_type": "markdown",
   "metadata": {
    "slideshow": {
     "slide_type": "fragment"
    }
   },
   "source": [
    "**Remark**: The problem is that the loop with the `while` statement often requires three different components:\n",
    "1. The initialization of the loop variable (`i`)\n",
    "2. Loop condition\n",
    "3. Update of the loop variable (`i`)"
   ]
  },
  {
   "cell_type": "markdown",
   "metadata": {
    "slideshow": {
     "slide_type": "subslide"
    }
   },
   "source": [
    "#### Use `for` loop (a little bit better loop, for most of the cases)"
   ]
  },
  {
   "cell_type": "code",
   "execution_count": 26,
   "metadata": {
    "slideshow": {
     "slide_type": "fragment"
    }
   },
   "outputs": [
    {
     "name": "stdout",
     "output_type": "stream",
     "text": [
      "0123456789"
     ]
    }
   ],
   "source": [
    "for i in range(10):\n",
    "    print(i, end='')"
   ]
  },
  {
   "cell_type": "markdown",
   "metadata": {
    "slideshow": {
     "slide_type": "subslide"
    }
   },
   "source": [
    "#### Iterate directly over lists"
   ]
  },
  {
   "cell_type": "code",
   "execution_count": 27,
   "metadata": {},
   "outputs": [
    {
     "name": "stdout",
     "output_type": "stream",
     "text": [
      "1\n",
      "1\n",
      "2\n",
      "3\n",
      "5\n",
      "8\n",
      "13\n",
      "21\n"
     ]
    }
   ],
   "source": [
    "a = [1, 1, 2, 3, 5, 8, 13, 21]\n",
    "\n",
    "for ai in a:\n",
    "    print(ai)"
   ]
  },
  {
   "cell_type": "markdown",
   "metadata": {},
   "source": [
    "Here you do not even have to remember that the first element in the list has index 0 and the last is  `len(a)-1`."
   ]
  },
  {
   "cell_type": "markdown",
   "metadata": {
    "slideshow": {
     "slide_type": "subslide"
    }
   },
   "source": [
    "#### for-loop with range (backwards)"
   ]
  },
  {
   "cell_type": "markdown",
   "metadata": {},
   "source": [
    "`range(start, stop[, step])`"
   ]
  },
  {
   "cell_type": "code",
   "execution_count": 28,
   "metadata": {},
   "outputs": [
    {
     "name": "stdout",
     "output_type": "stream",
     "text": [
      "9876543210"
     ]
    }
   ],
   "source": [
    "for i in range (9, -1, -1): print (i, end = '')"
   ]
  },
  {
   "cell_type": "code",
   "execution_count": 29,
   "metadata": {
    "slideshow": {
     "slide_type": "fragment"
    }
   },
   "outputs": [
    {
     "name": "stdout",
     "output_type": "stream",
     "text": [
      "21 13 8 5 3 2 1 1 "
     ]
    }
   ],
   "source": [
    "a = [1, 1, 2, 3, 5, 8, 13, 21]\n",
    "\n",
    "for i in range(len(a)-1, -1, -1):\n",
    "    print(a[i], end=' ')"
   ]
  },
  {
   "cell_type": "markdown",
   "metadata": {
    "slideshow": {
     "slide_type": "slide"
    }
   },
   "source": [
    "## What we have covered today\n",
    "\n",
    "### Data Types\n",
    "- Integer (int)\n",
    "- Real numbers (Float)\n",
    "- Text strings\n",
    "- Lists"
   ]
  },
  {
   "cell_type": "markdown",
   "metadata": {
    "slideshow": {
     "slide_type": "subslide"
    }
   },
   "source": [
    "### Python: A high-level language\n",
    "\n",
    "Python is a high-level language that enables rapid software development. \n",
    "With a large collection of code packages (libraries) you can quickly access functionalityas you would expect from a modern computer:\n",
    "- Advanced calculations\n",
    "- Graphics and interfaces\n",
    "- Drawing of graphs (as in Matlab)\n",
    "- Downloading of web pages\n",
    "- Data manipulation and analysis\n",
    "\n",
    "... and much more"
   ]
  },
  {
   "cell_type": "markdown",
   "metadata": {
    "slideshow": {
     "slide_type": "slide"
    }
   },
   "source": [
    "### Exercise 1: Fizz Buzz\n",
    "\n",
    "Write a program that for integers (from 1 upwards) writes:\n",
    "- 'Fizz' when the number is divisible by 3\n",
    "- 'Buzz' when the number is divisible by 5,\n",
    "- 'FizzBuzz' if the number is divisible by both 3 and 5. \n",
    "\n",
    "The program should do this for the first 100 integers."
   ]
  },
  {
   "cell_type": "markdown",
   "metadata": {},
   "source": [
    "### Exercise 1 Plus: Find prime numbers\n",
    "\n",
    "Write a program to find prime numbers below 100.\n",
    "_Prime numbers are positive integers greater than 1 that cannot be formed by multiplying two smaller natural numbers._\n",
    "\n"
   ]
  },
  {
   "cell_type": "markdown",
   "metadata": {},
   "source": [
    "### Exercise 2: Find the needle in the haystack\n",
    "\n",
    "Given a list of values. Find a specified value and print the location (index) of the value. \n",
    "If it is not found, print out that it is not in the list."
   ]
  }
 ],
 "metadata": {
  "celltoolbar": "Slideshow",
  "kernelspec": {
   "display_name": "Python 3",
   "language": "python",
   "name": "python3"
  },
  "language_info": {
   "codemirror_mode": {
    "name": "ipython",
    "version": 3
   },
   "file_extension": ".py",
   "mimetype": "text/x-python",
   "name": "python",
   "nbconvert_exporter": "python",
   "pygments_lexer": "ipython3",
   "version": "3.6.9"
  },
  "latex_envs": {
   "LaTeX_envs_menu_present": true,
   "autoclose": true,
   "autocomplete": true,
   "bibliofile": "biblio.bib",
   "cite_by": "apalike",
   "current_citInitial": 1,
   "eqLabelWithNumbers": true,
   "eqNumInitial": 1,
   "hotkeys": {
    "equation": "Ctrl-E",
    "itemize": "Ctrl-I"
   },
   "labels_anchors": false,
   "latex_user_defs": false,
   "report_style_numbering": false,
   "user_envs_cfg": false
  },
  "toc": {
   "base_numbering": 1,
   "nav_menu": {},
   "number_sections": true,
   "sideBar": true,
   "skip_h1_title": false,
   "title_cell": "Table of Contents",
   "title_sidebar": "Contents",
   "toc_cell": false,
   "toc_position": {},
   "toc_section_display": true,
   "toc_window_display": false
  },
  "varInspector": {
   "cols": {
    "lenName": 16,
    "lenType": 16,
    "lenVar": 40
   },
   "kernels_config": {
    "python": {
     "delete_cmd_postfix": "",
     "delete_cmd_prefix": "del ",
     "library": "var_list.py",
     "varRefreshCmd": "print(var_dic_list())"
    },
    "r": {
     "delete_cmd_postfix": ") ",
     "delete_cmd_prefix": "rm(",
     "library": "var_list.r",
     "varRefreshCmd": "cat(var_dic_list()) "
    }
   },
   "types_to_exclude": [
    "module",
    "function",
    "builtin_function_or_method",
    "instance",
    "_Feature"
   ],
   "window_display": false
  }
 },
 "nbformat": 4,
 "nbformat_minor": 4
}

{
 "cells": [
  {
   "cell_type": "markdown",
   "metadata": {
    "slideshow": {
     "slide_type": "slide"
    }
   },
   "source": [
    "# Programming in Python, 1TD327, 5hp\n",
    "\n",
    "Lecture 4: Dictionary, File, matplotlib\n",
    "\n",
    "- Cheng Gong\n",
    "- Email: cheng.gong@it.uu.se\n",
    "- Office: ITC 2448\n",
    "\n",
    "<br>\n",
    "\n",
    "\n",
    "Source available: [github.com/enigne/ProgramminginPython](https://github.com/enigne/ProgramminginPython)"
   ]
  },
  {
   "cell_type": "markdown",
   "metadata": {
    "slideshow": {
     "slide_type": "subslide"
    }
   },
   "source": [
    "## Last week\n",
    "\n",
    "1. Good style vs. Bad style\n",
    "    - use loop vs. copy & paste\n",
    "    - use varibales vs. use constant values\n",
    "2. Lists\n",
    "3. Strings\n",
    "4. Classes, objects and methods\n",
    "5. Testing"
   ]
  },
  {
   "cell_type": "markdown",
   "metadata": {
    "slideshow": {
     "slide_type": "subslide"
    }
   },
   "source": [
    "### About Lesson 6\n",
    "- It is easy to get the same results as in the examples, but that is not enough to say the code works. You need to test with more complicated examples. \n",
    "- No `if` statements, but also no `while`\n",
    "- Use list comprehension."
   ]
  },
  {
   "cell_type": "code",
   "execution_count": 1,
   "metadata": {
    "slideshow": {
     "slide_type": "fragment"
    }
   },
   "outputs": [],
   "source": [
    "import statistics\n",
    "\n",
    "def smooth_b(x, n):\n",
    "    return [statistics.mean(x[max(0,i-n): min(i+n+1, len(x))])\n",
    "            for i in range(len(x))]   "
   ]
  },
  {
   "cell_type": "code",
   "execution_count": 2,
   "metadata": {
    "slideshow": {
     "slide_type": "fragment"
    }
   },
   "outputs": [],
   "source": [
    "def smooth_a(x, n):\n",
    "        return [ sum(x[max(0,i-n): min(i+n+1, len(x))] + \n",
    "                     [x[0]] * max(0, n-i) + \n",
    "                     [x[-1]] * max(0, i+n+1-len(x)))\n",
    "                /(2*n+1) for i in range(len(x))]   "
   ]
  },
  {
   "cell_type": "markdown",
   "metadata": {
    "slideshow": {
     "slide_type": "slide"
    }
   },
   "source": [
    "## Today\n",
    "\n",
    "1. Dictionary\n",
    "2. File I/O\n",
    "3. matplotlib\n",
    "4. numpy, scipy, pandas"
   ]
  },
  {
   "cell_type": "markdown",
   "metadata": {
    "slideshow": {
     "slide_type": "slide"
    }
   },
   "source": [
    "### Dictionary\n",
    "\n",
    "- A python dictionary is like a list, but it is an unordered collection of items, whose indices are not necessarily numbers. \n",
    "- The index is called `keys` and can be numbers, strings, and many other data types.\n",
    "- A dictionary has a `key`:`value` pair. For each key, the dictionary holds a value. A dictionary is created by using `{}`"
   ]
  },
  {
   "cell_type": "markdown",
   "metadata": {
    "slideshow": {
     "slide_type": "fragment"
    }
   },
   "source": [
    "#### Create a dictionary\n",
    "\n",
    "In a dictionary, a key and a value always appear in pairs.\n",
    "\n",
    "Quiz: How many of these are valid Python dictionary declaration?\n",
    "\n",
    "``` python \n",
    "my_d1 = {}\n",
    "my_d2 = {1: 'apple', 2: 'banana'}\n",
    "my_d3 = dict({'apple':1, 'banana':2})\n",
    "my_d4 = dict([(1,'apple'), (2,'banana')])\n",
    "my_d5 = {'name': 'Cheng Gong', 1: [2, 4, 3]}\n",
    "```\n",
    "\n",
    "**A**. 1, **B**. 2, **C**. 3, **D**. 4, **E**. 5"
   ]
  },
  {
   "cell_type": "code",
   "execution_count": 3,
   "metadata": {
    "slideshow": {
     "slide_type": "subslide"
    }
   },
   "outputs": [
    {
     "name": "stdout",
     "output_type": "stream",
     "text": [
      "{}\n"
     ]
    }
   ],
   "source": [
    "my_d1 = {}; print(my_d1)"
   ]
  },
  {
   "cell_type": "code",
   "execution_count": 4,
   "metadata": {
    "slideshow": {
     "slide_type": "fragment"
    }
   },
   "outputs": [
    {
     "name": "stdout",
     "output_type": "stream",
     "text": [
      "{1: 'apple', 2: 'banana'}\n"
     ]
    }
   ],
   "source": [
    "my_d2 = {1: 'apple', 2: 'banana'}; print(my_d2)"
   ]
  },
  {
   "cell_type": "code",
   "execution_count": 5,
   "metadata": {
    "slideshow": {
     "slide_type": "fragment"
    }
   },
   "outputs": [
    {
     "name": "stdout",
     "output_type": "stream",
     "text": [
      "{'apple': 1, 'banana': 2}\n"
     ]
    }
   ],
   "source": [
    "my_d3 = dict({'apple':1, 'banana':2}); print(my_d3)"
   ]
  },
  {
   "cell_type": "code",
   "execution_count": 6,
   "metadata": {
    "slideshow": {
     "slide_type": "fragment"
    }
   },
   "outputs": [
    {
     "name": "stdout",
     "output_type": "stream",
     "text": [
      "{1: 'apple', 2: 'banana'}\n"
     ]
    }
   ],
   "source": [
    "my_d4 = dict([(1,'apple'), (2,'banana')]); print(my_d4)"
   ]
  },
  {
   "cell_type": "code",
   "execution_count": 7,
   "metadata": {},
   "outputs": [
    {
     "name": "stdout",
     "output_type": "stream",
     "text": [
      "{'name': 'Cheng Gong', 1: [2, 4, 3]}\n"
     ]
    }
   ],
   "source": [
    "my_d5 = {'name': 'Cheng Gong', 1: [2, 4, 3]}; print(my_d5)"
   ]
  },
  {
   "cell_type": "markdown",
   "metadata": {
    "slideshow": {
     "slide_type": "subslide"
    }
   },
   "source": [
    "#### Access elements in the dictionary\n",
    "\n",
    "Python dictionary uses `key`s to access elements. A `key` can be used either inside the square bracket or with the `get()` method."
   ]
  },
  {
   "cell_type": "code",
   "execution_count": 8,
   "metadata": {
    "slideshow": {
     "slide_type": "fragment"
    }
   },
   "outputs": [
    {
     "name": "stdout",
     "output_type": "stream",
     "text": [
      "{'name': 'Cheng Gong', 1: [2, 4, 3]}\n"
     ]
    }
   ],
   "source": [
    "print(my_d5)"
   ]
  },
  {
   "cell_type": "code",
   "execution_count": 9,
   "metadata": {
    "slideshow": {
     "slide_type": "fragment"
    }
   },
   "outputs": [
    {
     "name": "stdout",
     "output_type": "stream",
     "text": [
      "Cheng Gong\n"
     ]
    }
   ],
   "source": [
    "print(my_d5['name'])"
   ]
  },
  {
   "cell_type": "code",
   "execution_count": 10,
   "metadata": {
    "slideshow": {
     "slide_type": "fragment"
    }
   },
   "outputs": [
    {
     "name": "stdout",
     "output_type": "stream",
     "text": [
      "[2, 4, 3]\n"
     ]
    }
   ],
   "source": [
    "print(my_d5[1])"
   ]
  },
  {
   "cell_type": "code",
   "execution_count": 11,
   "metadata": {
    "slideshow": {
     "slide_type": "fragment"
    }
   },
   "outputs": [
    {
     "name": "stdout",
     "output_type": "stream",
     "text": [
      "Cheng Gong\n"
     ]
    }
   ],
   "source": [
    "print(my_d5.get('name'))"
   ]
  },
  {
   "cell_type": "markdown",
   "metadata": {
    "slideshow": {
     "slide_type": "subslide"
    }
   },
   "source": [
    "Quiz: How many errors will you get?\n",
    "``` python\n",
    "print(my_d5['1'])\n",
    "print(my_d5.get('1'))\n",
    "print(my_d5[])\n",
    "print(my_d5.get())\n",
    "print(my_d5['Cheng Gong'])\n",
    "```\n",
    "\n",
    "**A**. 1, **B**. 2, **C**. 3, **D**. 4, **E**. 5"
   ]
  },
  {
   "cell_type": "markdown",
   "metadata": {
    "slideshow": {
     "slide_type": "fragment"
    }
   },
   "source": [
    "``` python\n",
    "print(my_d5['1'])\n",
    "---------------------------------------------------------------------------\n",
    "KeyError                                  Traceback (most recent call last)\n",
    "<ipython-input-18-5ef40add46a2> in <module>\n",
    "----> 1 print(my_d5['1'])\n",
    "\n",
    "KeyError: '1'\n",
    "```"
   ]
  },
  {
   "cell_type": "code",
   "execution_count": 12,
   "metadata": {
    "slideshow": {
     "slide_type": "fragment"
    }
   },
   "outputs": [
    {
     "name": "stdout",
     "output_type": "stream",
     "text": [
      "None\n"
     ]
    }
   ],
   "source": [
    "print(my_d5.get('1'))"
   ]
  },
  {
   "cell_type": "markdown",
   "metadata": {
    "slideshow": {
     "slide_type": "subslide"
    }
   },
   "source": [
    "#### Change or add elements in a dictionary\n",
    "\n",
    "If the `key` already exists in the dictionary, its `value` will be updated, otherwise a new `key`:`value` pair will be added to the dictionary."
   ]
  },
  {
   "cell_type": "code",
   "execution_count": 13,
   "metadata": {},
   "outputs": [
    {
     "name": "stdout",
     "output_type": "stream",
     "text": [
      "{'name': 'Cheng Gong', 1: [2, 4, 3], 'address': 'Polacksbacken'}\n"
     ]
    }
   ],
   "source": [
    "my_d5['address'] = 'Polacksbacken'\n",
    "print(my_d5)"
   ]
  },
  {
   "cell_type": "code",
   "execution_count": 14,
   "metadata": {
    "slideshow": {
     "slide_type": "fragment"
    }
   },
   "outputs": [
    {
     "name": "stdout",
     "output_type": "stream",
     "text": [
      "{'name': 'Cheng Gong', 1: [2, 4, 3], 'address': 'ITC'}\n"
     ]
    }
   ],
   "source": [
    "my_d5['address'] = 'ITC'\n",
    "print(my_d5)"
   ]
  },
  {
   "cell_type": "markdown",
   "metadata": {
    "slideshow": {
     "slide_type": "subslide"
    }
   },
   "source": [
    "#### Remove or delete elements from a dictionary\n",
    "\n",
    "- Remove a particular item in a dictionary by using the method `pop()`. This method removes as item with the provided key and returns the value.\n",
    "- The method `popitem()` can be used to remove and return an arbitrary pair `(key, value)` from the dictionary. \n",
    "- The method `clear()` removes all the items from the dictionary.\n",
    "- The keyword `del` can be used to remove individual items or the entire dictionary itself."
   ]
  },
  {
   "cell_type": "code",
   "execution_count": 15,
   "metadata": {
    "slideshow": {
     "slide_type": "fragment"
    }
   },
   "outputs": [
    {
     "name": "stdout",
     "output_type": "stream",
     "text": [
      "[2, 4, 3]\n",
      "{'name': 'Cheng Gong', 'address': 'ITC'}\n"
     ]
    }
   ],
   "source": [
    "print(my_d5.pop(1))\n",
    "print(my_d5)"
   ]
  },
  {
   "cell_type": "code",
   "execution_count": 16,
   "metadata": {
    "slideshow": {
     "slide_type": "fragment"
    }
   },
   "outputs": [
    {
     "name": "stdout",
     "output_type": "stream",
     "text": [
      "('address', 'ITC')\n",
      "{'name': 'Cheng Gong'}\n"
     ]
    }
   ],
   "source": [
    "print(my_d5.popitem())\n",
    "print(my_d5)"
   ]
  },
  {
   "cell_type": "code",
   "execution_count": 17,
   "metadata": {
    "slideshow": {
     "slide_type": "fragment"
    }
   },
   "outputs": [
    {
     "name": "stdout",
     "output_type": "stream",
     "text": [
      "{}\n"
     ]
    }
   ],
   "source": [
    "del my_d5['name']\n",
    "print(my_d5)"
   ]
  },
  {
   "cell_type": "markdown",
   "metadata": {
    "slideshow": {
     "slide_type": "subslide"
    }
   },
   "source": [
    "#### Dictionary methods\n",
    "\n",
    "The `dict` class contains a few more methods, for instance `keys()`, `values()`, `key in d`, etc. Read the full list of the [**dict methods**](https://docs.python.org/3/library/stdtypes.html#typesmapping)."
   ]
  },
  {
   "cell_type": "code",
   "execution_count": 18,
   "metadata": {
    "slideshow": {
     "slide_type": "fragment"
    }
   },
   "outputs": [
    {
     "name": "stdout",
     "output_type": "stream",
     "text": [
      "{'Sweden': 10.3, 'Norway': 5.3, 'Finland': 5.5}\n"
     ]
    }
   ],
   "source": [
    "nations = ['Sweden', 'Norway', 'Finland']\n",
    "popus = [10.3, 5.3, 5.5]\n",
    "dict_population = dict(zip(nations, popus))\n",
    "print(dict_population)"
   ]
  },
  {
   "cell_type": "code",
   "execution_count": 19,
   "metadata": {
    "slideshow": {
     "slide_type": "fragment"
    }
   },
   "outputs": [
    {
     "name": "stdout",
     "output_type": "stream",
     "text": [
      "dict_items([('Sweden', 10.3), ('Norway', 5.3), ('Finland', 5.5)])\n"
     ]
    }
   ],
   "source": [
    "print(dict_population.items())"
   ]
  },
  {
   "cell_type": "code",
   "execution_count": 20,
   "metadata": {
    "slideshow": {
     "slide_type": "fragment"
    }
   },
   "outputs": [
    {
     "name": "stdout",
     "output_type": "stream",
     "text": [
      "dict_keys(['Sweden', 'Norway', 'Finland'])\n"
     ]
    }
   ],
   "source": [
    "print(dict_population.keys())"
   ]
  },
  {
   "cell_type": "code",
   "execution_count": 21,
   "metadata": {
    "slideshow": {
     "slide_type": "fragment"
    }
   },
   "outputs": [
    {
     "name": "stdout",
     "output_type": "stream",
     "text": [
      "dict_values([10.3, 5.3, 5.5])\n"
     ]
    }
   ],
   "source": [
    "print(dict_population.values())"
   ]
  },
  {
   "cell_type": "markdown",
   "metadata": {
    "slideshow": {
     "slide_type": "subslide"
    }
   },
   "source": [
    "#### Dictionary Comprehension\n",
    "\n",
    "Similar as list comprehension, dictionary comprehension is an elegant and concise way to create new dictionary from an iterable in Python."
   ]
  },
  {
   "cell_type": "code",
   "execution_count": 22,
   "metadata": {},
   "outputs": [
    {
     "name": "stdout",
     "output_type": "stream",
     "text": [
      "{'Sweden': 10.3, 'Norway': 5.3, 'Finland': 5.5}\n"
     ]
    }
   ],
   "source": [
    "my_d6 = {nations[n]:popus[n] for n in range(len(nations))}\n",
    "print(my_d6)"
   ]
  },
  {
   "cell_type": "markdown",
   "metadata": {
    "slideshow": {
     "slide_type": "slide"
    }
   },
   "source": [
    "### File I/O"
   ]
  },
  {
   "cell_type": "markdown",
   "metadata": {
    "slideshow": {
     "slide_type": "subslide"
    }
   },
   "source": [
    "####  Open a file\n",
    "\n",
    "- Python has a built-in function `open()` to open a file. This function returns a `file` object, as it is used to read or modify the file accordingly.\n",
    "- `open()` has some optional arguments: `mode='rt'`, `encoding=None`, etc.\n",
    "- Because of the encoding are different on Window, Linux, and Mac. It is highly recommanded to specify the encoding tpye when working with text mode.\n",
    "\n",
    "| Mode \t| Description                                                                                               \t|\n",
    "|:----:\t|-----------------------------------------------------------------------------------------------------------\t|\n",
    "|  'r' \t| Open a file for reading. (default)                                                                        \t|\n",
    "|  'w' \t| Open a file for writing. Creates a new file if it does not exist or truncates the file if it exists.      \t|\n",
    "|  'x' \t| Open a file for exclusive creation. If the file already exists, the operation fails.                      \t|\n",
    "| 'a'  \t| Open for appending at the end of the file without truncating it. Creates a new file if it does not exist. \t|\n",
    "| 't'  \t| Open in text mode. (default)                                                                              \t|\n",
    "| 'b'  \t| Open in binary mode.                                                                                      \t|\n",
    "| '+'  \t| Open a file for updating (reading and writing)                                                            \t|\n",
    "\n",
    "Read more explainations on the [offical document](https://docs.python.org/3/library/functions.html#open)"
   ]
  },
  {
   "cell_type": "code",
   "execution_count": 23,
   "metadata": {
    "slideshow": {
     "slide_type": "fragment"
    }
   },
   "outputs": [],
   "source": [
    "f = open('Lecture4.ipynb')"
   ]
  },
  {
   "cell_type": "code",
   "execution_count": 24,
   "metadata": {},
   "outputs": [],
   "source": [
    "f = open('Lecture4.ipynb','rt')"
   ]
  },
  {
   "cell_type": "code",
   "execution_count": 25,
   "metadata": {},
   "outputs": [],
   "source": [
    "f = open('Lecture4.ipynb','r+t',encoding = 'utf-8')"
   ]
  },
  {
   "cell_type": "markdown",
   "metadata": {
    "slideshow": {
     "slide_type": "subslide"
    }
   },
   "source": [
    "####  Close a file\n",
    "\n",
    "- After the operations to the file, we **have to close the file properly** with the `close()` method.\n",
    "- Closing a file will free the memory that were tied with the file\n",
    "- Python has an automatic garbage collector to clean up unreferenced objects, but we must not rely on it to close the file."
   ]
  },
  {
   "cell_type": "markdown",
   "metadata": {
    "slideshow": {
     "slide_type": "subslide"
    }
   },
   "source": [
    "- One way is to have `open()` and `close()` in pairs. **However, this method is not entirely safe.**\n",
    "For example:"
   ]
  },
  {
   "cell_type": "code",
   "execution_count": 26,
   "metadata": {},
   "outputs": [],
   "source": [
    "f = open('Lecture4.ipynb','r+t',encoding = 'utf-8')\n",
    "# perform some operations\n",
    "f.close()"
   ]
  },
  {
   "cell_type": "markdown",
   "metadata": {
    "slideshow": {
     "slide_type": "fragment"
    }
   },
   "source": [
    "- If an exception occurs when we are performing some operations with the file, the code exits without closing the file."
   ]
  },
  {
   "cell_type": "markdown",
   "metadata": {
    "slideshow": {
     "slide_type": "fragment"
    }
   },
   "source": [
    "##### __The best way is to use `with` statement__\n",
    "\n",
    "```python\n",
    "with open('Lecture4.ipynb','r+t',encoding = 'utf-8') as f:\n",
    "    # perform some operations\n",
    "```\n",
    "\n",
    "This ensures that the file is closed when the block inside `with` exits and we don't need to explicitly call the `close()` method. It is done internally."
   ]
  },
  {
   "cell_type": "markdown",
   "metadata": {
    "slideshow": {
     "slide_type": "subslide"
    }
   },
   "source": [
    "####  Read/Write\n",
    "\n",
    "- The methods `read()` and `readline()` require the file object opened with `'r'`.\n",
    "- The methods `write()` and `writeline()` require the file object opened with `'w'`, `'a'` or `'x'`.\n",
    "\n",
    "\n",
    "More details are in: [Methods of File Objects](https://docs.python.org/3/tutorial/inputoutput.html#methods-of-file-objects)"
   ]
  },
  {
   "cell_type": "markdown",
   "metadata": {
    "slideshow": {
     "slide_type": "subslide"
    }
   },
   "source": [
    "####  Other types ---- CSV\n",
    "\n",
    "The **CSV** (Comma Separated Values) format is the most common import and export format for spreadsheets and databases. \n",
    "\n",
    "More details are available in the official document of [csv module](https://docs.python.org/3/library/csv.html#module-csv).\n"
   ]
  },
  {
   "cell_type": "markdown",
   "metadata": {
    "slideshow": {
     "slide_type": "subslide"
    }
   },
   "source": [
    "##### Read CSV\n",
    "we use `csv.reader()` module to read the csv file. \n",
    "\n",
    "Example file `people.csv`\n",
    "``` \n",
    "No, Name, country\n",
    "1, Alex, USA\n",
    "2, Erik, Sweden\n",
    "3, Cheng, China\n",
    "```"
   ]
  },
  {
   "cell_type": "code",
   "execution_count": 27,
   "metadata": {
    "slideshow": {
     "slide_type": "fragment"
    }
   },
   "outputs": [
    {
     "name": "stdout",
     "output_type": "stream",
     "text": [
      "['No', ' Name', ' country']\n",
      "['1', ' Alex', ' USA']\n",
      "['2', ' Erik', ' Sweden']\n",
      "['3', ' Cheng', ' China']\n"
     ]
    }
   ],
   "source": [
    "import csv\n",
    "\n",
    "with open('people.csv', 'r') as csvFile:\n",
    "    reader = csv.reader(csvFile)\n",
    "    for row in reader:\n",
    "        print(row)"
   ]
  },
  {
   "cell_type": "markdown",
   "metadata": {
    "slideshow": {
     "slide_type": "subslide"
    }
   },
   "source": [
    "Use list/dictionary comprehension to put the data into a list/dictionary.\n",
    "\n",
    "Example:"
   ]
  },
  {
   "cell_type": "code",
   "execution_count": 28,
   "metadata": {},
   "outputs": [
    {
     "name": "stdout",
     "output_type": "stream",
     "text": [
      "{' Alex': ' USA', ' Erik': ' Sweden', ' Cheng': ' China'}\n"
     ]
    }
   ],
   "source": [
    "import csv\n",
    "\n",
    "with open('people.csv', 'r') as csvFile:\n",
    "    reader = csv.reader(csvFile)\n",
    "    next(reader, None)  # skip the headers\n",
    "    people_dict = {row[1]: row[2] for row in reader}\n",
    "\n",
    "print(people_dict)"
   ]
  },
  {
   "cell_type": "markdown",
   "metadata": {
    "slideshow": {
     "slide_type": "slide"
    }
   },
   "source": [
    "### Matplotlib\n",
    "\n",
    "\n",
    "- [Matplotlib](https://matplotlib.org/) is the most popular Python module for plotting.  It offers many customization options, and similar plotting functionnalities as Matlab. \n",
    "\n",
    "- You might need to install this module on your computer, the installation instruction is [here](https://matplotlib.org/faq/installing_faq.html#installation). _If there is any problem with the installation, do not hesitate to ask the teacher._\n",
    "\n",
    "- The most common way to learn matplotli is from examples and [tutorials](https://matplotlib.org/tutorials/index.html#)\n",
    "\n",
    "- Some official examples of `matplotlib` are available [here](https://matplotlib.org/tutorials/introductory/sample_plots.html) and [there](https://matplotlib.org/gallery/index.html).\n"
   ]
  },
  {
   "cell_type": "code",
   "execution_count": 29,
   "metadata": {
    "slideshow": {
     "slide_type": "skip"
    }
   },
   "outputs": [],
   "source": [
    "import matplotlib.pyplot as plt\n",
    "plt.show()"
   ]
  },
  {
   "cell_type": "markdown",
   "metadata": {
    "slideshow": {
     "slide_type": "subslide"
    }
   },
   "source": [
    "#### Example 1: The first plot\n",
    "\n",
    "A figure of the voltage changes in time. $V=\\sin{\\frac{2\\pi t}{L}}$ with $t\\in[0,L)$ and $L=100$."
   ]
  },
  {
   "cell_type": "code",
   "execution_count": 30,
   "metadata": {},
   "outputs": [
    {
     "data": {
      "image/png": "[encoded data removed]",
      "text/plain": [
       "<Figure size 432x288 with 1 Axes>"
      ]
     },
     "metadata": {
      "needs_background": "light"
     },
     "output_type": "display_data"
    }
   ],
   "source": [
    "import matplotlib.pyplot as plt\n",
    "from math import pi,sin\n",
    "L = 100\n",
    "time = list(range(L))\n",
    "Voltage = [sin(2*pi*t/L) for t in time]\n",
    "fig, ax = plt.subplots()\n",
    "ax.plot(time, Voltage)\n",
    "ax.set(xlabel='time (s)', ylabel='voltage (mV)', title='Example 1')\n",
    "ax.grid()\n",
    "fig.savefig(\"test.png\")\n",
    "plt.show()"
   ]
  },
  {
   "cell_type": "markdown",
   "metadata": {
    "slideshow": {
     "slide_type": "subslide"
    }
   },
   "source": [
    "* `import matplotlib.pyplot as plt` to use the plot functions from `matplotlib` module and rename it to `plt`.\n",
    "* `fig, ax = plt.subplots` sets up the figure's frame.\n",
    "* `ax.plot(time, Voltage)` plots the the data contained in `time` and `Voltage`. These are `lists`, but can also be 'arraies', which will be covered later during the course.\n",
    "* `ax.set(xlabel='time (s)', ylabel='voltage (mV)', title='Example 1')` sets the labels for each axis, as well as the title of the figure.\n",
    "* `ax.grid()` turns on the grid in the figure, useful when you need to read values from the curve.\n",
    "* `fig.savefig(\"test.png\")` saves the figure to a `.png` files. `Matplotlib` supports many other formats. In particular, it supports vector graphics (`.pdf`, `.eps`, `.svg`), which are usually of better quality than bitmap formats (`.png` and `.jpg`).\n",
    "* `plt.show()` displays the figure in a new window."
   ]
  },
  {
   "cell_type": "markdown",
   "metadata": {
    "slideshow": {
     "slide_type": "subslide"
    }
   },
   "source": [
    "#### Example 2: Change some feature"
   ]
  },
  {
   "cell_type": "code",
   "execution_count": 31,
   "metadata": {},
   "outputs": [
    {
     "data": {
      "image/png": "[encoded data removed]",
      "text/plain": [
       "<Figure size 432x288 with 1 Axes>"
      ]
     },
     "metadata": {
      "needs_background": "light"
     },
     "output_type": "display_data"
    }
   ],
   "source": [
    "fig, ax = plt.subplots()\n",
    "negV = [-v for v in Voltage]\n",
    "ax.plot(time, Voltage, color='C0', linestyle='--', label='V')\n",
    "ax.plot(time, negV, color='C1', linestyle=':', linewidth=4, label='negative V')\n",
    "ax.set(xlabel='time (s)', ylabel='voltage (mV)', title='Example 1')\n",
    "ax.set(xlim=[0,100], ylim=[-1,1])\n",
    "ax.legend()\n",
    "plt.show()"
   ]
  },
  {
   "cell_type": "markdown",
   "metadata": {
    "slideshow": {
     "slide_type": "subslide"
    }
   },
   "source": [
    "* In `plot`, the optional argument `color` changes the color of the line. One commonly used set of colors is from `'C0'` to `'C9'`. Learn more in [matplotlib color](https://matplotlib.org/3.1.1/tutorials/colors/colors.html).\n",
    "* Another optional argument is `linestyle` or `ls`, learn more in [linestyles](https://matplotlib.org/3.1.0/gallery/lines_bars_and_markers/linestyles.html).\n",
    "* The width of the line is controlled by `linewidth` or `lw`.\n",
    "* The optional aargument `label` is used to set the names shown in the legend.\n",
    "* You can control the domain of the figure by set `xlim` and `ylim`."
   ]
  },
  {
   "cell_type": "markdown",
   "metadata": {
    "slideshow": {
     "slide_type": "subslide"
    }
   },
   "source": [
    "#### Example 3: The scatter plot"
   ]
  },
  {
   "cell_type": "code",
   "execution_count": 32,
   "metadata": {},
   "outputs": [
    {
     "data": {
      "image/png": "[encoded data removed]",
      "text/plain": [
       "<Figure size 360x360 with 1 Axes>"
      ]
     },
     "metadata": {
      "needs_background": "light"
     },
     "output_type": "display_data"
    }
   ],
   "source": [
    "import matplotlib.pyplot as plt\n",
    "import random\n",
    "\n",
    "random.seed(20191126)\n",
    "fig, ax = plt.subplots(figsize=(5, 5))\n",
    "N = 50\n",
    "for color in ['tab:blue', 'tab:orange', 'tab:green']:\n",
    "    x = [200**random.random() for i in range(N)]\n",
    "    y = [200**random.random() for i in range(N)]\n",
    "    scale = [500*random.random() for i in range(N)]\n",
    "    ax.scatter(x,y,s=scale,c=color,label=color,alpha=0.3,edgecolors='none')\n",
    "ax.legend()\n",
    "plt.show()"
   ]
  },
  {
   "cell_type": "markdown",
   "metadata": {
    "slideshow": {
     "slide_type": "subslide"
    }
   },
   "source": [
    "* The position of each circle is controlled by (x, y) coordinates.\n",
    "* The size is determined by optional argument `s`\n",
    "* The color is controlled by `c`, \n",
    "* The argument `alpha` between 0 to 1 is the transparency level.\n",
    "* You can change the [shape of the markers](https://matplotlib.org/3.1.1/api/markers_api.html#module-matplotlib.markers).\n",
    "* Other things like log-log plot, annotation, colormap, etc, can be easily found on the internet and in the offical document."
   ]
  },
  {
   "cell_type": "markdown",
   "metadata": {
    "slideshow": {
     "slide_type": "subslide"
    }
   },
   "source": [
    "#### Example 4: The log-log plot"
   ]
  },
  {
   "cell_type": "code",
   "execution_count": 33,
   "metadata": {},
   "outputs": [
    {
     "data": {
      "image/png": "[encoded data removed]",
      "text/plain": [
       "<Figure size 288x288 with 1 Axes>"
      ]
     },
     "metadata": {
      "needs_background": "light"
     },
     "output_type": "display_data"
    }
   ],
   "source": [
    "import matplotlib.pyplot as plt\n",
    "import random\n",
    "random.seed(20191126)\n",
    "fig, ax = plt.subplots(figsize=(4, 4))\n",
    "N = 50\n",
    "for color in ['tab:blue', 'tab:orange', 'tab:green']:\n",
    "    x = [200**random.random() for i in range(N)]\n",
    "    y = [200**random.random() for i in range(N)]\n",
    "    scale = [500*random.random() for i in range(N)]\n",
    "    ax.scatter(x,y,s=scale,c=color,label=color,alpha=0.3,edgecolors='none')\n",
    "ax.set_xscale('log')\n",
    "ax.set_yscale('log')\n",
    "ax.legend()\n",
    "plt.show()"
   ]
  },
  {
   "cell_type": "markdown",
   "metadata": {
    "slideshow": {
     "slide_type": "subslide"
    }
   },
   "source": [
    "- `ax.set_xscale('log')` set the x-axis to log scaling. There are a few more options available on the [official document](https://matplotlib.org/3.1.1/api/_as_gen/matplotlib.axes.Axes.set_xscale.html#matplotlib.axes.Axes.set_xscale)."
   ]
  },
  {
   "cell_type": "markdown",
   "metadata": {
    "slideshow": {
     "slide_type": "slide"
    }
   },
   "source": [
    "### About MINI project 1\n",
    "\n",
    "Already available [lesson 9](http://www.it.uu.se/edu/course/homepage/prog1/english/lessons/le09/)."
   ]
  },
  {
   "cell_type": "markdown",
   "metadata": {
    "slideshow": {
     "slide_type": "slide"
    }
   },
   "source": [
    "### NumPy, SciPy and Pandas\n",
    "\n",
    "* [**NumPy**](https://numpy.org/) is a Python library for multi-dimensional arrays and matrices, along with a large collection of high-level mathematical functions to operate on these arrays.\n",
    "* [**SciPy**](https://www.scipy.org/) is a Python library for scientific computing. It contains modules for optimization, linear algebra, integration, interpolation, special functions, FFT, signal and image processing, ODE solvers and other tasks common in science and engineering.\n",
    "* [**Pandas**](https://pandas.pydata.org/) is a Python library for data manipulation and analysis. It offers data structures and operations for manipulating numerical tables and time series. \n",
    "\n",
    "**For the last MINI project, you need to install these libraries**"
   ]
  }
 ],
 "metadata": {
  "kernelspec": {
   "display_name": "Python 3",
   "language": "python",
   "name": "python3"
  },
  "language_info": {
   "codemirror_mode": {
    "name": "ipython",
    "version": 3
   },
   "file_extension": ".py",
   "mimetype": "text/x-python",
   "name": "python",
   "nbconvert_exporter": "python",
   "pygments_lexer": "ipython3",
   "version": "3.6.9"
  }
 },
 "nbformat": 4,
 "nbformat_minor": 4
}
